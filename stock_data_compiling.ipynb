{
 "cells": [
  {
   "cell_type": "markdown",
   "metadata": {
    "collapsed": true,
    "pycharm": {
     "name": "#%% md\n"
    }
   },
   "source": [
    "# Compiling Senator and House of Representatives Stock Trading Data\n"
   ]
  },
  {
   "cell_type": "code",
   "execution_count": 1,
   "outputs": [],
   "source": [
    "import pandas as pd\n",
    "import numpy as np\n",
    "import yfinance as yf"
   ],
   "metadata": {
    "collapsed": false,
    "pycharm": {
     "name": "#%%\n"
    }
   }
  },
  {
   "cell_type": "code",
   "execution_count": 36,
   "outputs": [
    {
     "data": {
      "text/plain": "  transaction_date   owner ticker            type              amount comment  \\\n0       2021-08-18   Joint   SSYS        Purchase    $1,001 - $15,000      --   \n1       2021-08-12   Joint   SSBK        Purchase  $50,001 - $100,000      --   \n2       2021-08-23  Spouse   LMRK     Sale (Full)    $1,001 - $15,000      --   \n3       2021-08-11  Spouse     WW        Purchase    $1,001 - $15,000      --   \n4       2021-08-04  Spouse    ARE  Sale (Partial)    $1,001 - $15,000      --   \n\n               senator  transaction_year  transaction_month  transaction_day  \\\n0  Thomas H Tuberville              2021                  8               18   \n1  Thomas H Tuberville              2021                  8               12   \n2      Thomas R Carper              2021                  8               23   \n3      Thomas R Carper              2021                  8               11   \n4      Thomas R Carper              2021                  8                4   \n\n   amount_lower  amount_upper  \n0          1001         15000  \n1         50001        100000  \n2          1001         15000  \n3          1001         15000  \n4          1001         15000  ",
      "text/html": "<div>\n<style scoped>\n    .dataframe tbody tr th:only-of-type {\n        vertical-align: middle;\n    }\n\n    .dataframe tbody tr th {\n        vertical-align: top;\n    }\n\n    .dataframe thead th {\n        text-align: right;\n    }\n</style>\n<table border=\"1\" class=\"dataframe\">\n  <thead>\n    <tr style=\"text-align: right;\">\n      <th></th>\n      <th>transaction_date</th>\n      <th>owner</th>\n      <th>ticker</th>\n      <th>type</th>\n      <th>amount</th>\n      <th>comment</th>\n      <th>senator</th>\n      <th>transaction_year</th>\n      <th>transaction_month</th>\n      <th>transaction_day</th>\n      <th>amount_lower</th>\n      <th>amount_upper</th>\n    </tr>\n  </thead>\n  <tbody>\n    <tr>\n      <th>0</th>\n      <td>2021-08-18</td>\n      <td>Joint</td>\n      <td>SSYS</td>\n      <td>Purchase</td>\n      <td>$1,001 - $15,000</td>\n      <td>--</td>\n      <td>Thomas H Tuberville</td>\n      <td>2021</td>\n      <td>8</td>\n      <td>18</td>\n      <td>1001</td>\n      <td>15000</td>\n    </tr>\n    <tr>\n      <th>1</th>\n      <td>2021-08-12</td>\n      <td>Joint</td>\n      <td>SSBK</td>\n      <td>Purchase</td>\n      <td>$50,001 - $100,000</td>\n      <td>--</td>\n      <td>Thomas H Tuberville</td>\n      <td>2021</td>\n      <td>8</td>\n      <td>12</td>\n      <td>50001</td>\n      <td>100000</td>\n    </tr>\n    <tr>\n      <th>2</th>\n      <td>2021-08-23</td>\n      <td>Spouse</td>\n      <td>LMRK</td>\n      <td>Sale (Full)</td>\n      <td>$1,001 - $15,000</td>\n      <td>--</td>\n      <td>Thomas R Carper</td>\n      <td>2021</td>\n      <td>8</td>\n      <td>23</td>\n      <td>1001</td>\n      <td>15000</td>\n    </tr>\n    <tr>\n      <th>3</th>\n      <td>2021-08-11</td>\n      <td>Spouse</td>\n      <td>WW</td>\n      <td>Purchase</td>\n      <td>$1,001 - $15,000</td>\n      <td>--</td>\n      <td>Thomas R Carper</td>\n      <td>2021</td>\n      <td>8</td>\n      <td>11</td>\n      <td>1001</td>\n      <td>15000</td>\n    </tr>\n    <tr>\n      <th>4</th>\n      <td>2021-08-04</td>\n      <td>Spouse</td>\n      <td>ARE</td>\n      <td>Sale (Partial)</td>\n      <td>$1,001 - $15,000</td>\n      <td>--</td>\n      <td>Thomas R Carper</td>\n      <td>2021</td>\n      <td>8</td>\n      <td>4</td>\n      <td>1001</td>\n      <td>15000</td>\n    </tr>\n  </tbody>\n</table>\n</div>"
     },
     "execution_count": 36,
     "metadata": {},
     "output_type": "execute_result"
    }
   ],
   "source": [
    "senator_trades = pd.read_csv(\"data/cleaned/all_transactions_senate.csv\")\n",
    "senator_trades = senator_trades.drop(\"Unnamed: 0\", axis=1)\n",
    "senator_trades.head()"
   ],
   "metadata": {
    "collapsed": false,
    "pycharm": {
     "name": "#%%\n"
    }
   }
  },
  {
   "cell_type": "code",
   "execution_count": 39,
   "outputs": [
    {
     "data": {
      "text/plain": "     transaction_date   owner  ticker      type               amount  \\\n102        2021-06-02    Self     MRK  Exchange     $1,001 - $15,000   \n107        2021-05-17    Self  FL4.SG  Exchange    $15,001 - $50,000   \n114        2020-04-01   Joint      VZ  Exchange     $1,001 - $15,000   \n151        2021-02-05  Spouse      DD  Exchange     $1,001 - $15,000   \n223        2020-12-15    Self     AIV  Exchange    $15,001 - $50,000   \n...               ...     ...     ...       ...                  ...   \n4738       2016-06-01  Spouse     WCN  Exchange    $15,001 - $50,000   \n5021       2016-01-19  Spouse      CB  Exchange     $1,001 - $15,000   \n5262       2015-07-06    Self     KHC  Exchange  $250,001 - $500,000   \n5263       2015-07-06    Self    KRFT  Exchange  $250,001 - $500,000   \n5711       2015-01-27    Self     MDT  Exchange    $15,001 - $50,000   \n\n                                                comment  \\\n102                                                  --   \n107   FLIR Systems Merger With TeledyneAsset Held in...   \n114   Exchange occurred as a result of the Sprint/T-...   \n151                                                  --   \n223   Exchange of stock due to partial corporate spi...   \n...                                                 ...   \n4738  Waste Connections/Progressive Waste stock merg...   \n5021            MANDATORY MERGER FROM CHUBB CORPORATION   \n5262  Recived cash and shares of KHC in exchange for...   \n5263  Merger of KRFT and KHC, results in receiving c...   \n5711  Exchanged 350 shares of Meditronic Inc to Medt...   \n\n                    senator  transaction_year  transaction_month  \\\n102     John W Hickenlooper              2021                  6   \n107   William F Hagerty, Iv              2021                  5   \n114            Jerry Moran,              2020                  4   \n151         Thomas R Carper              2021                  2   \n223        Patrick J Toomey              2020                 12   \n...                     ...               ...                ...   \n4738        Susan M Collins              2016                  6   \n5021      Angus S King, Jr.              2016                  1   \n5262            John Hoeven              2015                  7   \n5263            John Hoeven              2015                  7   \n5711          Gary C Peters              2015                  1   \n\n      transaction_day  amount_lower  amount_upper  \n102                 2          1001         15000  \n107                17         15001         50000  \n114                 1          1001         15000  \n151                 5          1001         15000  \n223                15         15001         50000  \n...               ...           ...           ...  \n4738                1         15001         50000  \n5021               19          1001         15000  \n5262                6        250001        500000  \n5263                6        250001        500000  \n5711               27         15001         50000  \n\n[66 rows x 12 columns]",
      "text/html": "<div>\n<style scoped>\n    .dataframe tbody tr th:only-of-type {\n        vertical-align: middle;\n    }\n\n    .dataframe tbody tr th {\n        vertical-align: top;\n    }\n\n    .dataframe thead th {\n        text-align: right;\n    }\n</style>\n<table border=\"1\" class=\"dataframe\">\n  <thead>\n    <tr style=\"text-align: right;\">\n      <th></th>\n      <th>transaction_date</th>\n      <th>owner</th>\n      <th>ticker</th>\n      <th>type</th>\n      <th>amount</th>\n      <th>comment</th>\n      <th>senator</th>\n      <th>transaction_year</th>\n      <th>transaction_month</th>\n      <th>transaction_day</th>\n      <th>amount_lower</th>\n      <th>amount_upper</th>\n    </tr>\n  </thead>\n  <tbody>\n    <tr>\n      <th>102</th>\n      <td>2021-06-02</td>\n      <td>Self</td>\n      <td>MRK</td>\n      <td>Exchange</td>\n      <td>$1,001 - $15,000</td>\n      <td>--</td>\n      <td>John W Hickenlooper</td>\n      <td>2021</td>\n      <td>6</td>\n      <td>2</td>\n      <td>1001</td>\n      <td>15000</td>\n    </tr>\n    <tr>\n      <th>107</th>\n      <td>2021-05-17</td>\n      <td>Self</td>\n      <td>FL4.SG</td>\n      <td>Exchange</td>\n      <td>$15,001 - $50,000</td>\n      <td>FLIR Systems Merger With TeledyneAsset Held in...</td>\n      <td>William F Hagerty, Iv</td>\n      <td>2021</td>\n      <td>5</td>\n      <td>17</td>\n      <td>15001</td>\n      <td>50000</td>\n    </tr>\n    <tr>\n      <th>114</th>\n      <td>2020-04-01</td>\n      <td>Joint</td>\n      <td>VZ</td>\n      <td>Exchange</td>\n      <td>$1,001 - $15,000</td>\n      <td>Exchange occurred as a result of the Sprint/T-...</td>\n      <td>Jerry Moran,</td>\n      <td>2020</td>\n      <td>4</td>\n      <td>1</td>\n      <td>1001</td>\n      <td>15000</td>\n    </tr>\n    <tr>\n      <th>151</th>\n      <td>2021-02-05</td>\n      <td>Spouse</td>\n      <td>DD</td>\n      <td>Exchange</td>\n      <td>$1,001 - $15,000</td>\n      <td>--</td>\n      <td>Thomas R Carper</td>\n      <td>2021</td>\n      <td>2</td>\n      <td>5</td>\n      <td>1001</td>\n      <td>15000</td>\n    </tr>\n    <tr>\n      <th>223</th>\n      <td>2020-12-15</td>\n      <td>Self</td>\n      <td>AIV</td>\n      <td>Exchange</td>\n      <td>$15,001 - $50,000</td>\n      <td>Exchange of stock due to partial corporate spi...</td>\n      <td>Patrick J Toomey</td>\n      <td>2020</td>\n      <td>12</td>\n      <td>15</td>\n      <td>15001</td>\n      <td>50000</td>\n    </tr>\n    <tr>\n      <th>...</th>\n      <td>...</td>\n      <td>...</td>\n      <td>...</td>\n      <td>...</td>\n      <td>...</td>\n      <td>...</td>\n      <td>...</td>\n      <td>...</td>\n      <td>...</td>\n      <td>...</td>\n      <td>...</td>\n      <td>...</td>\n    </tr>\n    <tr>\n      <th>4738</th>\n      <td>2016-06-01</td>\n      <td>Spouse</td>\n      <td>WCN</td>\n      <td>Exchange</td>\n      <td>$15,001 - $50,000</td>\n      <td>Waste Connections/Progressive Waste stock merg...</td>\n      <td>Susan M Collins</td>\n      <td>2016</td>\n      <td>6</td>\n      <td>1</td>\n      <td>15001</td>\n      <td>50000</td>\n    </tr>\n    <tr>\n      <th>5021</th>\n      <td>2016-01-19</td>\n      <td>Spouse</td>\n      <td>CB</td>\n      <td>Exchange</td>\n      <td>$1,001 - $15,000</td>\n      <td>MANDATORY MERGER FROM CHUBB CORPORATION</td>\n      <td>Angus S King, Jr.</td>\n      <td>2016</td>\n      <td>1</td>\n      <td>19</td>\n      <td>1001</td>\n      <td>15000</td>\n    </tr>\n    <tr>\n      <th>5262</th>\n      <td>2015-07-06</td>\n      <td>Self</td>\n      <td>KHC</td>\n      <td>Exchange</td>\n      <td>$250,001 - $500,000</td>\n      <td>Recived cash and shares of KHC in exchange for...</td>\n      <td>John Hoeven</td>\n      <td>2015</td>\n      <td>7</td>\n      <td>6</td>\n      <td>250001</td>\n      <td>500000</td>\n    </tr>\n    <tr>\n      <th>5263</th>\n      <td>2015-07-06</td>\n      <td>Self</td>\n      <td>KRFT</td>\n      <td>Exchange</td>\n      <td>$250,001 - $500,000</td>\n      <td>Merger of KRFT and KHC, results in receiving c...</td>\n      <td>John Hoeven</td>\n      <td>2015</td>\n      <td>7</td>\n      <td>6</td>\n      <td>250001</td>\n      <td>500000</td>\n    </tr>\n    <tr>\n      <th>5711</th>\n      <td>2015-01-27</td>\n      <td>Self</td>\n      <td>MDT</td>\n      <td>Exchange</td>\n      <td>$15,001 - $50,000</td>\n      <td>Exchanged 350 shares of Meditronic Inc to Medt...</td>\n      <td>Gary C Peters</td>\n      <td>2015</td>\n      <td>1</td>\n      <td>27</td>\n      <td>15001</td>\n      <td>50000</td>\n    </tr>\n  </tbody>\n</table>\n<p>66 rows × 12 columns</p>\n</div>"
     },
     "execution_count": 39,
     "metadata": {},
     "output_type": "execute_result"
    }
   ],
   "source": [
    "# senator_trades[\"type\"].unique()\n",
    "senator_trades[senator_trades[\"type\"] == \"Exchange\"]"
   ],
   "metadata": {
    "collapsed": false,
    "pycharm": {
     "name": "#%%\n"
    }
   }
  },
  {
   "cell_type": "code",
   "execution_count": 42,
   "outputs": [
    {
     "data": {
      "text/plain": "    transaction_date   owner ticker      type              amount comment  \\\n0         2021-03-16   Joint     AA  Purchase    $1,001 - $15,000      --   \n1         2021-04-19   Joint    CLF  Purchase  $50,001 - $100,000      --   \n2         2015-08-25  Spouse    AEE  Purchase    $1,001 - $15,000      --   \n3         2017-06-28  Spouse   QCOM  Purchase    $1,001 - $15,000      --   \n4         2019-06-26  Spouse   BSTZ  Purchase    $1,001 - $15,000      --   \n..               ...     ...    ...       ...                 ...     ...   \n656       2017-03-16  Spouse   DNKN  Purchase    $1,001 - $15,000      --   \n657       2017-03-16  Spouse    DUK  Purchase    $1,001 - $15,000      --   \n658       2017-03-16  Spouse     CB  Purchase    $1,001 - $15,000      --   \n659       2017-03-16  Spouse    MDT  Purchase    $1,001 - $15,000      --   \n660       2015-08-21    Self   AAPL  Purchase   $15,001 - $50,000      --   \n\n                 senator  transaction_year  transaction_month  \\\n0    Thomas H Tuberville              2021                  3   \n1    Thomas H Tuberville              2021                  4   \n2        Thomas R Carper              2015                  8   \n3        Thomas R Carper              2017                  6   \n4        Thomas R Carper              2019                  6   \n..                   ...               ...                ...   \n656         Patty Murray              2017                  3   \n657         Patty Murray              2017                  3   \n658         Patty Murray              2017                  3   \n659         Patty Murray              2017                  3   \n660          John Cornyn              2015                  8   \n\n     transaction_day  amount_lower  amount_upper   sell_date  \n0                 16          1001         15000  2021-04-19  \n1                 19         50001        100000  2021-07-19  \n2                 25          1001         15000  2016-06-24  \n3                 28          1001         15000  2019-04-17  \n4                 26          1001         15000  2020-02-22  \n..               ...           ...           ...         ...  \n656               16          1001         15000  2017-06-15  \n657               16          1001         15000  2017-06-15  \n658               16          1001         15000  2017-06-15  \n659               16          1001         15000  2017-06-15  \n660               21         15001         50000  2017-02-01  \n\n[661 rows x 13 columns]",
      "text/html": "<div>\n<style scoped>\n    .dataframe tbody tr th:only-of-type {\n        vertical-align: middle;\n    }\n\n    .dataframe tbody tr th {\n        vertical-align: top;\n    }\n\n    .dataframe thead th {\n        text-align: right;\n    }\n</style>\n<table border=\"1\" class=\"dataframe\">\n  <thead>\n    <tr style=\"text-align: right;\">\n      <th></th>\n      <th>transaction_date</th>\n      <th>owner</th>\n      <th>ticker</th>\n      <th>type</th>\n      <th>amount</th>\n      <th>comment</th>\n      <th>senator</th>\n      <th>transaction_year</th>\n      <th>transaction_month</th>\n      <th>transaction_day</th>\n      <th>amount_lower</th>\n      <th>amount_upper</th>\n      <th>sell_date</th>\n    </tr>\n  </thead>\n  <tbody>\n    <tr>\n      <th>0</th>\n      <td>2021-03-16</td>\n      <td>Joint</td>\n      <td>AA</td>\n      <td>Purchase</td>\n      <td>$1,001 - $15,000</td>\n      <td>--</td>\n      <td>Thomas H Tuberville</td>\n      <td>2021</td>\n      <td>3</td>\n      <td>16</td>\n      <td>1001</td>\n      <td>15000</td>\n      <td>2021-04-19</td>\n    </tr>\n    <tr>\n      <th>1</th>\n      <td>2021-04-19</td>\n      <td>Joint</td>\n      <td>CLF</td>\n      <td>Purchase</td>\n      <td>$50,001 - $100,000</td>\n      <td>--</td>\n      <td>Thomas H Tuberville</td>\n      <td>2021</td>\n      <td>4</td>\n      <td>19</td>\n      <td>50001</td>\n      <td>100000</td>\n      <td>2021-07-19</td>\n    </tr>\n    <tr>\n      <th>2</th>\n      <td>2015-08-25</td>\n      <td>Spouse</td>\n      <td>AEE</td>\n      <td>Purchase</td>\n      <td>$1,001 - $15,000</td>\n      <td>--</td>\n      <td>Thomas R Carper</td>\n      <td>2015</td>\n      <td>8</td>\n      <td>25</td>\n      <td>1001</td>\n      <td>15000</td>\n      <td>2016-06-24</td>\n    </tr>\n    <tr>\n      <th>3</th>\n      <td>2017-06-28</td>\n      <td>Spouse</td>\n      <td>QCOM</td>\n      <td>Purchase</td>\n      <td>$1,001 - $15,000</td>\n      <td>--</td>\n      <td>Thomas R Carper</td>\n      <td>2017</td>\n      <td>6</td>\n      <td>28</td>\n      <td>1001</td>\n      <td>15000</td>\n      <td>2019-04-17</td>\n    </tr>\n    <tr>\n      <th>4</th>\n      <td>2019-06-26</td>\n      <td>Spouse</td>\n      <td>BSTZ</td>\n      <td>Purchase</td>\n      <td>$1,001 - $15,000</td>\n      <td>--</td>\n      <td>Thomas R Carper</td>\n      <td>2019</td>\n      <td>6</td>\n      <td>26</td>\n      <td>1001</td>\n      <td>15000</td>\n      <td>2020-02-22</td>\n    </tr>\n    <tr>\n      <th>...</th>\n      <td>...</td>\n      <td>...</td>\n      <td>...</td>\n      <td>...</td>\n      <td>...</td>\n      <td>...</td>\n      <td>...</td>\n      <td>...</td>\n      <td>...</td>\n      <td>...</td>\n      <td>...</td>\n      <td>...</td>\n      <td>...</td>\n    </tr>\n    <tr>\n      <th>656</th>\n      <td>2017-03-16</td>\n      <td>Spouse</td>\n      <td>DNKN</td>\n      <td>Purchase</td>\n      <td>$1,001 - $15,000</td>\n      <td>--</td>\n      <td>Patty Murray</td>\n      <td>2017</td>\n      <td>3</td>\n      <td>16</td>\n      <td>1001</td>\n      <td>15000</td>\n      <td>2017-06-15</td>\n    </tr>\n    <tr>\n      <th>657</th>\n      <td>2017-03-16</td>\n      <td>Spouse</td>\n      <td>DUK</td>\n      <td>Purchase</td>\n      <td>$1,001 - $15,000</td>\n      <td>--</td>\n      <td>Patty Murray</td>\n      <td>2017</td>\n      <td>3</td>\n      <td>16</td>\n      <td>1001</td>\n      <td>15000</td>\n      <td>2017-06-15</td>\n    </tr>\n    <tr>\n      <th>658</th>\n      <td>2017-03-16</td>\n      <td>Spouse</td>\n      <td>CB</td>\n      <td>Purchase</td>\n      <td>$1,001 - $15,000</td>\n      <td>--</td>\n      <td>Patty Murray</td>\n      <td>2017</td>\n      <td>3</td>\n      <td>16</td>\n      <td>1001</td>\n      <td>15000</td>\n      <td>2017-06-15</td>\n    </tr>\n    <tr>\n      <th>659</th>\n      <td>2017-03-16</td>\n      <td>Spouse</td>\n      <td>MDT</td>\n      <td>Purchase</td>\n      <td>$1,001 - $15,000</td>\n      <td>--</td>\n      <td>Patty Murray</td>\n      <td>2017</td>\n      <td>3</td>\n      <td>16</td>\n      <td>1001</td>\n      <td>15000</td>\n      <td>2017-06-15</td>\n    </tr>\n    <tr>\n      <th>660</th>\n      <td>2015-08-21</td>\n      <td>Self</td>\n      <td>AAPL</td>\n      <td>Purchase</td>\n      <td>$15,001 - $50,000</td>\n      <td>--</td>\n      <td>John Cornyn</td>\n      <td>2015</td>\n      <td>8</td>\n      <td>21</td>\n      <td>15001</td>\n      <td>50000</td>\n      <td>2017-02-01</td>\n    </tr>\n  </tbody>\n</table>\n<p>661 rows × 13 columns</p>\n</div>"
     },
     "execution_count": 42,
     "metadata": {},
     "output_type": "execute_result"
    }
   ],
   "source": [
    "trades = []\n",
    "for senator in senator_trades[\"senator\"].unique():\n",
    "    data = senator_trades[senator_trades[\"senator\"] == senator]\n",
    "    data = data.sort_values(\"transaction_date\", ascending=True)\n",
    "\n",
    "    temp = {}\n",
    "\n",
    "    for row in data.itertuples():\n",
    "        if row.type == \"Sale (Full)\": # or row[\"type\"] == \"Sale (Partial)\":\n",
    "            if row.ticker in temp:\n",
    "                temp[row.ticker][\"sell_date\"] = row.transaction_date\n",
    "                trades.append(temp[row.ticker])\n",
    "                temp.pop(row.ticker)\n",
    "        elif row.type == \"Purchase\":\n",
    "            row_dict = {}\n",
    "            for field in senator_trades.columns:\n",
    "                row_dict[field] = getattr(row, field)\n",
    "            temp[row.ticker] = row_dict\n",
    "\n",
    "\n",
    "pd.DataFrame(trades)"
   ],
   "metadata": {
    "collapsed": false,
    "pycharm": {
     "name": "#%%\n"
    }
   }
  },
  {
   "cell_type": "code",
   "execution_count": 10,
   "outputs": [],
   "source": [],
   "metadata": {
    "collapsed": false,
    "pycharm": {
     "name": "#%%\n"
    }
   }
  }
 ],
 "metadata": {
  "kernelspec": {
   "display_name": "Python 3",
   "language": "python",
   "name": "python3"
  },
  "language_info": {
   "codemirror_mode": {
    "name": "ipython",
    "version": 2
   },
   "file_extension": ".py",
   "mimetype": "text/x-python",
   "name": "python",
   "nbconvert_exporter": "python",
   "pygments_lexer": "ipython2",
   "version": "2.7.6"
  }
 },
 "nbformat": 4,
 "nbformat_minor": 0
}