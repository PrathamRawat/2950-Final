{
 "cells": [
  {
   "cell_type": "markdown",
   "metadata": {
    "collapsed": true,
    "pycharm": {
     "name": "#%% md\n"
    }
   },
   "source": [
    "# Compiling Senator and House of Representatives Stock Trading Data\n"
   ]
  },
  {
   "cell_type": "code",
   "execution_count": 12,
   "outputs": [],
   "source": [
    "import pandas as pd\n",
    "import yfinance as yf"
   ],
   "metadata": {
    "collapsed": false,
    "pycharm": {
     "name": "#%%\n"
    }
   }
  },
  {
   "cell_type": "markdown",
   "source": [
    "## Senate Stocks"
   ],
   "metadata": {
    "collapsed": false,
    "pycharm": {
     "name": "#%% md\n"
    }
   }
  },
  {
   "cell_type": "code",
   "execution_count": 13,
   "outputs": [
    {
     "data": {
      "text/plain": "  transaction_date   owner ticker            type              amount comment  \\\n0       2021-08-18   Joint   SSYS        Purchase    $1,001 - $15,000      --   \n1       2021-08-12   Joint   SSBK        Purchase  $50,001 - $100,000      --   \n2       2021-08-23  Spouse   LMRK     Sale (Full)    $1,001 - $15,000      --   \n3       2021-08-11  Spouse     WW        Purchase    $1,001 - $15,000      --   \n4       2021-08-04  Spouse    ARE  Sale (Partial)    $1,001 - $15,000      --   \n\n               senator  transaction_year  transaction_month  transaction_day  \\\n0  Thomas H Tuberville              2021                  8               18   \n1  Thomas H Tuberville              2021                  8               12   \n2      Thomas R Carper              2021                  8               23   \n3      Thomas R Carper              2021                  8               11   \n4      Thomas R Carper              2021                  8                4   \n\n   amount_lower  amount_upper  \n0          1001         15000  \n1         50001        100000  \n2          1001         15000  \n3          1001         15000  \n4          1001         15000  ",
      "text/html": "<div>\n<style scoped>\n    .dataframe tbody tr th:only-of-type {\n        vertical-align: middle;\n    }\n\n    .dataframe tbody tr th {\n        vertical-align: top;\n    }\n\n    .dataframe thead th {\n        text-align: right;\n    }\n</style>\n<table border=\"1\" class=\"dataframe\">\n  <thead>\n    <tr style=\"text-align: right;\">\n      <th></th>\n      <th>transaction_date</th>\n      <th>owner</th>\n      <th>ticker</th>\n      <th>type</th>\n      <th>amount</th>\n      <th>comment</th>\n      <th>senator</th>\n      <th>transaction_year</th>\n      <th>transaction_month</th>\n      <th>transaction_day</th>\n      <th>amount_lower</th>\n      <th>amount_upper</th>\n    </tr>\n  </thead>\n  <tbody>\n    <tr>\n      <th>0</th>\n      <td>2021-08-18</td>\n      <td>Joint</td>\n      <td>SSYS</td>\n      <td>Purchase</td>\n      <td>$1,001 - $15,000</td>\n      <td>--</td>\n      <td>Thomas H Tuberville</td>\n      <td>2021</td>\n      <td>8</td>\n      <td>18</td>\n      <td>1001</td>\n      <td>15000</td>\n    </tr>\n    <tr>\n      <th>1</th>\n      <td>2021-08-12</td>\n      <td>Joint</td>\n      <td>SSBK</td>\n      <td>Purchase</td>\n      <td>$50,001 - $100,000</td>\n      <td>--</td>\n      <td>Thomas H Tuberville</td>\n      <td>2021</td>\n      <td>8</td>\n      <td>12</td>\n      <td>50001</td>\n      <td>100000</td>\n    </tr>\n    <tr>\n      <th>2</th>\n      <td>2021-08-23</td>\n      <td>Spouse</td>\n      <td>LMRK</td>\n      <td>Sale (Full)</td>\n      <td>$1,001 - $15,000</td>\n      <td>--</td>\n      <td>Thomas R Carper</td>\n      <td>2021</td>\n      <td>8</td>\n      <td>23</td>\n      <td>1001</td>\n      <td>15000</td>\n    </tr>\n    <tr>\n      <th>3</th>\n      <td>2021-08-11</td>\n      <td>Spouse</td>\n      <td>WW</td>\n      <td>Purchase</td>\n      <td>$1,001 - $15,000</td>\n      <td>--</td>\n      <td>Thomas R Carper</td>\n      <td>2021</td>\n      <td>8</td>\n      <td>11</td>\n      <td>1001</td>\n      <td>15000</td>\n    </tr>\n    <tr>\n      <th>4</th>\n      <td>2021-08-04</td>\n      <td>Spouse</td>\n      <td>ARE</td>\n      <td>Sale (Partial)</td>\n      <td>$1,001 - $15,000</td>\n      <td>--</td>\n      <td>Thomas R Carper</td>\n      <td>2021</td>\n      <td>8</td>\n      <td>4</td>\n      <td>1001</td>\n      <td>15000</td>\n    </tr>\n  </tbody>\n</table>\n</div>"
     },
     "execution_count": 13,
     "metadata": {},
     "output_type": "execute_result"
    }
   ],
   "source": [
    "senator_trades = pd.read_csv(\"data/cleaned/all_transactions_senate.csv\")\n",
    "senator_trades = senator_trades.drop(\"Unnamed: 0\", axis=1)\n",
    "senator_trades.head()"
   ],
   "metadata": {
    "collapsed": false,
    "pycharm": {
     "name": "#%%\n"
    }
   }
  },
  {
   "cell_type": "code",
   "execution_count": 14,
   "outputs": [
    {
     "name": "stdout",
     "output_type": "stream",
     "text": [
      "[*********************100%***********************]  909 of 909 completed\n",
      "\n",
      "131 Failed downloads:\n",
      "- CYBX: None\n",
      "- PCLN: None\n",
      "- CMCSK: None\n",
      "- ABCO: None\n",
      "- GAS: None\n",
      "- VSM: No data found, symbol may be delisted\n",
      "- WGP: No data found, symbol may be delisted\n",
      "- KORS: None\n",
      "- MXIM: No data found, symbol may be delisted\n",
      "- BPL: No data found, symbol may be delisted\n",
      "- MFRM: None\n",
      "- AMSG: None\n",
      "- XON: No data found, symbol may be delisted\n",
      "- MSTY.PA: No data found, symbol may be delisted\n",
      "- ESV: No data found, symbol may be delisted\n",
      "- TMK: No data found, symbol may be delisted\n",
      "- WTR: No data found, symbol may be delisted\n",
      "- DD-PA: No data found, symbol may be delisted\n",
      "- AXLL: None\n",
      "- CLC: None\n",
      "- CTL: No data found, symbol may be delisted\n",
      "- QLIK: None\n",
      "- LB: No data found, symbol may be delisted\n",
      "- CTAA: No data found, symbol may be delisted\n",
      "- RTN: No data found, symbol may be delisted\n",
      "- LLTC: None\n",
      "- CRZO: No data found, symbol may be delisted\n",
      "- RDSA: No data found, symbol may be delisted\n",
      "- CBS: No data found, symbol may be delisted\n",
      "- ^RGP: None\n",
      "- EMC: None\n",
      "- CELG: No data found, symbol may be delisted\n",
      "- BCR: None\n",
      "- BUNT-RP: No data found, symbol may be delisted\n",
      "- DLPH: None\n",
      "- REVB: No data found, symbol may be delisted\n",
      "- IBKC: No data found, symbol may be delisted\n",
      "- ZNGA.SW: No data found, symbol may be delisted\n",
      "- ITC: None\n",
      "- ACT: Data doesn't exist for startDate = 1347508800, endDate = 1629691200\n",
      "- TNGO: None\n",
      "- MDCA: No data found, symbol may be delisted\n",
      "- BUNT: None\n",
      "- RAI: None\n",
      "- CAB: None\n",
      "- BRKB: No data found, symbol may be delisted\n",
      "- NEE-PC: No data found, symbol may be delisted\n",
      "- XLS-WI: None\n",
      "- SPY160219P00180000: No data found, symbol may be delisted\n",
      "- VSI: No data found, symbol may be delisted\n",
      "- DPM: No data found for this date range, symbol may be delisted\n",
      "- AKRX: None\n",
      "- AEX.MU: None\n",
      "- KRFT: None\n",
      "- RHT: No data found, symbol may be delisted\n",
      "- SGY: None\n",
      "- APC: No data found, symbol may be delisted\n",
      "- TLLP: None\n",
      "- USG: No data found, symbol may be delisted\n",
      "- NGLS: None\n",
      "- TCP: No data found, symbol may be delisted\n",
      "- NPSND: None\n",
      "- CTRL: No data found, symbol may be delisted\n",
      "- AGU: None\n",
      "- CVC: None\n",
      "- NBL: No data found, symbol may be delisted\n",
      "- OKS: None\n",
      "- CY: No data found, symbol may be delisted\n",
      "- SQI: None\n",
      "- WPX: No data found, symbol may be delisted\n",
      "- HYH: None\n",
      "- ATML: None\n",
      "- ^MWE: None\n",
      "- DPS: None\n",
      "- CHL: No data found, symbol may be delisted\n",
      "- WAGE: No data found, symbol may be delisted\n",
      "- HDS: No data found, symbol may be delisted\n",
      "- MCC: None\n",
      "- HF: No data found, symbol may be delisted\n",
      "- TYPE: No data found, symbol may be delisted\n",
      "- ANDX: No data found, symbol may be delisted\n",
      "- ACE: None\n",
      "- 3V64.TI: None\n",
      "- ETE: None\n",
      "- MYL: No data found, symbol may be delisted\n",
      "- PLKI: None\n",
      "- DGNR: No data found, symbol may be delisted\n",
      "- FL4.SG: No data found, symbol may be delisted\n",
      "- SBUX.SW: No data found, symbol may be delisted\n",
      "- CMN: None\n",
      "- DWDP: No data found, symbol may be delisted\n",
      "- IPHI: None\n",
      "- LOCK: None\n",
      "- FNGN: No data found, symbol may be delisted\n",
      "- VIAB: No data found, symbol may be delisted\n",
      "- PHLD: No data found, symbol may be delisted\n",
      "- ICON: No data found, symbol may be delisted\n",
      "- BMR: None\n",
      "- STI: No data found, symbol may be delisted\n",
      "- DNKN: No data found, symbol may be delisted\n",
      "- Q: None\n",
      "- UN: No data found, symbol may be delisted\n",
      "- NGIPX: None\n",
      "- PLT: No data found, symbol may be delisted\n",
      "- LINE: None\n",
      "- LVLT: None\n",
      "- BIN: None\n",
      "- IRET: No data found, symbol may be delisted\n",
      "- IPCM: None\n",
      "- MIK: No data found, symbol may be delisted\n",
      "- UTX: No data found, symbol may be delisted\n",
      "- CPGX: None\n",
      "- TOT: No data found, symbol may be delisted\n",
      "- POT: None\n",
      "- CTCT: None\n",
      "- ZAYO: No data found, symbol may be delisted\n",
      "- COH: None\n",
      "- NTRP: No data found, symbol may be delisted\n",
      "- WTW: No data found, symbol may be delisted\n",
      "- ADT.F: No data found, symbol may be delisted\n",
      "- FDC: No data found, symbol may be delisted\n",
      "- HRS: No data found, symbol may be delisted\n",
      "- WFM: None\n",
      "- TUMI: None\n",
      "- EQM: No data found, symbol may be delisted\n",
      "- UA-C: No data found, symbol may be delisted\n",
      "- DFRG: No data found, symbol may be delisted\n",
      "- PX: Data doesn't exist for startDate = 1347508800, endDate = 1629691200\n",
      "- AVP: No data found, symbol may be delisted\n",
      "- AGN: No data found, symbol may be delisted\n",
      "- EV: No data found, symbol may be delisted\n",
      "[*********************103%************************]  935 of 909 completed"
     ]
    },
    {
     "data": {
      "text/plain": "             Close                                                       \\\n           0QZI.IL 3V64.TI           A         AA      AAGIY        AAL   \nDate                                                                      \n2012-09-13     NaN     NaN   27.453505  23.140890  14.930000  11.250000   \n2012-09-14     NaN     NaN   28.419170  23.645519  15.150000  10.530000   \n2012-09-17     NaN     NaN   28.347639  23.020741  14.950000  10.560000   \n2012-09-18     NaN     NaN   28.290415  22.804470  15.000000  10.310000   \n2012-09-19     NaN     NaN   28.526466  22.756411  14.850000  10.970000   \n...            ...     ...         ...        ...        ...        ...   \n2021-08-17   361.5     NaN  160.910004  41.610001  49.689999  19.340000   \n2021-08-18   357.5     NaN  163.020004  41.490002  49.709999  19.139999   \n2021-08-19   355.5     NaN  167.669998  36.919998  50.500000  18.730000   \n2021-08-20   357.5     NaN  168.130005  37.709999  49.740002  18.500000   \n2021-08-23     NaN     NaN         NaN        NaN        NaN        NaN   \n\n                                                         ...                  \\\n                  AAN       AAON        AAPL        AAT  ...       YUMC ZAYO   \nDate                                                     ...                   \n2012-09-13        NaN   8.617778   24.392143  27.580000  ...        NaN  NaN   \n2012-09-14        NaN   9.088889   24.688572  27.860001  ...        NaN  NaN   \n2012-09-17        NaN   8.871111   24.992144  28.000000  ...        NaN  NaN   \n2012-09-18        NaN   9.075556   25.068214  27.879999  ...        NaN  NaN   \n2012-09-19        NaN   9.000000   25.075001  27.500000  ...        NaN  NaN   \n...               ...        ...         ...        ...  ...        ...  ...   \n2021-08-17  27.799999  68.070000  150.190002  37.799999  ...  60.279999  NaN   \n2021-08-18  28.230000  67.040001  146.360001  37.630001  ...  59.130001  NaN   \n2021-08-19  28.299999  68.419998  146.699997  37.570000  ...  58.959999  NaN   \n2021-08-20  28.110001  68.940002  148.190002  37.869999  ...  59.169998  NaN   \n2021-08-23        NaN        NaN         NaN        NaN  ...        NaN  NaN   \n\n                                                                              \n                   ZBH  ZIOP          ZM  ZNGA ZNGA.SW         ZTS ^MWE ^RGP  \nDate                                                                          \n2012-09-13   66.629997  5.45         NaN  2.96     NaN         NaN  NaN  NaN  \n2012-09-14   66.900002  5.53         NaN  3.18     NaN         NaN  NaN  NaN  \n2012-09-17   66.930000  5.69         NaN  3.08     NaN         NaN  NaN  NaN  \n2012-09-18   67.190002  5.77         NaN  3.08     NaN         NaN  NaN  NaN  \n2012-09-19   67.139999  5.71         NaN  3.20     NaN         NaN  NaN  NaN  \n...                ...   ...         ...   ...     ...         ...  ...  ...  \n2021-08-17  147.860001  1.68  345.540009  8.21     NaN  206.600006  NaN  NaN  \n2021-08-18  144.380005  1.66  340.929993  8.20     NaN  203.330002  NaN  NaN  \n2021-08-19  144.119995  1.44  332.380005  8.37     NaN  206.440002  NaN  NaN  \n2021-08-20  145.460007  1.54  336.859985  8.51     NaN  207.050003  NaN  NaN  \n2021-08-23         NaN   NaN         NaN   NaN     NaN         NaN  NaN  NaN  \n\n[2309 rows x 909 columns]",
      "text/html": "<div>\n<style scoped>\n    .dataframe tbody tr th:only-of-type {\n        vertical-align: middle;\n    }\n\n    .dataframe tbody tr th {\n        vertical-align: top;\n    }\n\n    .dataframe thead tr th {\n        text-align: left;\n    }\n\n    .dataframe thead tr:last-of-type th {\n        text-align: right;\n    }\n</style>\n<table border=\"1\" class=\"dataframe\">\n  <thead>\n    <tr>\n      <th></th>\n      <th colspan=\"21\" halign=\"left\">Close</th>\n    </tr>\n    <tr>\n      <th></th>\n      <th>0QZI.IL</th>\n      <th>3V64.TI</th>\n      <th>A</th>\n      <th>AA</th>\n      <th>AAGIY</th>\n      <th>AAL</th>\n      <th>AAN</th>\n      <th>AAON</th>\n      <th>AAPL</th>\n      <th>AAT</th>\n      <th>...</th>\n      <th>YUMC</th>\n      <th>ZAYO</th>\n      <th>ZBH</th>\n      <th>ZIOP</th>\n      <th>ZM</th>\n      <th>ZNGA</th>\n      <th>ZNGA.SW</th>\n      <th>ZTS</th>\n      <th>^MWE</th>\n      <th>^RGP</th>\n    </tr>\n    <tr>\n      <th>Date</th>\n      <th></th>\n      <th></th>\n      <th></th>\n      <th></th>\n      <th></th>\n      <th></th>\n      <th></th>\n      <th></th>\n      <th></th>\n      <th></th>\n      <th></th>\n      <th></th>\n      <th></th>\n      <th></th>\n      <th></th>\n      <th></th>\n      <th></th>\n      <th></th>\n      <th></th>\n      <th></th>\n      <th></th>\n    </tr>\n  </thead>\n  <tbody>\n    <tr>\n      <th>2012-09-13</th>\n      <td>NaN</td>\n      <td>NaN</td>\n      <td>27.453505</td>\n      <td>23.140890</td>\n      <td>14.930000</td>\n      <td>11.250000</td>\n      <td>NaN</td>\n      <td>8.617778</td>\n      <td>24.392143</td>\n      <td>27.580000</td>\n      <td>...</td>\n      <td>NaN</td>\n      <td>NaN</td>\n      <td>66.629997</td>\n      <td>5.45</td>\n      <td>NaN</td>\n      <td>2.96</td>\n      <td>NaN</td>\n      <td>NaN</td>\n      <td>NaN</td>\n      <td>NaN</td>\n    </tr>\n    <tr>\n      <th>2012-09-14</th>\n      <td>NaN</td>\n      <td>NaN</td>\n      <td>28.419170</td>\n      <td>23.645519</td>\n      <td>15.150000</td>\n      <td>10.530000</td>\n      <td>NaN</td>\n      <td>9.088889</td>\n      <td>24.688572</td>\n      <td>27.860001</td>\n      <td>...</td>\n      <td>NaN</td>\n      <td>NaN</td>\n      <td>66.900002</td>\n      <td>5.53</td>\n      <td>NaN</td>\n      <td>3.18</td>\n      <td>NaN</td>\n      <td>NaN</td>\n      <td>NaN</td>\n      <td>NaN</td>\n    </tr>\n    <tr>\n      <th>2012-09-17</th>\n      <td>NaN</td>\n      <td>NaN</td>\n      <td>28.347639</td>\n      <td>23.020741</td>\n      <td>14.950000</td>\n      <td>10.560000</td>\n      <td>NaN</td>\n      <td>8.871111</td>\n      <td>24.992144</td>\n      <td>28.000000</td>\n      <td>...</td>\n      <td>NaN</td>\n      <td>NaN</td>\n      <td>66.930000</td>\n      <td>5.69</td>\n      <td>NaN</td>\n      <td>3.08</td>\n      <td>NaN</td>\n      <td>NaN</td>\n      <td>NaN</td>\n      <td>NaN</td>\n    </tr>\n    <tr>\n      <th>2012-09-18</th>\n      <td>NaN</td>\n      <td>NaN</td>\n      <td>28.290415</td>\n      <td>22.804470</td>\n      <td>15.000000</td>\n      <td>10.310000</td>\n      <td>NaN</td>\n      <td>9.075556</td>\n      <td>25.068214</td>\n      <td>27.879999</td>\n      <td>...</td>\n      <td>NaN</td>\n      <td>NaN</td>\n      <td>67.190002</td>\n      <td>5.77</td>\n      <td>NaN</td>\n      <td>3.08</td>\n      <td>NaN</td>\n      <td>NaN</td>\n      <td>NaN</td>\n      <td>NaN</td>\n    </tr>\n    <tr>\n      <th>2012-09-19</th>\n      <td>NaN</td>\n      <td>NaN</td>\n      <td>28.526466</td>\n      <td>22.756411</td>\n      <td>14.850000</td>\n      <td>10.970000</td>\n      <td>NaN</td>\n      <td>9.000000</td>\n      <td>25.075001</td>\n      <td>27.500000</td>\n      <td>...</td>\n      <td>NaN</td>\n      <td>NaN</td>\n      <td>67.139999</td>\n      <td>5.71</td>\n      <td>NaN</td>\n      <td>3.20</td>\n      <td>NaN</td>\n      <td>NaN</td>\n      <td>NaN</td>\n      <td>NaN</td>\n    </tr>\n    <tr>\n      <th>...</th>\n      <td>...</td>\n      <td>...</td>\n      <td>...</td>\n      <td>...</td>\n      <td>...</td>\n      <td>...</td>\n      <td>...</td>\n      <td>...</td>\n      <td>...</td>\n      <td>...</td>\n      <td>...</td>\n      <td>...</td>\n      <td>...</td>\n      <td>...</td>\n      <td>...</td>\n      <td>...</td>\n      <td>...</td>\n      <td>...</td>\n      <td>...</td>\n      <td>...</td>\n      <td>...</td>\n    </tr>\n    <tr>\n      <th>2021-08-17</th>\n      <td>361.5</td>\n      <td>NaN</td>\n      <td>160.910004</td>\n      <td>41.610001</td>\n      <td>49.689999</td>\n      <td>19.340000</td>\n      <td>27.799999</td>\n      <td>68.070000</td>\n      <td>150.190002</td>\n      <td>37.799999</td>\n      <td>...</td>\n      <td>60.279999</td>\n      <td>NaN</td>\n      <td>147.860001</td>\n      <td>1.68</td>\n      <td>345.540009</td>\n      <td>8.21</td>\n      <td>NaN</td>\n      <td>206.600006</td>\n      <td>NaN</td>\n      <td>NaN</td>\n    </tr>\n    <tr>\n      <th>2021-08-18</th>\n      <td>357.5</td>\n      <td>NaN</td>\n      <td>163.020004</td>\n      <td>41.490002</td>\n      <td>49.709999</td>\n      <td>19.139999</td>\n      <td>28.230000</td>\n      <td>67.040001</td>\n      <td>146.360001</td>\n      <td>37.630001</td>\n      <td>...</td>\n      <td>59.130001</td>\n      <td>NaN</td>\n      <td>144.380005</td>\n      <td>1.66</td>\n      <td>340.929993</td>\n      <td>8.20</td>\n      <td>NaN</td>\n      <td>203.330002</td>\n      <td>NaN</td>\n      <td>NaN</td>\n    </tr>\n    <tr>\n      <th>2021-08-19</th>\n      <td>355.5</td>\n      <td>NaN</td>\n      <td>167.669998</td>\n      <td>36.919998</td>\n      <td>50.500000</td>\n      <td>18.730000</td>\n      <td>28.299999</td>\n      <td>68.419998</td>\n      <td>146.699997</td>\n      <td>37.570000</td>\n      <td>...</td>\n      <td>58.959999</td>\n      <td>NaN</td>\n      <td>144.119995</td>\n      <td>1.44</td>\n      <td>332.380005</td>\n      <td>8.37</td>\n      <td>NaN</td>\n      <td>206.440002</td>\n      <td>NaN</td>\n      <td>NaN</td>\n    </tr>\n    <tr>\n      <th>2021-08-20</th>\n      <td>357.5</td>\n      <td>NaN</td>\n      <td>168.130005</td>\n      <td>37.709999</td>\n      <td>49.740002</td>\n      <td>18.500000</td>\n      <td>28.110001</td>\n      <td>68.940002</td>\n      <td>148.190002</td>\n      <td>37.869999</td>\n      <td>...</td>\n      <td>59.169998</td>\n      <td>NaN</td>\n      <td>145.460007</td>\n      <td>1.54</td>\n      <td>336.859985</td>\n      <td>8.51</td>\n      <td>NaN</td>\n      <td>207.050003</td>\n      <td>NaN</td>\n      <td>NaN</td>\n    </tr>\n    <tr>\n      <th>2021-08-23</th>\n      <td>NaN</td>\n      <td>NaN</td>\n      <td>NaN</td>\n      <td>NaN</td>\n      <td>NaN</td>\n      <td>NaN</td>\n      <td>NaN</td>\n      <td>NaN</td>\n      <td>NaN</td>\n      <td>NaN</td>\n      <td>...</td>\n      <td>NaN</td>\n      <td>NaN</td>\n      <td>NaN</td>\n      <td>NaN</td>\n      <td>NaN</td>\n      <td>NaN</td>\n      <td>NaN</td>\n      <td>NaN</td>\n      <td>NaN</td>\n      <td>NaN</td>\n    </tr>\n  </tbody>\n</table>\n<p>2309 rows × 909 columns</p>\n</div>"
     },
     "execution_count": 14,
     "metadata": {},
     "output_type": "execute_result"
    }
   ],
   "source": [
    "senate_stocks = yf.download(\" \".join(senator_trades[\"ticker\"].unique()),\n",
    "                            start=senator_trades[\"transaction_date\"].min(),\n",
    "                            end=senator_trades[\"transaction_date\"].max())\n",
    "senate_stocks = senate_stocks.drop([\"Volume\", \"Open\", \"Adj Close\", \"Low\", \"High\"], axis=1)\n",
    "senate_stocks"
   ],
   "metadata": {
    "collapsed": false,
    "pycharm": {
     "name": "#%%\n"
    }
   }
  },
  {
   "cell_type": "code",
   "execution_count": 15,
   "outputs": [
    {
     "name": "stdout",
     "output_type": "stream",
     "text": [
      "[*********************103%************************]  938 of 909 completed'2020-02-22'\n",
      "'2020-02-22'\n",
      "[**********************105%************************]  956 of 909 completed'2019-01-19'\n",
      "[**********************106%*************************]  959 of 909 completed"
     ]
    }
   ],
   "source": [
    "trades = []\n",
    "for senator in senator_trades[\"senator\"].unique():\n",
    "    data = senator_trades[senator_trades[\"senator\"] == senator]\n",
    "    data = data.sort_values(\"transaction_date\", ascending=True)\n",
    "\n",
    "    temp = {}\n",
    "\n",
    "    for row in data.itertuples():\n",
    "        weight = (row.amount_lower + row.amount_upper) / 2\n",
    "        if row.type == \"Sale (Full)\":\n",
    "            if row.ticker in temp and row.ticker in senate_stocks[\"Close\"]:\n",
    "                try:\n",
    "                    temp[row.ticker][\"sell_date\"] = row.transaction_date\n",
    "                    temp[row.ticker][\"weight\"] = weight\n",
    "                    buy = senate_stocks[\"Close\"][row.ticker].loc[temp[row.ticker][\"transaction_date\"]]\n",
    "                    sell = senate_stocks[\"Close\"][row.ticker].loc[row.transaction_date]\n",
    "                    temp[row.ticker][\"gain\"] = (sell - buy) / buy\n",
    "                    trades.append(temp[row.ticker])\n",
    "                    temp.pop(row.ticker)\n",
    "                except KeyError as e:\n",
    "                    print(e)\n",
    "        elif row.type == \"Sale (Partial)\":\n",
    "            if row.ticker in temp:\n",
    "                try:\n",
    "                    temp[row.ticker][\"sell_date\"] = row.transaction_date\n",
    "                    temp[row.ticker][\"weight\"] = weight\n",
    "                    buy = senate_stocks[\"Close\"][row.ticker].loc[temp[row.ticker][\"transaction_date\"]]\n",
    "                    sell = senate_stocks[\"Close\"][row.ticker].loc[row.transaction_date]\n",
    "                    temp[row.ticker][\"gain\"] = (sell - buy) / buy\n",
    "                    trades.append(temp[row.ticker])\n",
    "                except KeyError as e:\n",
    "                    print(e)\n",
    "        elif row.type == \"Purchase\":\n",
    "            row_dict = {}\n",
    "            for field in senator_trades.columns:\n",
    "                row_dict[field] = getattr(row, field)\n",
    "            temp[row.ticker] = row_dict\n",
    "\n",
    "senator_trades = pd.DataFrame(trades)"
   ],
   "metadata": {
    "collapsed": false,
    "pycharm": {
     "name": "#%%\n"
    }
   }
  },
  {
   "cell_type": "code",
   "execution_count": 16,
   "outputs": [],
   "source": [
    "senator_trades.to_csv(\"data/cleaned/senator_trades.csv\")"
   ],
   "metadata": {
    "collapsed": false,
    "pycharm": {
     "name": "#%%\n"
    }
   }
  },
  {
   "cell_type": "markdown",
   "source": [
    "## House of Representatives Stocks"
   ],
   "metadata": {
    "collapsed": false
   }
  },
  {
   "cell_type": "code",
   "execution_count": 17,
   "outputs": [
    {
     "data": {
      "text/plain": "     transaction_date  owner ticker          type             amount  \\\n0          2021-09-27  joint     BP      purchase   $1,001 - $15,000   \n1          2021-09-13  joint    XOM      purchase   $1,001 - $15,000   \n2          2021-09-10  joint   ILPT      purchase  $15,001 - $50,000   \n3          2021-09-28  joint     PM      purchase  $15,001 - $50,000   \n4          2021-09-17   self    BLK  sale_partial   $1,001 - $15,000   \n...               ...    ...    ...           ...                ...   \n6778       2020-03-18   self   COST      purchase   $1,001 - $15,000   \n6779       2020-04-22   self     FB     sale_full   $1,001 - $15,000   \n6780       2020-04-22   self    KMI     sale_full   $1,001 - $15,000   \n6781       2020-04-09     --    SWK  sale_partial   $1,001 - $15,000   \n6782       2020-04-09     --    USB  sale_partial   $1,001 - $15,000   \n\n              representative district  cap_gains_over_200_usd  \\\n0         Hon. Virginia Foxx     NC05                   False   \n1         Hon. Virginia Foxx     NC05                   False   \n2         Hon. Virginia Foxx     NC05                   False   \n3         Hon. Virginia Foxx     NC05                   False   \n4     Hon. Alan S. Lowenthal     CA47                   False   \n...                      ...      ...                     ...   \n6778      Hon. Ed Perlmutter     CO07                   False   \n6779      Hon. Ed Perlmutter     CO07                   False   \n6780      Hon. Ed Perlmutter     CO07                   False   \n6781      Hon. Ed Perlmutter     CO07                   False   \n6782      Hon. Ed Perlmutter     CO07                   False   \n\n      transaction_year  transaction_month  transaction_day  amount_lower  \\\n0                 2021                  9               27          1001   \n1                 2021                  9               13          1001   \n2                 2021                  9               10         15001   \n3                 2021                  9               28         15001   \n4                 2021                  9               17          1001   \n...                ...                ...              ...           ...   \n6778              2020                  3               18          1001   \n6779              2020                  4               22          1001   \n6780              2020                  4               22          1001   \n6781              2020                  4                9          1001   \n6782              2020                  4                9          1001   \n\n      amount_upper  \n0            15000  \n1            15000  \n2            50000  \n3            50000  \n4            15000  \n...            ...  \n6778         15000  \n6779         15000  \n6780         15000  \n6781         15000  \n6782         15000  \n\n[6783 rows x 13 columns]",
      "text/html": "<div>\n<style scoped>\n    .dataframe tbody tr th:only-of-type {\n        vertical-align: middle;\n    }\n\n    .dataframe tbody tr th {\n        vertical-align: top;\n    }\n\n    .dataframe thead th {\n        text-align: right;\n    }\n</style>\n<table border=\"1\" class=\"dataframe\">\n  <thead>\n    <tr style=\"text-align: right;\">\n      <th></th>\n      <th>transaction_date</th>\n      <th>owner</th>\n      <th>ticker</th>\n      <th>type</th>\n      <th>amount</th>\n      <th>representative</th>\n      <th>district</th>\n      <th>cap_gains_over_200_usd</th>\n      <th>transaction_year</th>\n      <th>transaction_month</th>\n      <th>transaction_day</th>\n      <th>amount_lower</th>\n      <th>amount_upper</th>\n    </tr>\n  </thead>\n  <tbody>\n    <tr>\n      <th>0</th>\n      <td>2021-09-27</td>\n      <td>joint</td>\n      <td>BP</td>\n      <td>purchase</td>\n      <td>$1,001 - $15,000</td>\n      <td>Hon. Virginia Foxx</td>\n      <td>NC05</td>\n      <td>False</td>\n      <td>2021</td>\n      <td>9</td>\n      <td>27</td>\n      <td>1001</td>\n      <td>15000</td>\n    </tr>\n    <tr>\n      <th>1</th>\n      <td>2021-09-13</td>\n      <td>joint</td>\n      <td>XOM</td>\n      <td>purchase</td>\n      <td>$1,001 - $15,000</td>\n      <td>Hon. Virginia Foxx</td>\n      <td>NC05</td>\n      <td>False</td>\n      <td>2021</td>\n      <td>9</td>\n      <td>13</td>\n      <td>1001</td>\n      <td>15000</td>\n    </tr>\n    <tr>\n      <th>2</th>\n      <td>2021-09-10</td>\n      <td>joint</td>\n      <td>ILPT</td>\n      <td>purchase</td>\n      <td>$15,001 - $50,000</td>\n      <td>Hon. Virginia Foxx</td>\n      <td>NC05</td>\n      <td>False</td>\n      <td>2021</td>\n      <td>9</td>\n      <td>10</td>\n      <td>15001</td>\n      <td>50000</td>\n    </tr>\n    <tr>\n      <th>3</th>\n      <td>2021-09-28</td>\n      <td>joint</td>\n      <td>PM</td>\n      <td>purchase</td>\n      <td>$15,001 - $50,000</td>\n      <td>Hon. Virginia Foxx</td>\n      <td>NC05</td>\n      <td>False</td>\n      <td>2021</td>\n      <td>9</td>\n      <td>28</td>\n      <td>15001</td>\n      <td>50000</td>\n    </tr>\n    <tr>\n      <th>4</th>\n      <td>2021-09-17</td>\n      <td>self</td>\n      <td>BLK</td>\n      <td>sale_partial</td>\n      <td>$1,001 - $15,000</td>\n      <td>Hon. Alan S. Lowenthal</td>\n      <td>CA47</td>\n      <td>False</td>\n      <td>2021</td>\n      <td>9</td>\n      <td>17</td>\n      <td>1001</td>\n      <td>15000</td>\n    </tr>\n    <tr>\n      <th>...</th>\n      <td>...</td>\n      <td>...</td>\n      <td>...</td>\n      <td>...</td>\n      <td>...</td>\n      <td>...</td>\n      <td>...</td>\n      <td>...</td>\n      <td>...</td>\n      <td>...</td>\n      <td>...</td>\n      <td>...</td>\n      <td>...</td>\n    </tr>\n    <tr>\n      <th>6778</th>\n      <td>2020-03-18</td>\n      <td>self</td>\n      <td>COST</td>\n      <td>purchase</td>\n      <td>$1,001 - $15,000</td>\n      <td>Hon. Ed Perlmutter</td>\n      <td>CO07</td>\n      <td>False</td>\n      <td>2020</td>\n      <td>3</td>\n      <td>18</td>\n      <td>1001</td>\n      <td>15000</td>\n    </tr>\n    <tr>\n      <th>6779</th>\n      <td>2020-04-22</td>\n      <td>self</td>\n      <td>FB</td>\n      <td>sale_full</td>\n      <td>$1,001 - $15,000</td>\n      <td>Hon. Ed Perlmutter</td>\n      <td>CO07</td>\n      <td>False</td>\n      <td>2020</td>\n      <td>4</td>\n      <td>22</td>\n      <td>1001</td>\n      <td>15000</td>\n    </tr>\n    <tr>\n      <th>6780</th>\n      <td>2020-04-22</td>\n      <td>self</td>\n      <td>KMI</td>\n      <td>sale_full</td>\n      <td>$1,001 - $15,000</td>\n      <td>Hon. Ed Perlmutter</td>\n      <td>CO07</td>\n      <td>False</td>\n      <td>2020</td>\n      <td>4</td>\n      <td>22</td>\n      <td>1001</td>\n      <td>15000</td>\n    </tr>\n    <tr>\n      <th>6781</th>\n      <td>2020-04-09</td>\n      <td>--</td>\n      <td>SWK</td>\n      <td>sale_partial</td>\n      <td>$1,001 - $15,000</td>\n      <td>Hon. Ed Perlmutter</td>\n      <td>CO07</td>\n      <td>False</td>\n      <td>2020</td>\n      <td>4</td>\n      <td>9</td>\n      <td>1001</td>\n      <td>15000</td>\n    </tr>\n    <tr>\n      <th>6782</th>\n      <td>2020-04-09</td>\n      <td>--</td>\n      <td>USB</td>\n      <td>sale_partial</td>\n      <td>$1,001 - $15,000</td>\n      <td>Hon. Ed Perlmutter</td>\n      <td>CO07</td>\n      <td>False</td>\n      <td>2020</td>\n      <td>4</td>\n      <td>9</td>\n      <td>1001</td>\n      <td>15000</td>\n    </tr>\n  </tbody>\n</table>\n<p>6783 rows × 13 columns</p>\n</div>"
     },
     "execution_count": 17,
     "metadata": {},
     "output_type": "execute_result"
    }
   ],
   "source": [
    "house_trades = pd.read_csv(\"data/cleaned/all_transactions_house.csv\")\n",
    "house_trades = house_trades.drop(\"Unnamed: 0\", axis=1)\n",
    "house_trades"
   ],
   "metadata": {
    "collapsed": false,
    "pycharm": {
     "name": "#%%\n"
    }
   }
  },
  {
   "cell_type": "code",
   "execution_count": 18,
   "outputs": [
    {
     "name": "stdout",
     "output_type": "stream",
     "text": [
      "[*********************100%***********************]  1560 of 1560 completedmpleted\n",
      "\n",
      "160 Failed downloads:\n",
      "- MXIM: No data found, symbol may be delisted\n",
      "- BPL: No data found, symbol may be delisted\n",
      "- MFRM: None\n",
      "- AMSG: None\n",
      "- XON: No data found, symbol may be delisted\n",
      "- MSTY.PA: No data found, symbol may be delisted\n",
      "- ESV: No data found, symbol may be delisted\n",
      "- TMK: No data found, symbol may be delisted\n",
      "- WTR: No data found, symbol may be delisted\n",
      "- DD-PA: No data found, symbol may be delisted\n",
      "- CLC: None\n",
      "- AXLL: None\n",
      "- CTL: No data found, symbol may be delisted\n",
      "- QLIK: None\n",
      "- LB: No data found, symbol may be delisted\n",
      "- CTAA: No data found, symbol may be delisted\n",
      "- RTN: No data found, symbol may be delisted\n",
      "- CRZO: No data found, symbol may be delisted\n",
      "- LLTC: None\n",
      "- RDSA: No data found, symbol may be delisted\n",
      "- CBS: No data found, symbol may be delisted\n",
      "- ^RGP: None\n",
      "- EMC: None\n",
      "- CELG: No data found, symbol may be delisted\n",
      "- BCR: None\n",
      "- BUNT-RP: No data found, symbol may be delisted\n",
      "- DLPH: None\n",
      "- REVB: No data found, symbol may be delisted\n",
      "- IBKC: No data found, symbol may be delisted\n",
      "- ITC: None\n",
      "- ZNGA.SW: No data found, symbol may be delisted\n",
      "- ACT: Data doesn't exist for startDate = 1347508800, endDate = 1629691200\n",
      "- MDCA: No data found, symbol may be delisted\n",
      "- TNGO: None\n",
      "- BUNT: None\n",
      "- RAI: None\n",
      "- CAB: None\n",
      "- BRKB: No data found, symbol may be delisted\n",
      "- NEE-PC: No data found, symbol may be delisted\n",
      "- XLS-WI: None\n",
      "- SPY160219P00180000: No data found, symbol may be delisted\n",
      "- VSI: No data found, symbol may be delisted\n",
      "- AEX.MU: None\n",
      "- DPM: No data found for this date range, symbol may be delisted\n",
      "- AKRX: None\n",
      "- KRFT: None\n",
      "- RHT: No data found, symbol may be delisted\n",
      "- SGY: None\n",
      "- APC: No data found, symbol may be delisted\n",
      "- USG: No data found, symbol may be delisted\n",
      "- TLLP: None\n",
      "- NGLS: None\n",
      "- TCP: No data found, symbol may be delisted\n",
      "- NPSND: None\n",
      "- CTRL: No data found, symbol may be delisted\n",
      "- AGU: None\n",
      "- CVC: None\n",
      "- NBL: No data found, symbol may be delisted\n",
      "- OKS: None\n",
      "- CY: No data found, symbol may be delisted\n",
      "- SQI: None\n",
      "- WPX: No data found, symbol may be delisted\n",
      "- HYH: None\n",
      "- ATML: None\n",
      "- ^MWE: None\n",
      "- DPS: None\n",
      "- WAGE: No data found, symbol may be delisted\n",
      "- CHL: No data found, symbol may be delisted\n",
      "- HDS: No data found, symbol may be delisted\n",
      "- MCC: None\n",
      "- ANDX: No data found, symbol may be delisted\n",
      "- TYPE: No data found, symbol may be delisted\n",
      "- HF: No data found, symbol may be delisted\n",
      "- ACE: None\n",
      "- 3V64.TI: None\n",
      "- ETE: None\n",
      "- MYL: No data found, symbol may be delisted\n",
      "- DGNR: No data found, symbol may be delisted\n",
      "- PLKI: None\n",
      "- FL4.SG: No data found, symbol may be delisted\n",
      "- SBUX.SW: No data found, symbol may be delisted\n",
      "- BRK.B: No data found, symbol may be delisted\n",
      "- GWPH: No data found, symbol may be delisted\n",
      "- MZOR: No data found for this date range, symbol may be delisted\n",
      "- CMD: No data found, symbol may be delisted\n",
      "- PEGI: No data found, symbol may be delisted\n",
      "- DEACU: No data found, symbol may be delisted\n",
      "- WLTL: No data found, symbol may be delisted\n",
      "- GLIBA: No data found, symbol may be delisted\n",
      "- JPM$G: No data found, symbol may be delisted\n",
      "- BAMXY: None\n",
      "- QCHR: No data found, symbol may be delisted\n",
      "- MTSC: No data found, symbol may be delisted\n",
      "- HS: None\n",
      "- DCMYY: No data found, symbol may be delisted\n",
      "- FSEN: None\n",
      "- QTS: No data found, symbol may be delisted\n",
      "- UHG: None\n",
      "- RP: No data found, symbol may be delisted\n",
      "- FLIR: No data found, symbol may be delisted\n",
      "- APHA: None\n",
      "- TDDXX: None\n",
      "- SNOXX: None\n",
      "- PLT: No data found, symbol may be delisted\n",
      "- WORK: No data found, symbol may be delisted\n",
      "- TOT: No data found, symbol may be delisted\n",
      "- ZOOM: No data found, symbol may be delisted\n",
      "- CLNC: No data found, symbol may be delisted\n",
      "- PRSP: No data found, symbol may be delisted\n",
      "- RF$A: No data found, symbol may be delisted\n",
      "- JIH: No data found, symbol may be delisted\n",
      "- LTD: None\n",
      "- SPYS: No data found, symbol may be delisted\n",
      "- ALFY: No data found, symbol may be delisted\n",
      "- AOBC: No data found, symbol may be delisted\n",
      "- EBJ: None\n",
      "- RDS.A: No data found, symbol may be delisted\n",
      "- TFDXX: None\n",
      "- NBLX: No data found, symbol may be delisted\n",
      "- VTRA: No data found, symbol may be delisted\n",
      "- TMUSR: No data found, symbol may be delisted\n",
      "- STAY: No data found, symbol may be delisted\n",
      "- BXS$A: No data found, symbol may be delisted\n",
      "- CATM: No data found, symbol may be delisted\n",
      "- SZEVY: No data found, symbol may be delisted\n",
      "- CCXX: No data found, symbol may be delisted\n",
      "- SNE: No data found, symbol may be delisted\n",
      "- MSBHY: No data found, symbol may be delisted\n",
      "- FII: No data found, symbol may be delisted\n",
      "- ALXN: No data found, symbol may be delisted\n",
      "- LPT: No data found, symbol may be delisted\n",
      "- SERV: No data found, symbol may be delisted\n",
      "- BRK.A: No data found, symbol may be delisted\n",
      "- SPKE: No data found, symbol may be delisted\n",
      "- UTX: No data found, symbol may be delisted\n",
      "- LCRX: No data found, symbol may be delisted\n",
      "- CCLAY: No data found, symbol may be delisted\n",
      "- PRAH: No data found, symbol may be delisted\n",
      "- ORLT: No data found, symbol may be delisted\n",
      "- VSLR: No data found, symbol may be delisted\n",
      "- FTTGLX: None\n",
      "- VRTU: No data found, symbol may be delisted\n",
      "- BRK: None\n",
      "- AZSEY: No data found, symbol may be delisted\n",
      "- FXM: None\n",
      "- WFC$V: No data found, symbol may be delisted\n",
      "- WDR: No data found, symbol may be delisted\n",
      "- AMTD: No data found, symbol may be delisted\n",
      "- CWEN.A: No data found, symbol may be delisted\n",
      "- INRE: None\n",
      "- APPL: None\n",
      "- DESY: No data found, symbol may be delisted\n",
      "- BOA: None\n",
      "- BROADCOM: No data found, symbol may be delisted\n",
      "- GMLP: No data found, symbol may be delisted\n",
      "- LBDAV: No data found, symbol may be delisted\n",
      "- FSKR: No data found, symbol may be delisted\n",
      "- WMGI: No data found, symbol may be delisted\n",
      "- DWDP: No data found, symbol may be delisted\n",
      "- DNKN: No data found, symbol may be delisted\n",
      "[**********************107%*************************]  1673 of 1560 completed"
     ]
    },
    {
     "data": {
      "text/plain": "             Close                                                             \\\n           0QZI.IL     35G.SG 3V64.TI          A      AAGIY  AAIGF        AAL   \nDate                                                                            \n2012-09-13     NaN        NaN     NaN  27.453505        NaN    NaN        NaN   \n2012-09-14     NaN        NaN     NaN  28.419170        NaN    NaN        NaN   \n2012-09-17     NaN        NaN     NaN  28.347639        NaN    NaN        NaN   \n2012-09-18     NaN        NaN     NaN  28.290415        NaN    NaN        NaN   \n2012-09-19     NaN        NaN     NaN  28.526466        NaN    NaN        NaN   \n...            ...        ...     ...        ...        ...    ...        ...   \n2021-09-26     NaN        NaN     NaN        NaN        NaN    NaN        NaN   \n2021-09-27     NaN  41.680000     NaN        NaN  44.799999  11.34  21.469999   \n2021-09-28     NaN  40.459999     NaN        NaN  44.139999  10.96  21.430000   \n2021-09-29     NaN  41.419998     NaN        NaN  45.360001  11.50  21.010000   \n2021-09-30     NaN        NaN     NaN        NaN        NaN    NaN        NaN   \n\n                                             ...                          \\\n                  AAN      AAON        AAPL  ...        ZBRA         ZEN   \nDate                                         ...                           \n2012-09-13        NaN  8.617778         NaN  ...         NaN         NaN   \n2012-09-14        NaN  9.088889         NaN  ...         NaN         NaN   \n2012-09-17        NaN  8.871111         NaN  ...         NaN         NaN   \n2012-09-18        NaN  9.075556         NaN  ...         NaN         NaN   \n2012-09-19        NaN  9.000000         NaN  ...         NaN         NaN   \n...               ...       ...         ...  ...         ...         ...   \n2021-09-26        NaN       NaN         NaN  ...         NaN         NaN   \n2021-09-27  28.850000       NaN  145.369995  ...  548.580017  121.330002   \n2021-09-28  28.110001       NaN  141.910004  ...  531.179993  118.120003   \n2021-09-29  28.490000       NaN  142.830002  ...  525.669983  116.269997   \n2021-09-30        NaN       NaN         NaN  ...         NaN         NaN   \n\n                                                                      \n                 ZION  ZIOP          ZM  ZNGA ZNGA.SW ZOOM ^MWE ^RGP  \nDate                                                                  \n2012-09-13        NaN  5.45         NaN   NaN     NaN  NaN  NaN  NaN  \n2012-09-14        NaN  5.53         NaN   NaN     NaN  NaN  NaN  NaN  \n2012-09-17        NaN  5.69         NaN   NaN     NaN  NaN  NaN  NaN  \n2012-09-18        NaN  5.77         NaN   NaN     NaN  NaN  NaN  NaN  \n2012-09-19        NaN  5.71         NaN   NaN     NaN  NaN  NaN  NaN  \n...               ...   ...         ...   ...     ...  ...  ...  ...  \n2021-09-26        NaN   NaN         NaN   NaN     NaN  NaN  NaN  NaN  \n2021-09-27  62.889999   NaN  272.880005  7.56     NaN  NaN  NaN  NaN  \n2021-09-28  62.740002   NaN  261.890015  7.47     NaN  NaN  NaN  NaN  \n2021-09-29  63.740002   NaN  257.410004  7.55     NaN  NaN  NaN  NaN  \n2021-09-30        NaN   NaN         NaN   NaN     NaN  NaN  NaN  NaN  \n\n[2633 rows x 1562 columns]",
      "text/html": "<div>\n<style scoped>\n    .dataframe tbody tr th:only-of-type {\n        vertical-align: middle;\n    }\n\n    .dataframe tbody tr th {\n        vertical-align: top;\n    }\n\n    .dataframe thead tr th {\n        text-align: left;\n    }\n\n    .dataframe thead tr:last-of-type th {\n        text-align: right;\n    }\n</style>\n<table border=\"1\" class=\"dataframe\">\n  <thead>\n    <tr>\n      <th></th>\n      <th colspan=\"21\" halign=\"left\">Close</th>\n    </tr>\n    <tr>\n      <th></th>\n      <th>0QZI.IL</th>\n      <th>35G.SG</th>\n      <th>3V64.TI</th>\n      <th>A</th>\n      <th>AAGIY</th>\n      <th>AAIGF</th>\n      <th>AAL</th>\n      <th>AAN</th>\n      <th>AAON</th>\n      <th>AAPL</th>\n      <th>...</th>\n      <th>ZBRA</th>\n      <th>ZEN</th>\n      <th>ZION</th>\n      <th>ZIOP</th>\n      <th>ZM</th>\n      <th>ZNGA</th>\n      <th>ZNGA.SW</th>\n      <th>ZOOM</th>\n      <th>^MWE</th>\n      <th>^RGP</th>\n    </tr>\n    <tr>\n      <th>Date</th>\n      <th></th>\n      <th></th>\n      <th></th>\n      <th></th>\n      <th></th>\n      <th></th>\n      <th></th>\n      <th></th>\n      <th></th>\n      <th></th>\n      <th></th>\n      <th></th>\n      <th></th>\n      <th></th>\n      <th></th>\n      <th></th>\n      <th></th>\n      <th></th>\n      <th></th>\n      <th></th>\n      <th></th>\n    </tr>\n  </thead>\n  <tbody>\n    <tr>\n      <th>2012-09-13</th>\n      <td>NaN</td>\n      <td>NaN</td>\n      <td>NaN</td>\n      <td>27.453505</td>\n      <td>NaN</td>\n      <td>NaN</td>\n      <td>NaN</td>\n      <td>NaN</td>\n      <td>8.617778</td>\n      <td>NaN</td>\n      <td>...</td>\n      <td>NaN</td>\n      <td>NaN</td>\n      <td>NaN</td>\n      <td>5.45</td>\n      <td>NaN</td>\n      <td>NaN</td>\n      <td>NaN</td>\n      <td>NaN</td>\n      <td>NaN</td>\n      <td>NaN</td>\n    </tr>\n    <tr>\n      <th>2012-09-14</th>\n      <td>NaN</td>\n      <td>NaN</td>\n      <td>NaN</td>\n      <td>28.419170</td>\n      <td>NaN</td>\n      <td>NaN</td>\n      <td>NaN</td>\n      <td>NaN</td>\n      <td>9.088889</td>\n      <td>NaN</td>\n      <td>...</td>\n      <td>NaN</td>\n      <td>NaN</td>\n      <td>NaN</td>\n      <td>5.53</td>\n      <td>NaN</td>\n      <td>NaN</td>\n      <td>NaN</td>\n      <td>NaN</td>\n      <td>NaN</td>\n      <td>NaN</td>\n    </tr>\n    <tr>\n      <th>2012-09-17</th>\n      <td>NaN</td>\n      <td>NaN</td>\n      <td>NaN</td>\n      <td>28.347639</td>\n      <td>NaN</td>\n      <td>NaN</td>\n      <td>NaN</td>\n      <td>NaN</td>\n      <td>8.871111</td>\n      <td>NaN</td>\n      <td>...</td>\n      <td>NaN</td>\n      <td>NaN</td>\n      <td>NaN</td>\n      <td>5.69</td>\n      <td>NaN</td>\n      <td>NaN</td>\n      <td>NaN</td>\n      <td>NaN</td>\n      <td>NaN</td>\n      <td>NaN</td>\n    </tr>\n    <tr>\n      <th>2012-09-18</th>\n      <td>NaN</td>\n      <td>NaN</td>\n      <td>NaN</td>\n      <td>28.290415</td>\n      <td>NaN</td>\n      <td>NaN</td>\n      <td>NaN</td>\n      <td>NaN</td>\n      <td>9.075556</td>\n      <td>NaN</td>\n      <td>...</td>\n      <td>NaN</td>\n      <td>NaN</td>\n      <td>NaN</td>\n      <td>5.77</td>\n      <td>NaN</td>\n      <td>NaN</td>\n      <td>NaN</td>\n      <td>NaN</td>\n      <td>NaN</td>\n      <td>NaN</td>\n    </tr>\n    <tr>\n      <th>2012-09-19</th>\n      <td>NaN</td>\n      <td>NaN</td>\n      <td>NaN</td>\n      <td>28.526466</td>\n      <td>NaN</td>\n      <td>NaN</td>\n      <td>NaN</td>\n      <td>NaN</td>\n      <td>9.000000</td>\n      <td>NaN</td>\n      <td>...</td>\n      <td>NaN</td>\n      <td>NaN</td>\n      <td>NaN</td>\n      <td>5.71</td>\n      <td>NaN</td>\n      <td>NaN</td>\n      <td>NaN</td>\n      <td>NaN</td>\n      <td>NaN</td>\n      <td>NaN</td>\n    </tr>\n    <tr>\n      <th>...</th>\n      <td>...</td>\n      <td>...</td>\n      <td>...</td>\n      <td>...</td>\n      <td>...</td>\n      <td>...</td>\n      <td>...</td>\n      <td>...</td>\n      <td>...</td>\n      <td>...</td>\n      <td>...</td>\n      <td>...</td>\n      <td>...</td>\n      <td>...</td>\n      <td>...</td>\n      <td>...</td>\n      <td>...</td>\n      <td>...</td>\n      <td>...</td>\n      <td>...</td>\n      <td>...</td>\n    </tr>\n    <tr>\n      <th>2021-09-26</th>\n      <td>NaN</td>\n      <td>NaN</td>\n      <td>NaN</td>\n      <td>NaN</td>\n      <td>NaN</td>\n      <td>NaN</td>\n      <td>NaN</td>\n      <td>NaN</td>\n      <td>NaN</td>\n      <td>NaN</td>\n      <td>...</td>\n      <td>NaN</td>\n      <td>NaN</td>\n      <td>NaN</td>\n      <td>NaN</td>\n      <td>NaN</td>\n      <td>NaN</td>\n      <td>NaN</td>\n      <td>NaN</td>\n      <td>NaN</td>\n      <td>NaN</td>\n    </tr>\n    <tr>\n      <th>2021-09-27</th>\n      <td>NaN</td>\n      <td>41.680000</td>\n      <td>NaN</td>\n      <td>NaN</td>\n      <td>44.799999</td>\n      <td>11.34</td>\n      <td>21.469999</td>\n      <td>28.850000</td>\n      <td>NaN</td>\n      <td>145.369995</td>\n      <td>...</td>\n      <td>548.580017</td>\n      <td>121.330002</td>\n      <td>62.889999</td>\n      <td>NaN</td>\n      <td>272.880005</td>\n      <td>7.56</td>\n      <td>NaN</td>\n      <td>NaN</td>\n      <td>NaN</td>\n      <td>NaN</td>\n    </tr>\n    <tr>\n      <th>2021-09-28</th>\n      <td>NaN</td>\n      <td>40.459999</td>\n      <td>NaN</td>\n      <td>NaN</td>\n      <td>44.139999</td>\n      <td>10.96</td>\n      <td>21.430000</td>\n      <td>28.110001</td>\n      <td>NaN</td>\n      <td>141.910004</td>\n      <td>...</td>\n      <td>531.179993</td>\n      <td>118.120003</td>\n      <td>62.740002</td>\n      <td>NaN</td>\n      <td>261.890015</td>\n      <td>7.47</td>\n      <td>NaN</td>\n      <td>NaN</td>\n      <td>NaN</td>\n      <td>NaN</td>\n    </tr>\n    <tr>\n      <th>2021-09-29</th>\n      <td>NaN</td>\n      <td>41.419998</td>\n      <td>NaN</td>\n      <td>NaN</td>\n      <td>45.360001</td>\n      <td>11.50</td>\n      <td>21.010000</td>\n      <td>28.490000</td>\n      <td>NaN</td>\n      <td>142.830002</td>\n      <td>...</td>\n      <td>525.669983</td>\n      <td>116.269997</td>\n      <td>63.740002</td>\n      <td>NaN</td>\n      <td>257.410004</td>\n      <td>7.55</td>\n      <td>NaN</td>\n      <td>NaN</td>\n      <td>NaN</td>\n      <td>NaN</td>\n    </tr>\n    <tr>\n      <th>2021-09-30</th>\n      <td>NaN</td>\n      <td>NaN</td>\n      <td>NaN</td>\n      <td>NaN</td>\n      <td>NaN</td>\n      <td>NaN</td>\n      <td>NaN</td>\n      <td>NaN</td>\n      <td>NaN</td>\n      <td>NaN</td>\n      <td>...</td>\n      <td>NaN</td>\n      <td>NaN</td>\n      <td>NaN</td>\n      <td>NaN</td>\n      <td>NaN</td>\n      <td>NaN</td>\n      <td>NaN</td>\n      <td>NaN</td>\n      <td>NaN</td>\n      <td>NaN</td>\n    </tr>\n  </tbody>\n</table>\n<p>2633 rows × 1562 columns</p>\n</div>"
     },
     "execution_count": 18,
     "metadata": {},
     "output_type": "execute_result"
    }
   ],
   "source": [
    "house_stocks = yf.download(\" \".join(house_trades[\"ticker\"].unique()),\n",
    "                            start=house_trades[\"transaction_date\"].min(),\n",
    "                            end=house_trades[\"transaction_date\"].max())\n",
    "house_stocks = house_stocks.drop([\"Volume\", \"Open\", \"Adj Close\", \"Low\", \"High\"], axis=1)\n",
    "house_stocks"
   ],
   "metadata": {
    "collapsed": false,
    "pycharm": {
     "name": "#%%\n"
    }
   }
  },
  {
   "cell_type": "code",
   "execution_count": 19,
   "outputs": [
    {
     "name": "stdout",
     "output_type": "stream",
     "text": [
      "[************************112%**************************]  1751 of 1560 completed"
     ]
    }
   ],
   "source": [
    "trades = []\n",
    "for representative in house_trades[\"representative\"].unique():\n",
    "    data = house_trades[house_trades[\"representative\"] == representative]\n",
    "    data = data.sort_values(\"transaction_date\", ascending=True)\n",
    "    temp = {}\n",
    "    for row in data.itertuples():\n",
    "        weight = (row.amount_lower + row.amount_upper) / 2\n",
    "        if row.type == \"sale_full\":\n",
    "            if row.ticker in temp and row.ticker in house_stocks[\"Close\"]:\n",
    "                try:\n",
    "                    temp[row.ticker][\"sell_date\"] = row.transaction_date\n",
    "                    temp[row.ticker][\"weight\"] = weight\n",
    "                    buy = house_stocks[\"Close\"][row.ticker].loc[temp[row.ticker][\"transaction_date\"]]\n",
    "                    sell = house_stocks[\"Close\"][row.ticker].loc[row.transaction_date]\n",
    "                    temp[row.ticker][\"gain\"] = (sell - buy) / buy\n",
    "                    trades.append(temp[row.ticker])\n",
    "                    temp.pop(row.ticker)\n",
    "                except KeyError as e:\n",
    "                    print(e)\n",
    "        elif row.type == \"sale_partial\":\n",
    "            if row.ticker in temp and row.ticker in house_stocks[\"Close\"]:\n",
    "                try:\n",
    "                    temp[row.ticker][\"sell_date\"] = row.transaction_date\n",
    "                    temp[row.ticker][\"weight\"] = weight\n",
    "                    buy = house_stocks[\"Close\"][row.ticker].loc[temp[row.ticker][\"transaction_date\"]]\n",
    "                    sell = house_stocks[\"Close\"][row.ticker].loc[row.transaction_date]\n",
    "                    temp[row.ticker][\"gain\"] = (sell - buy) / buy\n",
    "                    trades.append(temp[row.ticker])\n",
    "                except KeyError as e:\n",
    "                    print(e)\n",
    "        elif row.type == \"purchase\":\n",
    "            row_dict = {}\n",
    "            for field in house_trades.columns:\n",
    "                row_dict[field] = getattr(row, field)\n",
    "            temp[row.ticker] = row_dict\n",
    "\n",
    "house_trades = pd.DataFrame(trades)"
   ],
   "metadata": {
    "collapsed": false,
    "pycharm": {
     "name": "#%%\n"
    }
   }
  },
  {
   "cell_type": "code",
   "execution_count": 20,
   "outputs": [],
   "source": [
    "house_trades.to_csv(\"data/cleaned/house_trades.csv\")"
   ],
   "metadata": {
    "collapsed": false,
    "pycharm": {
     "name": "#%%\n"
    }
   }
  }
 ],
 "metadata": {
  "kernelspec": {
   "display_name": "Python 3",
   "language": "python",
   "name": "python3"
  },
  "language_info": {
   "codemirror_mode": {
    "name": "ipython",
    "version": 2
   },
   "file_extension": ".py",
   "mimetype": "text/x-python",
   "name": "python",
   "nbconvert_exporter": "python",
   "pygments_lexer": "ipython2",
   "version": "2.7.6"
  }
 },
 "nbformat": 4,
 "nbformat_minor": 0
}