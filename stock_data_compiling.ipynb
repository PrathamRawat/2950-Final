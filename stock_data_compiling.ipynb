{
 "cells": [
  {
   "cell_type": "markdown",
   "metadata": {
    "collapsed": true,
    "pycharm": {
     "name": "#%% md\n"
    }
   },
   "source": [
    "# Compiling Senator and House of Representatives Stock Trading Data\n"
   ]
  },
  {
   "cell_type": "code",
   "execution_count": null,
   "outputs": [],
   "source": [
    "import pandas as pd\n",
    "import yfinance as yf"
   ],
   "metadata": {
    "collapsed": false,
    "pycharm": {
     "name": "#%%\n",
     "is_executing": true
    }
   }
  },
  {
   "cell_type": "markdown",
   "source": [
    "## Senate Stocks"
   ],
   "metadata": {
    "collapsed": false,
    "pycharm": {
     "name": "#%% md\n"
    }
   }
  },
  {
   "cell_type": "code",
   "execution_count": null,
   "outputs": [],
   "source": [
    "senator_trades = pd.read_csv(\"data/cleaned/all_transactions_senate.csv\")\n",
    "senator_trades = senator_trades.drop(\"Unnamed: 0\", axis=1)\n",
    "senator_trades.head()"
   ],
   "metadata": {
    "collapsed": false,
    "pycharm": {
     "name": "#%%\n",
     "is_executing": true
    }
   }
  },
  {
   "cell_type": "code",
   "execution_count": null,
   "outputs": [],
   "source": [
    "senate_stocks = yf.download(\" \".join(senator_trades[\"ticker\"].unique()),\n",
    "                            start=senator_trades[\"transaction_date\"].min(),\n",
    "                            end=senator_trades[\"transaction_date\"].max())\n",
    "senate_stocks = senate_stocks.drop([\"Volume\", \"Open\", \"Adj Close\", \"Low\", \"High\"], axis=1)\n",
    "senate_stocks"
   ],
   "metadata": {
    "collapsed": false,
    "pycharm": {
     "name": "#%%\n",
     "is_executing": true
    }
   }
  },
  {
   "cell_type": "code",
   "execution_count": null,
   "outputs": [],
   "source": [
    "trades = []\n",
    "for senator in senator_trades[\"senator\"].unique():\n",
    "    data = senator_trades[senator_trades[\"senator\"] == senator]\n",
    "    data = data.sort_values(\"transaction_date\", ascending=True)\n",
    "\n",
    "    temp = {}\n",
    "\n",
    "    for row in data.itertuples():\n",
    "        weight = (row.amount_lower + row.amount_upper) / 2\n",
    "        if row.type == \"Sale (Full)\":\n",
    "            if row.ticker in temp and row.ticker in senate_stocks[\"Close\"]:\n",
    "                try:\n",
    "                    temp[row.ticker][\"sell_date\"] = row.transaction_date\n",
    "                    temp[row.ticker][\"weight\"] = weight\n",
    "                    buy = senate_stocks[\"Close\"][row.ticker].loc[temp[row.ticker][\"transaction_date\"]]\n",
    "                    sell = senate_stocks[\"Close\"][row.ticker].loc[row.transaction_date]\n",
    "                    temp[row.ticker][\"gain\"] = (sell - buy) / buy\n",
    "                    trades.append(temp[row.ticker])\n",
    "                    temp.pop(row.ticker)\n",
    "                except KeyError as e:\n",
    "                    print(e)\n",
    "        elif row.type == \"Sale (Partial)\":\n",
    "            if row.ticker in temp:\n",
    "                try:\n",
    "                    temp[row.ticker][\"sell_date\"] = row.transaction_date\n",
    "                    temp[row.ticker][\"weight\"] = weight\n",
    "                    buy = senate_stocks[\"Close\"][row.ticker].loc[temp[row.ticker][\"transaction_date\"]]\n",
    "                    sell = senate_stocks[\"Close\"][row.ticker].loc[row.transaction_date]\n",
    "                    temp[row.ticker][\"gain\"] = (sell - buy) / buy\n",
    "                    trades.append(temp[row.ticker])\n",
    "                except KeyError as e:\n",
    "                    print(e)\n",
    "        elif row.type == \"Purchase\":\n",
    "            row_dict = {}\n",
    "            for field in senator_trades.columns:\n",
    "                row_dict[field] = getattr(row, field)\n",
    "            temp[row.ticker] = row_dict\n",
    "\n",
    "senator_trades = pd.DataFrame(trades)"
   ],
   "metadata": {
    "collapsed": false,
    "pycharm": {
     "name": "#%%\n",
     "is_executing": true
    }
   }
  },
  {
   "cell_type": "code",
   "execution_count": null,
   "outputs": [],
   "source": [
    "senator_trades.to_csv(\"data/cleaned/senator_trades.csv\")"
   ],
   "metadata": {
    "collapsed": false,
    "pycharm": {
     "name": "#%%\n",
     "is_executing": true
    }
   }
  },
  {
   "cell_type": "markdown",
   "source": [
    "## House of Representatives Stocks"
   ],
   "metadata": {
    "collapsed": false
   }
  },
  {
   "cell_type": "code",
   "execution_count": null,
   "outputs": [],
   "source": [
    "house_trades = pd.read_csv(\"data/cleaned/all_transactions_house.csv\")\n",
    "house_trades = house_trades.drop(\"Unnamed: 0\", axis=1)\n",
    "house_trades"
   ],
   "metadata": {
    "collapsed": false,
    "pycharm": {
     "name": "#%%\n",
     "is_executing": true
    }
   }
  },
  {
   "cell_type": "code",
   "execution_count": null,
   "outputs": [],
   "source": [
    "house_stocks = yf.download(\" \".join(house_trades[\"ticker\"].unique()),\n",
    "                            start=house_trades[\"transaction_date\"].min(),\n",
    "                            end=house_trades[\"transaction_date\"].max())\n",
    "house_stocks = house_stocks.drop([\"Volume\", \"Open\", \"Adj Close\", \"Low\", \"High\"], axis=1)\n",
    "house_stocks"
   ],
   "metadata": {
    "collapsed": false,
    "pycharm": {
     "name": "#%%\n",
     "is_executing": true
    }
   }
  },
  {
   "cell_type": "code",
   "execution_count": null,
   "outputs": [],
   "source": [
    "trades = []\n",
    "for representative in house_trades[\"representative\"].unique():\n",
    "    data = house_trades[house_trades[\"representative\"] == representative]\n",
    "    data = data.sort_values(\"transaction_date\", ascending=True)\n",
    "    temp = {}\n",
    "    for row in data.itertuples():\n",
    "        weight = (row.amount_lower + row.amount_upper) / 2\n",
    "        if row.type == \"sale_full\":\n",
    "            if row.ticker in temp and row.ticker in house_stocks[\"Close\"]:\n",
    "                try:\n",
    "                    temp[row.ticker][\"sell_date\"] = row.transaction_date\n",
    "                    temp[row.ticker][\"weight\"] = weight\n",
    "                    buy = house_stocks[\"Close\"][row.ticker].loc[temp[row.ticker][\"transaction_date\"]]\n",
    "                    sell = house_stocks[\"Close\"][row.ticker].loc[row.transaction_date]\n",
    "                    temp[row.ticker][\"gain\"] = (sell - buy) / buy\n",
    "                    trades.append(temp[row.ticker])\n",
    "                    temp.pop(row.ticker)\n",
    "                except KeyError as e:\n",
    "                    print(e)\n",
    "        elif row.type == \"sale_partial\":\n",
    "            if row.ticker in temp and row.ticker in house_stocks[\"Close\"]:\n",
    "                try:\n",
    "                    temp[row.ticker][\"sell_date\"] = row.transaction_date\n",
    "                    temp[row.ticker][\"weight\"] = weight\n",
    "                    buy = house_stocks[\"Close\"][row.ticker].loc[temp[row.ticker][\"transaction_date\"]]\n",
    "                    sell = house_stocks[\"Close\"][row.ticker].loc[row.transaction_date]\n",
    "                    temp[row.ticker][\"gain\"] = (sell - buy) / buy\n",
    "                    trades.append(temp[row.ticker])\n",
    "                except KeyError as e:\n",
    "                    print(e)\n",
    "        elif row.type == \"purchase\":\n",
    "            row_dict = {}\n",
    "            for field in house_trades.columns:\n",
    "                row_dict[field] = getattr(row, field)\n",
    "            temp[row.ticker] = row_dict\n",
    "\n",
    "house_trades = pd.DataFrame(trades)"
   ],
   "metadata": {
    "collapsed": false,
    "pycharm": {
     "name": "#%%\n",
     "is_executing": true
    }
   }
  },
  {
   "cell_type": "code",
   "execution_count": null,
   "outputs": [],
   "source": [
    "house_trades.to_csv(\"data/cleaned/house_trades.csv\")"
   ],
   "metadata": {
    "collapsed": false,
    "pycharm": {
     "name": "#%%\n",
     "is_executing": true
    }
   }
  }
 ],
 "metadata": {
  "kernelspec": {
   "display_name": "Python 3",
   "language": "python",
   "name": "python3"
  },
  "language_info": {
   "codemirror_mode": {
    "name": "ipython",
    "version": 2
   },
   "file_extension": ".py",
   "mimetype": "text/x-python",
   "name": "python",
   "nbconvert_exporter": "python",
   "pygments_lexer": "ipython2",
   "version": "2.7.6"
  }
 },
 "nbformat": 4,
 "nbformat_minor": 0
}