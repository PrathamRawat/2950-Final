{
 "nbformat": 4,
 "nbformat_minor": 0,
 "metadata": {
  "colab": {
   "name": "EDA.ipynb",
   "provenance": [],
   "collapsed_sections": [],
   "toc_visible": true
  },
  "kernelspec": {
   "name": "python3",
   "language": "python",
   "display_name": "Python 3 (ipykernel)"
  },
  "language_info": {
   "name": "python"
  }
 },
 "cells": [
  {
   "cell_type": "markdown",
   "metadata": {
    "id": "KfJyj93t2YO-"
   },
   "source": [
    "# INFO 2950 Final Project Phase 2"
   ]
  },
  {
   "cell_type": "markdown",
   "metadata": {
    "id": "SISqGxcAb70U"
   },
   "source": [
    "Group: Franklin Zheng, Felix Roz, Pratham Rawat\n"
   ]
  },
  {
   "cell_type": "code",
   "metadata": {
    "id": "mnpUPUnsbtSl"
   },
   "source": [
    "import numpy as np\n",
    "import matplotlib.pyplot as plt\n",
    "import pandas as pd"
   ],
   "execution_count": 12,
   "outputs": []
  },
  {
   "cell_type": "markdown",
   "metadata": {
    "id": "cRjVUr-SSwk_"
   },
   "source": [
    "### Research Overview / Questions"
   ]
  },
  {
   "cell_type": "markdown",
   "metadata": {
    "id": "ILF8D_MwS0Y6"
   },
   "source": [
    "We want to analyze Senate stock filings. By pairing this data with datasets containing data on those senators, we hope to find interesting relationships between Senators' characteristics/features and their stock filings."
   ]
  },
  {
   "cell_type": "markdown",
   "metadata": {
    "id": "YZGjR4MKT58w"
   },
   "source": [
    "Some questions we want to consider are:\n",
    "- Do Senators perform better than the market?\n",
    "- Do Senators make timely trades based off of government or electoral decisions?\n",
    "- How do the trading habits of Senators differ across various features (political party, gender, etc)?\n"
   ]
  },
  {
   "cell_type": "markdown",
   "metadata": {
    "id": "hv3irpP4RJPg"
   },
   "source": [
    "### Data Collection"
   ]
  },
  {
   "cell_type": "markdown",
   "metadata": {
    "id": "6HQt_V0TeR1g"
   },
   "source": [
    "#### SEC Filing Data"
   ]
  },
  {
   "cell_type": "markdown",
   "metadata": {
    "id": "VbO1KS0dRR_T"
   },
   "source": [
    "The main dataset of SEC filings is pulled from [Senate Stock Watcher](https://senatestockwatcher.com/api) which provides an API for following Senator's stock trades. By law, officeholding members of the government have to disclose every stock trade that they make to the Securities and Exchange Commission. By following these trades, we hope to find some interesting results. The site offers a realtime API that updates every time an SEC filing is made. However, it also offers historical data in a downloadable CSV format, which is what we are using for our analysis."
   ]
  },
  {
   "cell_type": "markdown",
   "metadata": {
    "id": "bFDaHNF8eVZq"
   },
   "source": [
    "#### Stock Market Historical Prices"
   ]
  },
  {
   "cell_type": "markdown",
   "metadata": {
    "id": "nnlc4j42SY15"
   },
   "source": [
    "For data on the tickers that we want to analyze throughout the stock filings, we will use data from [Google Finance](https://support.google.com/docs/answer/3093281?hl=en) to get historical stock prices to try to gauge how successful an investment in a particular stock was. Google Sheets provides an integration for Google Finance which allows us to get stock prices for a particular company in a given date range. We would use this to analyze particular stocks of interest and how senators performed in their investments of those stocks."
   ]
  },
  {
   "cell_type": "markdown",
   "metadata": {
    "id": "cWdrrouuebFp"
   },
   "source": [
    "#### Additional Senator Data"
   ]
  },
  {
   "cell_type": "markdown",
   "metadata": {
    "id": "cSum4yOfY7BY"
   },
   "source": [
    "We will use [the @unitedstates project](https://github.com/unitedstates/congress-legislators) to get broad data on every single senator for certain datapoints. These all provide downloadable CSVs which we can use to cross-reference senator names from the SEC Filing data to get different features of those senators. However, we will need to download two datasets. One of historical data and one of current data. We can also prune down this dataset intensely in order to only contain senators that have filed with the SEC, instead of all legislators since the 1700s."
   ]
  },
  {
   "cell_type": "markdown",
   "metadata": {
    "id": "whu-BpFFccM-"
   },
   "source": [
    "### Data Cleaning"
   ]
  },
  {
   "cell_type": "markdown",
   "metadata": {
    "id": "CRCjjdzv1wuI"
   },
   "source": [
    "#### SEC Filings"
   ]
  },
  {
   "cell_type": "markdown",
   "metadata": {
    "id": "a8N9CT4eXk5y"
   },
   "source": [
    "First, we need to load the data. We can print it out, so we get an understanding of datapoints available to us."
   ]
  },
  {
   "cell_type": "code",
   "metadata": {
    "id": "zR-y3ymwce2T",
    "colab": {
     "base_uri": "https://localhost:8080/",
     "height": 289
    },
    "outputId": "c1f96fe8-a438-483b-db4c-fe52de68b65e"
   },
   "source": [
    "data = pd.read_csv(\"data/raw/all_transactions.csv\") # senate\n",
    "house = pd.read_csv(\"data/raw/all_transactions_house.csv\") # house\n",
    "data.head()"
   ],
   "execution_count": 13,
   "outputs": [
    {
     "data": {
      "text/plain": "  transaction_date  owner ticker  \\\n0       01/16/2021  Joint     --   \n1       08/30/2021  Joint   CALX   \n2       08/30/2021  Joint   ECOM   \n3       08/30/2021  Joint   ECOM   \n4       08/27/2021  Joint   CALX   \n\n                                   asset_description        asset_type  \\\n0  Fitso (Exchanged) <br> Zomato (Received) <div ...  Non-Public Stock   \n1  Calix, Inc Common Stock <div class=\"text-muted...      Stock Option   \n2  ChannelAdvisor Corporation Common Stock <div c...      Stock Option   \n3  ChannelAdvisor Corporation Common Stock <div c...      Stock Option   \n4  Calix, Inc Common Stock <div class=\"text-muted...      Stock Option   \n\n          type            amount  \\\n0     Exchange  $1,001 - $15,000   \n1  Sale (Full)  $1,001 - $15,000   \n2  Sale (Full)  $1,001 - $15,000   \n3  Sale (Full)  $1,001 - $15,000   \n4     Purchase  $1,001 - $15,000   \n\n                                             comment              senator  \\\n0  Exchange of stock due to merger. Asset is unde...     Patrick J Toomey   \n1                                                 --  Thomas H Tuberville   \n2                                                 --  Thomas H Tuberville   \n3                                                 --  Thomas H Tuberville   \n4                                                 --  Thomas H Tuberville   \n\n                                            ptr_link disclosure_date  \n0  https://efdsearch.senate.gov/search/view/ptr/4...      09/09/2021  \n1  https://efdsearch.senate.gov/search/view/ptr/d...      09/08/2021  \n2  https://efdsearch.senate.gov/search/view/ptr/d...      09/08/2021  \n3  https://efdsearch.senate.gov/search/view/ptr/d...      09/08/2021  \n4  https://efdsearch.senate.gov/search/view/ptr/d...      09/08/2021  ",
      "text/html": "<div>\n<style scoped>\n    .dataframe tbody tr th:only-of-type {\n        vertical-align: middle;\n    }\n\n    .dataframe tbody tr th {\n        vertical-align: top;\n    }\n\n    .dataframe thead th {\n        text-align: right;\n    }\n</style>\n<table border=\"1\" class=\"dataframe\">\n  <thead>\n    <tr style=\"text-align: right;\">\n      <th></th>\n      <th>transaction_date</th>\n      <th>owner</th>\n      <th>ticker</th>\n      <th>asset_description</th>\n      <th>asset_type</th>\n      <th>type</th>\n      <th>amount</th>\n      <th>comment</th>\n      <th>senator</th>\n      <th>ptr_link</th>\n      <th>disclosure_date</th>\n    </tr>\n  </thead>\n  <tbody>\n    <tr>\n      <th>0</th>\n      <td>01/16/2021</td>\n      <td>Joint</td>\n      <td>--</td>\n      <td>Fitso (Exchanged) &lt;br&gt; Zomato (Received) &lt;div ...</td>\n      <td>Non-Public Stock</td>\n      <td>Exchange</td>\n      <td>$1,001 - $15,000</td>\n      <td>Exchange of stock due to merger. Asset is unde...</td>\n      <td>Patrick J Toomey</td>\n      <td>https://efdsearch.senate.gov/search/view/ptr/4...</td>\n      <td>09/09/2021</td>\n    </tr>\n    <tr>\n      <th>1</th>\n      <td>08/30/2021</td>\n      <td>Joint</td>\n      <td>CALX</td>\n      <td>Calix, Inc Common Stock &lt;div class=\"text-muted...</td>\n      <td>Stock Option</td>\n      <td>Sale (Full)</td>\n      <td>$1,001 - $15,000</td>\n      <td>--</td>\n      <td>Thomas H Tuberville</td>\n      <td>https://efdsearch.senate.gov/search/view/ptr/d...</td>\n      <td>09/08/2021</td>\n    </tr>\n    <tr>\n      <th>2</th>\n      <td>08/30/2021</td>\n      <td>Joint</td>\n      <td>ECOM</td>\n      <td>ChannelAdvisor Corporation Common Stock &lt;div c...</td>\n      <td>Stock Option</td>\n      <td>Sale (Full)</td>\n      <td>$1,001 - $15,000</td>\n      <td>--</td>\n      <td>Thomas H Tuberville</td>\n      <td>https://efdsearch.senate.gov/search/view/ptr/d...</td>\n      <td>09/08/2021</td>\n    </tr>\n    <tr>\n      <th>3</th>\n      <td>08/30/2021</td>\n      <td>Joint</td>\n      <td>ECOM</td>\n      <td>ChannelAdvisor Corporation Common Stock &lt;div c...</td>\n      <td>Stock Option</td>\n      <td>Sale (Full)</td>\n      <td>$1,001 - $15,000</td>\n      <td>--</td>\n      <td>Thomas H Tuberville</td>\n      <td>https://efdsearch.senate.gov/search/view/ptr/d...</td>\n      <td>09/08/2021</td>\n    </tr>\n    <tr>\n      <th>4</th>\n      <td>08/27/2021</td>\n      <td>Joint</td>\n      <td>CALX</td>\n      <td>Calix, Inc Common Stock &lt;div class=\"text-muted...</td>\n      <td>Stock Option</td>\n      <td>Purchase</td>\n      <td>$1,001 - $15,000</td>\n      <td>--</td>\n      <td>Thomas H Tuberville</td>\n      <td>https://efdsearch.senate.gov/search/view/ptr/d...</td>\n      <td>09/08/2021</td>\n    </tr>\n  </tbody>\n</table>\n</div>"
     },
     "execution_count": 13,
     "metadata": {},
     "output_type": "execute_result"
    }
   ]
  },
  {
   "cell_type": "markdown",
   "metadata": {
    "id": "w1ceqEA7YFMB"
   },
   "source": [
    "We can see that some of the data in the `ticker` column has a value of `--`. We can also see a lot of columns that we do not want to operate on. We can remove those datapoints and columns.\n",
    "\n",
    "We are also removing the rows that contain data about other kinds of financial securities like `Stock Option`. We won't be focusing on those securities in our analysis."
   ]
  },
  {
   "cell_type": "code",
   "metadata": {
    "id": "ukMtOwpPfacC",
    "colab": {
     "base_uri": "https://localhost:8080/",
     "height": 204
    },
    "outputId": "13eefaa7-1dce-49d0-a9da-f387e7466957"
   },
   "source": [
    "data = data.loc[data.asset_type == \"Stock\"].loc[data.ticker != \"--\"].dropna()\n",
    "data = data.drop(columns=[\"ptr_link\", \"asset_type\", \"disclosure_date\", \"asset_description\"])\n",
    "data.head()"
   ],
   "execution_count": 14,
   "outputs": [
    {
     "data": {
      "text/plain": "   transaction_date   owner ticker            type              amount  \\\n5        08/18/2021   Joint   SSYS        Purchase    $1,001 - $15,000   \n6        08/12/2021   Joint   SSBK        Purchase  $50,001 - $100,000   \n19       08/23/2021  Spouse   LMRK     Sale (Full)    $1,001 - $15,000   \n22       08/11/2021  Spouse     WW        Purchase    $1,001 - $15,000   \n23       08/04/2021  Spouse    ARE  Sale (Partial)    $1,001 - $15,000   \n\n   comment              senator  \n5       --  Thomas H Tuberville  \n6       --  Thomas H Tuberville  \n19      --      Thomas R Carper  \n22      --      Thomas R Carper  \n23      --      Thomas R Carper  ",
      "text/html": "<div>\n<style scoped>\n    .dataframe tbody tr th:only-of-type {\n        vertical-align: middle;\n    }\n\n    .dataframe tbody tr th {\n        vertical-align: top;\n    }\n\n    .dataframe thead th {\n        text-align: right;\n    }\n</style>\n<table border=\"1\" class=\"dataframe\">\n  <thead>\n    <tr style=\"text-align: right;\">\n      <th></th>\n      <th>transaction_date</th>\n      <th>owner</th>\n      <th>ticker</th>\n      <th>type</th>\n      <th>amount</th>\n      <th>comment</th>\n      <th>senator</th>\n    </tr>\n  </thead>\n  <tbody>\n    <tr>\n      <th>5</th>\n      <td>08/18/2021</td>\n      <td>Joint</td>\n      <td>SSYS</td>\n      <td>Purchase</td>\n      <td>$1,001 - $15,000</td>\n      <td>--</td>\n      <td>Thomas H Tuberville</td>\n    </tr>\n    <tr>\n      <th>6</th>\n      <td>08/12/2021</td>\n      <td>Joint</td>\n      <td>SSBK</td>\n      <td>Purchase</td>\n      <td>$50,001 - $100,000</td>\n      <td>--</td>\n      <td>Thomas H Tuberville</td>\n    </tr>\n    <tr>\n      <th>19</th>\n      <td>08/23/2021</td>\n      <td>Spouse</td>\n      <td>LMRK</td>\n      <td>Sale (Full)</td>\n      <td>$1,001 - $15,000</td>\n      <td>--</td>\n      <td>Thomas R Carper</td>\n    </tr>\n    <tr>\n      <th>22</th>\n      <td>08/11/2021</td>\n      <td>Spouse</td>\n      <td>WW</td>\n      <td>Purchase</td>\n      <td>$1,001 - $15,000</td>\n      <td>--</td>\n      <td>Thomas R Carper</td>\n    </tr>\n    <tr>\n      <th>23</th>\n      <td>08/04/2021</td>\n      <td>Spouse</td>\n      <td>ARE</td>\n      <td>Sale (Partial)</td>\n      <td>$1,001 - $15,000</td>\n      <td>--</td>\n      <td>Thomas R Carper</td>\n    </tr>\n  </tbody>\n</table>\n</div>"
     },
     "execution_count": 14,
     "metadata": {},
     "output_type": "execute_result"
    }
   ]
  },
  {
   "cell_type": "markdown",
   "metadata": {
    "id": "5OlRyCJTYrLC"
   },
   "source": [
    "Let's look at the datatypes for the columns:"
   ]
  },
  {
   "cell_type": "code",
   "metadata": {
    "colab": {
     "base_uri": "https://localhost:8080/"
    },
    "id": "m8UFdNJAZWcx",
    "outputId": "372d1129-6ff7-4e5f-d234-075b98344c6f"
   },
   "source": [
    "data.dtypes"
   ],
   "execution_count": 15,
   "outputs": [
    {
     "data": {
      "text/plain": "transaction_date    object\nowner               object\nticker              object\ntype                object\namount              object\ncomment             object\nsenator             object\ndtype: object"
     },
     "execution_count": 15,
     "metadata": {},
     "output_type": "execute_result"
    }
   ]
  },
  {
   "cell_type": "markdown",
   "metadata": {
    "id": "1xSWhnUsZaUj"
   },
   "source": [
    "Everything is an object! The two columns that stick out here are the columns for `amount` and the comments for `transaction_date`. We can save the `trasaction_date` column as a python `datetime` object. We can also split up the date object into columns for year, month, and day."
   ]
  },
  {
   "cell_type": "code",
   "metadata": {
    "id": "mqNAwq2kh1E_",
    "colab": {
     "base_uri": "https://localhost:8080/",
     "height": 204
    },
    "outputId": "9cd20982-4c9a-4984-eea0-d5a23f685a4a"
   },
   "source": [
    "data[\"transaction_date\"] = pd.to_datetime(data[\"transaction_date\"])\n",
    "data['transaction_year'] = pd.DatetimeIndex(data['transaction_date']).year\n",
    "data['transaction_month'] = pd.DatetimeIndex(data['transaction_date']).month\n",
    "data['transaction_day'] = pd.DatetimeIndex(data['transaction_date']).day\n",
    "data.sort_values(\"transaction_date\", ascending=False).head()"
   ],
   "execution_count": 16,
   "outputs": [
    {
     "data": {
      "text/plain": "   transaction_date   owner ticker            type              amount  \\\n19       2021-08-23  Spouse   LMRK     Sale (Full)    $1,001 - $15,000   \n5        2021-08-18   Joint   SSYS        Purchase    $1,001 - $15,000   \n6        2021-08-12   Joint   SSBK        Purchase  $50,001 - $100,000   \n22       2021-08-11  Spouse     WW        Purchase    $1,001 - $15,000   \n23       2021-08-04  Spouse    ARE  Sale (Partial)    $1,001 - $15,000   \n\n   comment              senator  transaction_year  transaction_month  \\\n19      --      Thomas R Carper              2021                  8   \n5       --  Thomas H Tuberville              2021                  8   \n6       --  Thomas H Tuberville              2021                  8   \n22      --      Thomas R Carper              2021                  8   \n23      --      Thomas R Carper              2021                  8   \n\n    transaction_day  \n19               23  \n5                18  \n6                12  \n22               11  \n23                4  ",
      "text/html": "<div>\n<style scoped>\n    .dataframe tbody tr th:only-of-type {\n        vertical-align: middle;\n    }\n\n    .dataframe tbody tr th {\n        vertical-align: top;\n    }\n\n    .dataframe thead th {\n        text-align: right;\n    }\n</style>\n<table border=\"1\" class=\"dataframe\">\n  <thead>\n    <tr style=\"text-align: right;\">\n      <th></th>\n      <th>transaction_date</th>\n      <th>owner</th>\n      <th>ticker</th>\n      <th>type</th>\n      <th>amount</th>\n      <th>comment</th>\n      <th>senator</th>\n      <th>transaction_year</th>\n      <th>transaction_month</th>\n      <th>transaction_day</th>\n    </tr>\n  </thead>\n  <tbody>\n    <tr>\n      <th>19</th>\n      <td>2021-08-23</td>\n      <td>Spouse</td>\n      <td>LMRK</td>\n      <td>Sale (Full)</td>\n      <td>$1,001 - $15,000</td>\n      <td>--</td>\n      <td>Thomas R Carper</td>\n      <td>2021</td>\n      <td>8</td>\n      <td>23</td>\n    </tr>\n    <tr>\n      <th>5</th>\n      <td>2021-08-18</td>\n      <td>Joint</td>\n      <td>SSYS</td>\n      <td>Purchase</td>\n      <td>$1,001 - $15,000</td>\n      <td>--</td>\n      <td>Thomas H Tuberville</td>\n      <td>2021</td>\n      <td>8</td>\n      <td>18</td>\n    </tr>\n    <tr>\n      <th>6</th>\n      <td>2021-08-12</td>\n      <td>Joint</td>\n      <td>SSBK</td>\n      <td>Purchase</td>\n      <td>$50,001 - $100,000</td>\n      <td>--</td>\n      <td>Thomas H Tuberville</td>\n      <td>2021</td>\n      <td>8</td>\n      <td>12</td>\n    </tr>\n    <tr>\n      <th>22</th>\n      <td>2021-08-11</td>\n      <td>Spouse</td>\n      <td>WW</td>\n      <td>Purchase</td>\n      <td>$1,001 - $15,000</td>\n      <td>--</td>\n      <td>Thomas R Carper</td>\n      <td>2021</td>\n      <td>8</td>\n      <td>11</td>\n    </tr>\n    <tr>\n      <th>23</th>\n      <td>2021-08-04</td>\n      <td>Spouse</td>\n      <td>ARE</td>\n      <td>Sale (Partial)</td>\n      <td>$1,001 - $15,000</td>\n      <td>--</td>\n      <td>Thomas R Carper</td>\n      <td>2021</td>\n      <td>8</td>\n      <td>4</td>\n    </tr>\n  </tbody>\n</table>\n</div>"
     },
     "execution_count": 16,
     "metadata": {},
     "output_type": "execute_result"
    }
   ]
  },
  {
   "cell_type": "markdown",
   "metadata": {
    "id": "YfOvZXNma7fn"
   },
   "source": [
    "While the `amount` column contains a range of value that the stock trade was in, we can split up the column into numerical columns of the upper and lower bound of the trade. This allows us to do numerical analysis on this data without choosing a non-canonical value within the range."
   ]
  },
  {
   "cell_type": "code",
   "metadata": {
    "colab": {
     "base_uri": "https://localhost:8080/",
     "height": 204
    },
    "id": "k-uOXWvI153H",
    "outputId": "49369e5d-bc91-4ecf-e34f-efe5d4386b3e"
   },
   "source": [
    "# over thing is bad. think about this more and fix it\n",
    "data[\"amount_lower\"] = pd.to_numeric(data[\"amount\"].replace(\"Over \",\"\",regex=True).replace(\"\\$\", \"\", regex=True).replace(\" -.*$\", \"\", regex=True).replace(\",\", \"\", regex=True))\n",
    "data[\"amount_upper\"] = pd.to_numeric(data[\"amount\"].replace(\"Over \",\"\",regex=True).replace(\".* - \", \"\", regex=True).replace(\"\\$\", \"\", regex=True).replace(\",\", \"\", regex=True))\n",
    "data.head()"
   ],
   "execution_count": 17,
   "outputs": [
    {
     "data": {
      "text/plain": "   transaction_date   owner ticker            type              amount  \\\n5        2021-08-18   Joint   SSYS        Purchase    $1,001 - $15,000   \n6        2021-08-12   Joint   SSBK        Purchase  $50,001 - $100,000   \n19       2021-08-23  Spouse   LMRK     Sale (Full)    $1,001 - $15,000   \n22       2021-08-11  Spouse     WW        Purchase    $1,001 - $15,000   \n23       2021-08-04  Spouse    ARE  Sale (Partial)    $1,001 - $15,000   \n\n   comment              senator  transaction_year  transaction_month  \\\n5       --  Thomas H Tuberville              2021                  8   \n6       --  Thomas H Tuberville              2021                  8   \n19      --      Thomas R Carper              2021                  8   \n22      --      Thomas R Carper              2021                  8   \n23      --      Thomas R Carper              2021                  8   \n\n    transaction_day  amount_lower  amount_upper  \n5                18          1001         15000  \n6                12         50001        100000  \n19               23          1001         15000  \n22               11          1001         15000  \n23                4          1001         15000  ",
      "text/html": "<div>\n<style scoped>\n    .dataframe tbody tr th:only-of-type {\n        vertical-align: middle;\n    }\n\n    .dataframe tbody tr th {\n        vertical-align: top;\n    }\n\n    .dataframe thead th {\n        text-align: right;\n    }\n</style>\n<table border=\"1\" class=\"dataframe\">\n  <thead>\n    <tr style=\"text-align: right;\">\n      <th></th>\n      <th>transaction_date</th>\n      <th>owner</th>\n      <th>ticker</th>\n      <th>type</th>\n      <th>amount</th>\n      <th>comment</th>\n      <th>senator</th>\n      <th>transaction_year</th>\n      <th>transaction_month</th>\n      <th>transaction_day</th>\n      <th>amount_lower</th>\n      <th>amount_upper</th>\n    </tr>\n  </thead>\n  <tbody>\n    <tr>\n      <th>5</th>\n      <td>2021-08-18</td>\n      <td>Joint</td>\n      <td>SSYS</td>\n      <td>Purchase</td>\n      <td>$1,001 - $15,000</td>\n      <td>--</td>\n      <td>Thomas H Tuberville</td>\n      <td>2021</td>\n      <td>8</td>\n      <td>18</td>\n      <td>1001</td>\n      <td>15000</td>\n    </tr>\n    <tr>\n      <th>6</th>\n      <td>2021-08-12</td>\n      <td>Joint</td>\n      <td>SSBK</td>\n      <td>Purchase</td>\n      <td>$50,001 - $100,000</td>\n      <td>--</td>\n      <td>Thomas H Tuberville</td>\n      <td>2021</td>\n      <td>8</td>\n      <td>12</td>\n      <td>50001</td>\n      <td>100000</td>\n    </tr>\n    <tr>\n      <th>19</th>\n      <td>2021-08-23</td>\n      <td>Spouse</td>\n      <td>LMRK</td>\n      <td>Sale (Full)</td>\n      <td>$1,001 - $15,000</td>\n      <td>--</td>\n      <td>Thomas R Carper</td>\n      <td>2021</td>\n      <td>8</td>\n      <td>23</td>\n      <td>1001</td>\n      <td>15000</td>\n    </tr>\n    <tr>\n      <th>22</th>\n      <td>2021-08-11</td>\n      <td>Spouse</td>\n      <td>WW</td>\n      <td>Purchase</td>\n      <td>$1,001 - $15,000</td>\n      <td>--</td>\n      <td>Thomas R Carper</td>\n      <td>2021</td>\n      <td>8</td>\n      <td>11</td>\n      <td>1001</td>\n      <td>15000</td>\n    </tr>\n    <tr>\n      <th>23</th>\n      <td>2021-08-04</td>\n      <td>Spouse</td>\n      <td>ARE</td>\n      <td>Sale (Partial)</td>\n      <td>$1,001 - $15,000</td>\n      <td>--</td>\n      <td>Thomas R Carper</td>\n      <td>2021</td>\n      <td>8</td>\n      <td>4</td>\n      <td>1001</td>\n      <td>15000</td>\n    </tr>\n  </tbody>\n</table>\n</div>"
     },
     "execution_count": 17,
     "metadata": {},
     "output_type": "execute_result"
    }
   ]
  },
  {
   "cell_type": "markdown",
   "metadata": {
    "id": "d74rbOwcbR3_"
   },
   "source": [
    "We are leaving the `comment` column in as it contains some pertinent data that the senators have added in about the trade. But now, the data is clean, and ready for us to conduct some basic analyses of it!"
   ]
  },
  {
   "cell_type": "markdown",
   "metadata": {
    "id": "ssNbgwjO1z8o"
   },
   "source": [
    "#### Legislator Data\n"
   ]
  },
  {
   "cell_type": "markdown",
   "metadata": {
    "id": "0xvKxe0x2IYs"
   },
   "source": [
    "First we load the dataset."
   ]
  },
  {
   "cell_type": "code",
   "metadata": {
    "id": "jJGo8gzN2KcG"
   },
   "source": [
    "legislators_current = pd.read_csv(\"data/raw/legislators-current.csv\")\n",
    "legislators_historical = pd.read_csv(\"data/raw/legislators-historical.csv\")"
   ],
   "execution_count": 18,
   "outputs": []
  },
  {
   "cell_type": "markdown",
   "metadata": {
    "id": "StbjKfUE2pTL"
   },
   "source": [
    "Now we can append the datasets together into one large dataset."
   ]
  },
  {
   "cell_type": "code",
   "metadata": {
    "colab": {
     "base_uri": "https://localhost:8080/",
     "height": 343
    },
    "id": "pRN5JVKV2sn2",
    "outputId": "555ade0e-9f78-4dcb-ca0b-caa17b9c978f"
   },
   "source": [
    "legislators = legislators_historical.append(legislators_current)\n",
    "legislators.head()"
   ],
   "execution_count": 19,
   "outputs": [
    {
     "data": {
      "text/plain": "  last_name  first_name middle_name suffix nickname full_name    birthday  \\\n0   Bassett     Richard         NaN    NaN      NaN       NaN  1745-04-02   \n1     Bland  Theodorick         NaN    NaN      NaN       NaN  1742-03-21   \n2     Burke     Aedanus         NaN    NaN      NaN       NaN  1743-06-16   \n3   Carroll      Daniel         NaN    NaN      NaN       NaN  1730-07-22   \n4    Clymer      George         NaN    NaN      NaN       NaN  1739-03-16   \n\n  gender type state  ...  opensecrets_id  lis_id fec_ids cspan_id govtrack_id  \\\n0      M  sen    DE  ...             NaN     NaN     NaN      NaN      401222   \n1      M  rep    VA  ...             NaN     NaN     NaN      NaN      401521   \n2      M  rep    SC  ...             NaN     NaN     NaN      NaN      402032   \n3      M  rep    MD  ...             NaN     NaN     NaN      NaN      402334   \n4      M  rep    PA  ...             NaN     NaN     NaN      NaN      402671   \n\n  votesmart_id ballotpedia_id washington_post_id icpsr_id  \\\n0          NaN            NaN                NaN    507.0   \n1          NaN            NaN                NaN    786.0   \n2          NaN            NaN                NaN   1260.0   \n3          NaN            NaN                NaN   1538.0   \n4          NaN            NaN                NaN   1859.0   \n\n                            wikipedia_id  \n0  Richard Bassett (Delaware politician)  \n1         Theodorick Bland (congressman)  \n2                          Aedanus Burke  \n3                         Daniel Carroll  \n4                          George Clymer  \n\n[5 rows x 34 columns]",
      "text/html": "<div>\n<style scoped>\n    .dataframe tbody tr th:only-of-type {\n        vertical-align: middle;\n    }\n\n    .dataframe tbody tr th {\n        vertical-align: top;\n    }\n\n    .dataframe thead th {\n        text-align: right;\n    }\n</style>\n<table border=\"1\" class=\"dataframe\">\n  <thead>\n    <tr style=\"text-align: right;\">\n      <th></th>\n      <th>last_name</th>\n      <th>first_name</th>\n      <th>middle_name</th>\n      <th>suffix</th>\n      <th>nickname</th>\n      <th>full_name</th>\n      <th>birthday</th>\n      <th>gender</th>\n      <th>type</th>\n      <th>state</th>\n      <th>...</th>\n      <th>opensecrets_id</th>\n      <th>lis_id</th>\n      <th>fec_ids</th>\n      <th>cspan_id</th>\n      <th>govtrack_id</th>\n      <th>votesmart_id</th>\n      <th>ballotpedia_id</th>\n      <th>washington_post_id</th>\n      <th>icpsr_id</th>\n      <th>wikipedia_id</th>\n    </tr>\n  </thead>\n  <tbody>\n    <tr>\n      <th>0</th>\n      <td>Bassett</td>\n      <td>Richard</td>\n      <td>NaN</td>\n      <td>NaN</td>\n      <td>NaN</td>\n      <td>NaN</td>\n      <td>1745-04-02</td>\n      <td>M</td>\n      <td>sen</td>\n      <td>DE</td>\n      <td>...</td>\n      <td>NaN</td>\n      <td>NaN</td>\n      <td>NaN</td>\n      <td>NaN</td>\n      <td>401222</td>\n      <td>NaN</td>\n      <td>NaN</td>\n      <td>NaN</td>\n      <td>507.0</td>\n      <td>Richard Bassett (Delaware politician)</td>\n    </tr>\n    <tr>\n      <th>1</th>\n      <td>Bland</td>\n      <td>Theodorick</td>\n      <td>NaN</td>\n      <td>NaN</td>\n      <td>NaN</td>\n      <td>NaN</td>\n      <td>1742-03-21</td>\n      <td>M</td>\n      <td>rep</td>\n      <td>VA</td>\n      <td>...</td>\n      <td>NaN</td>\n      <td>NaN</td>\n      <td>NaN</td>\n      <td>NaN</td>\n      <td>401521</td>\n      <td>NaN</td>\n      <td>NaN</td>\n      <td>NaN</td>\n      <td>786.0</td>\n      <td>Theodorick Bland (congressman)</td>\n    </tr>\n    <tr>\n      <th>2</th>\n      <td>Burke</td>\n      <td>Aedanus</td>\n      <td>NaN</td>\n      <td>NaN</td>\n      <td>NaN</td>\n      <td>NaN</td>\n      <td>1743-06-16</td>\n      <td>M</td>\n      <td>rep</td>\n      <td>SC</td>\n      <td>...</td>\n      <td>NaN</td>\n      <td>NaN</td>\n      <td>NaN</td>\n      <td>NaN</td>\n      <td>402032</td>\n      <td>NaN</td>\n      <td>NaN</td>\n      <td>NaN</td>\n      <td>1260.0</td>\n      <td>Aedanus Burke</td>\n    </tr>\n    <tr>\n      <th>3</th>\n      <td>Carroll</td>\n      <td>Daniel</td>\n      <td>NaN</td>\n      <td>NaN</td>\n      <td>NaN</td>\n      <td>NaN</td>\n      <td>1730-07-22</td>\n      <td>M</td>\n      <td>rep</td>\n      <td>MD</td>\n      <td>...</td>\n      <td>NaN</td>\n      <td>NaN</td>\n      <td>NaN</td>\n      <td>NaN</td>\n      <td>402334</td>\n      <td>NaN</td>\n      <td>NaN</td>\n      <td>NaN</td>\n      <td>1538.0</td>\n      <td>Daniel Carroll</td>\n    </tr>\n    <tr>\n      <th>4</th>\n      <td>Clymer</td>\n      <td>George</td>\n      <td>NaN</td>\n      <td>NaN</td>\n      <td>NaN</td>\n      <td>NaN</td>\n      <td>1739-03-16</td>\n      <td>M</td>\n      <td>rep</td>\n      <td>PA</td>\n      <td>...</td>\n      <td>NaN</td>\n      <td>NaN</td>\n      <td>NaN</td>\n      <td>NaN</td>\n      <td>402671</td>\n      <td>NaN</td>\n      <td>NaN</td>\n      <td>NaN</td>\n      <td>1859.0</td>\n      <td>George Clymer</td>\n    </tr>\n  </tbody>\n</table>\n<p>5 rows × 34 columns</p>\n</div>"
     },
     "execution_count": 19,
     "metadata": {},
     "output_type": "execute_result"
    }
   ]
  },
  {
   "cell_type": "markdown",
   "metadata": {
    "id": "pTzoL2dA3imr"
   },
   "source": [
    "This dataset contains a lot of data that we don't need. First, lets isolate the columns that we are interested in."
   ]
  },
  {
   "cell_type": "code",
   "metadata": {
    "colab": {
     "base_uri": "https://localhost:8080/",
     "height": 204
    },
    "id": "f26Z8ZjX3t4h",
    "outputId": "6a10827a-6d95-43ce-9e47-f57800cd3e45"
   },
   "source": [
    "legislators = legislators[[\"last_name\", \"first_name\", \"middle_name\", \"gender\", \"type\", \"party\", \"state\", \"district\", \"senate_class\"]]\n",
    "legislators.head()"
   ],
   "execution_count": 20,
   "outputs": [
    {
     "data": {
      "text/plain": "  last_name  first_name middle_name gender type                party state  \\\n0   Bassett     Richard         NaN      M  sen  Anti-Administration    DE   \n1     Bland  Theodorick         NaN      M  rep                  NaN    VA   \n2     Burke     Aedanus         NaN      M  rep                  NaN    SC   \n3   Carroll      Daniel         NaN      M  rep                  NaN    MD   \n4    Clymer      George         NaN      M  rep                  NaN    PA   \n\n   district  senate_class  \n0       NaN           2.0  \n1       9.0           NaN  \n2       2.0           NaN  \n3       6.0           NaN  \n4      -1.0           NaN  ",
      "text/html": "<div>\n<style scoped>\n    .dataframe tbody tr th:only-of-type {\n        vertical-align: middle;\n    }\n\n    .dataframe tbody tr th {\n        vertical-align: top;\n    }\n\n    .dataframe thead th {\n        text-align: right;\n    }\n</style>\n<table border=\"1\" class=\"dataframe\">\n  <thead>\n    <tr style=\"text-align: right;\">\n      <th></th>\n      <th>last_name</th>\n      <th>first_name</th>\n      <th>middle_name</th>\n      <th>gender</th>\n      <th>type</th>\n      <th>party</th>\n      <th>state</th>\n      <th>district</th>\n      <th>senate_class</th>\n    </tr>\n  </thead>\n  <tbody>\n    <tr>\n      <th>0</th>\n      <td>Bassett</td>\n      <td>Richard</td>\n      <td>NaN</td>\n      <td>M</td>\n      <td>sen</td>\n      <td>Anti-Administration</td>\n      <td>DE</td>\n      <td>NaN</td>\n      <td>2.0</td>\n    </tr>\n    <tr>\n      <th>1</th>\n      <td>Bland</td>\n      <td>Theodorick</td>\n      <td>NaN</td>\n      <td>M</td>\n      <td>rep</td>\n      <td>NaN</td>\n      <td>VA</td>\n      <td>9.0</td>\n      <td>NaN</td>\n    </tr>\n    <tr>\n      <th>2</th>\n      <td>Burke</td>\n      <td>Aedanus</td>\n      <td>NaN</td>\n      <td>M</td>\n      <td>rep</td>\n      <td>NaN</td>\n      <td>SC</td>\n      <td>2.0</td>\n      <td>NaN</td>\n    </tr>\n    <tr>\n      <th>3</th>\n      <td>Carroll</td>\n      <td>Daniel</td>\n      <td>NaN</td>\n      <td>M</td>\n      <td>rep</td>\n      <td>NaN</td>\n      <td>MD</td>\n      <td>6.0</td>\n      <td>NaN</td>\n    </tr>\n    <tr>\n      <th>4</th>\n      <td>Clymer</td>\n      <td>George</td>\n      <td>NaN</td>\n      <td>M</td>\n      <td>rep</td>\n      <td>NaN</td>\n      <td>PA</td>\n      <td>-1.0</td>\n      <td>NaN</td>\n    </tr>\n  </tbody>\n</table>\n</div>"
     },
     "execution_count": 20,
     "metadata": {},
     "output_type": "execute_result"
    }
   ]
  },
  {
   "cell_type": "markdown",
   "metadata": {
    "id": "pW28OidI4YFf"
   },
   "source": [
    "Let's also split up the dataset into senators and representatives."
   ]
  },
  {
   "cell_type": "code",
   "metadata": {
    "colab": {
     "base_uri": "https://localhost:8080/"
    },
    "id": "hFH-462Y4dl5",
    "outputId": "68c8f564-3e97-42b4-f3f6-edc6f73cc161"
   },
   "source": [
    "senators = legislators[legislators['type'] == \"sen\"]\n",
    "print(senators.head())\n",
    "representatives = legislators[legislators['type'] == \"rep\"]\n",
    "print(representatives.head())"
   ],
   "execution_count": 21,
   "outputs": [
    {
     "name": "stdout",
     "output_type": "stream",
     "text": [
      "   last_name first_name middle_name gender type                party state  \\\n",
      "0    Bassett    Richard         NaN      M  sen  Anti-Administration    DE   \n",
      "6     Dalton   Tristram         NaN      M  sen   Pro-Administration    MA   \n",
      "7      Elmer   Jonathan         NaN      M  sen   Pro-Administration    NJ   \n",
      "8        Few    William         NaN      M  sen  Anti-Administration    GA   \n",
      "11   Grayson    William         NaN      M  sen  Anti-Administration    VA   \n",
      "\n",
      "    district  senate_class  \n",
      "0        NaN           2.0  \n",
      "6        NaN           1.0  \n",
      "7        NaN           1.0  \n",
      "8        NaN           2.0  \n",
      "11       NaN           1.0  \n",
      "  last_name  first_name middle_name gender type party state  district  \\\n",
      "1     Bland  Theodorick         NaN      M  rep   NaN    VA       9.0   \n",
      "2     Burke     Aedanus         NaN      M  rep   NaN    SC       2.0   \n",
      "3   Carroll      Daniel         NaN      M  rep   NaN    MD       6.0   \n",
      "4    Clymer      George         NaN      M  rep   NaN    PA      -1.0   \n",
      "5    Contee    Benjamin         NaN      M  rep   NaN    MD       3.0   \n",
      "\n",
      "   senate_class  \n",
      "1           NaN  \n",
      "2           NaN  \n",
      "3           NaN  \n",
      "4           NaN  \n",
      "5           NaN  \n"
     ]
    }
   ]
  },
  {
   "cell_type": "markdown",
   "metadata": {
    "id": "UOKf2s88MgVQ"
   },
   "source": [
    "In order to search for legislators by name, we need to put the name in the same format as what is used in the stock-watcher dataset.\n",
    "\n",
    "Some of the senators have issues with titles and nicknames. These senators had to be painstakingly pieced together by hand. Thankfully, it was not many of them."
   ]
  },
  {
   "cell_type": "code",
   "metadata": {
    "colab": {
     "base_uri": "https://localhost:8080/"
    },
    "id": "V_6dKdtJOpSR",
    "outputId": "b5eaaa9b-fcda-4e28-94d6-60ec7a3d176a"
   },
   "source": [
    "senators[\"name\"] = pd.DataFrame.copy(senators.apply(lambda r: \"{}{}{}\".format(r[\"first_name\"], \" \" if pd.isna(r[\"middle_name\"]) else \" {} \".format(r[\"middle_name\"][0]), r[\"last_name\"]), axis=1))\n",
    "\n",
    "senators.loc[senators[\"name\"] == \"Angus S King\", \"name\"] = \"Angus S King, Jr.\"\n",
    "senators.loc[senators[\"name\"] == \"Tommy H Tuberville\", \"name\"] = \"Thomas H Tuberville\"\n",
    "senators.loc[senators[\"name\"] == \"Bill F Hagerty\", \"name\"] = \"William F Hagerty, Iv\"\n",
    "senators.loc[senators[\"name\"] == \"Mitch McConnell\", \"name\"] = \"A. Mitchell Mcconnell, Jr.\"\n",
    "senators.loc[senators[\"name\"] == \"Jerry Moran\", \"name\"] = \"Jerry Moran,\"\n",
    "senators.loc[senators[\"name\"] == \"Ron Wyden\", \"name\"] = \"Ron L Wyden\"\n",
    "senators.loc[senators[\"name\"] == \"Dan Sullivan\", \"name\"] = \"Daniel S Sullivan\"\n",
    "senators.loc[senators[\"name\"] == \"Jacky Rosen\", \"name\"] = \"Jacklyn S Rosen\"\n",
    "senators.loc[senators[\"name\"] == \"Bill Cassidy\", \"name\"] = \"William Cassidy\"\n",
    "senators.loc[senators[\"name\"] == \"Timothy Kaine\", \"name\"] = \"Timothy M Kaine\"\n",
    "senators.loc[senators[\"name\"] == \"David Perdue\", \"name\"] = \"David A Perdue , Jr\"\n",
    "senators.loc[senators[\"name\"] == \"Tina F Smith\", \"name\"] = \"Tina Smith\"\n",
    "senators.loc[senators[\"name\"] == \"Ted Cruz\", \"name\"] = \"Rafael E Cruz\"\n",
    "senators.loc[senators[\"name\"] == \"Tom S Udall\", \"name\"] = \"Thomas Udall\"\n",
    "senators.loc[senators[\"name\"] == \"Thom Tillis\", \"name\"] = \"Thomas R Tillis\"\n",
    "senators.loc[senators[\"name\"] == \"Robert P Casey\", \"name\"] = \"Robert P Casey, Jr.\"\n",
    "senators.loc[senators[\"name\"] == \"Joe Manchin\", \"name\"] = \"Joseph Manchin, Iii\"\n",
    "\n",
    "print(senators.head())\n",
    "\n",
    "representatives[\"name\"] = pd.DataFrame.copy(representatives.apply(lambda r: \"{}{}{}\".format(r[\"first_name\"], \" \" if pd.isna(r[\"middle_name\"]) else \" {} \".format(r[\"middle_name\"][0]), r[\"last_name\"]), axis=1))\n",
    "print(representatives.head())"
   ],
   "execution_count": 22,
   "outputs": [
    {
     "name": "stdout",
     "output_type": "stream",
     "text": [
      "   last_name first_name middle_name gender type                party state  \\\n",
      "0    Bassett    Richard         NaN      M  sen  Anti-Administration    DE   \n",
      "6     Dalton   Tristram         NaN      M  sen   Pro-Administration    MA   \n",
      "7      Elmer   Jonathan         NaN      M  sen   Pro-Administration    NJ   \n",
      "8        Few    William         NaN      M  sen  Anti-Administration    GA   \n",
      "11   Grayson    William         NaN      M  sen  Anti-Administration    VA   \n",
      "\n",
      "    district  senate_class             name  \n",
      "0        NaN           2.0  Richard Bassett  \n",
      "6        NaN           1.0  Tristram Dalton  \n",
      "7        NaN           1.0   Jonathan Elmer  \n",
      "8        NaN           2.0      William Few  \n",
      "11       NaN           1.0  William Grayson  \n"
     ]
    },
    {
     "name": "stderr",
     "output_type": "stream",
     "text": [
      "/Users/prathamrawat/git/2950-Final/venv/lib/python3.7/site-packages/ipykernel_launcher.py:1: SettingWithCopyWarning: \n",
      "A value is trying to be set on a copy of a slice from a DataFrame.\n",
      "Try using .loc[row_indexer,col_indexer] = value instead\n",
      "\n",
      "See the caveats in the documentation: https://pandas.pydata.org/pandas-docs/stable/user_guide/indexing.html#returning-a-view-versus-a-copy\n",
      "  \"\"\"Entry point for launching an IPython kernel.\n",
      "/Users/prathamrawat/git/2950-Final/venv/lib/python3.7/site-packages/pandas/core/indexing.py:1817: SettingWithCopyWarning: \n",
      "A value is trying to be set on a copy of a slice from a DataFrame.\n",
      "Try using .loc[row_indexer,col_indexer] = value instead\n",
      "\n",
      "See the caveats in the documentation: https://pandas.pydata.org/pandas-docs/stable/user_guide/indexing.html#returning-a-view-versus-a-copy\n",
      "  self._setitem_single_column(loc, value, pi)\n"
     ]
    },
    {
     "name": "stdout",
     "output_type": "stream",
     "text": [
      "  last_name  first_name middle_name gender type party state  district  \\\n",
      "1     Bland  Theodorick         NaN      M  rep   NaN    VA       9.0   \n",
      "2     Burke     Aedanus         NaN      M  rep   NaN    SC       2.0   \n",
      "3   Carroll      Daniel         NaN      M  rep   NaN    MD       6.0   \n",
      "4    Clymer      George         NaN      M  rep   NaN    PA      -1.0   \n",
      "5    Contee    Benjamin         NaN      M  rep   NaN    MD       3.0   \n",
      "\n",
      "   senate_class              name  \n",
      "1           NaN  Theodorick Bland  \n",
      "2           NaN     Aedanus Burke  \n",
      "3           NaN    Daniel Carroll  \n",
      "4           NaN     George Clymer  \n",
      "5           NaN   Benjamin Contee  \n"
     ]
    },
    {
     "name": "stderr",
     "output_type": "stream",
     "text": [
      "/Users/prathamrawat/git/2950-Final/venv/lib/python3.7/site-packages/ipykernel_launcher.py:23: SettingWithCopyWarning: \n",
      "A value is trying to be set on a copy of a slice from a DataFrame.\n",
      "Try using .loc[row_indexer,col_indexer] = value instead\n",
      "\n",
      "See the caveats in the documentation: https://pandas.pydata.org/pandas-docs/stable/user_guide/indexing.html#returning-a-view-versus-a-copy\n"
     ]
    }
   ]
  },
  {
   "cell_type": "markdown",
   "metadata": {
    "id": "fXMOVF9yMg2w"
   },
   "source": [
    "Now we should be able to search for legislators using the data from the SEC. \n",
    "\n",
    "Not really! The function used here has a few conditionals to change a few names that are irregularly used in the data. For example, Tammy Duckworth goes by both `Tammy Duckworth` and `Ladda Tammy Duckworth`.\n",
    "\n",
    "But with this, we can now isolate the senators that appear in the senate data, and cross-reference the data to do some analysis."
   ]
  },
  {
   "cell_type": "code",
   "metadata": {
    "colab": {
     "base_uri": "https://localhost:8080/",
     "height": 204
    },
    "id": "TVs9WHBxMz7e",
    "outputId": "0a8b0b95-a720-4808-b8fd-f9a6053af5ec"
   },
   "source": [
    "def get_senator(name):\n",
    "  if name == \"Ladda Tammy Duckworth\":\n",
    "    name = \"Tammy Duckworth\"\n",
    "  if name == \"Michael  B Enzi\":\n",
    "    name = \"Michael B Enzi\"\n",
    "  return indexed_senators.loc[name]\n",
    "\n",
    "indexed_senators = senators.set_index(\"name\")\n",
    "indexed_senators[\"name\"] = indexed_senators.index\n",
    "trading_senators = data[\"senator\"].apply(get_senator)\n",
    "trading_senators = trading_senators.drop_duplicates()\n",
    "trading_senators = trading_senators.reset_index()\n",
    "trading_senators = trading_senators.drop(\"index\", axis=1)\n",
    "trading_senators.head()"
   ],
   "execution_count": 23,
   "outputs": [
    {
     "data": {
      "text/plain": "      last_name first_name middle_name gender type       party state  \\\n0    Tuberville      Tommy      Hawley      M  sen  Republican    AL   \n1        Carper     Thomas     Richard      M  sen    Democrat    DE   \n2        Capito    Shelley       Moore      F  sen  Republican    WV   \n3  Hickenlooper       John      Wright      M  sen    Democrat    CO   \n4        Peters       Gary          C.      M  sen    Democrat    MI   \n\n   district  senate_class                 name  \n0       NaN           2.0  Thomas H Tuberville  \n1       NaN           1.0      Thomas R Carper  \n2       NaN           2.0     Shelley M Capito  \n3       NaN           2.0  John W Hickenlooper  \n4       NaN           2.0        Gary C Peters  ",
      "text/html": "<div>\n<style scoped>\n    .dataframe tbody tr th:only-of-type {\n        vertical-align: middle;\n    }\n\n    .dataframe tbody tr th {\n        vertical-align: top;\n    }\n\n    .dataframe thead th {\n        text-align: right;\n    }\n</style>\n<table border=\"1\" class=\"dataframe\">\n  <thead>\n    <tr style=\"text-align: right;\">\n      <th></th>\n      <th>last_name</th>\n      <th>first_name</th>\n      <th>middle_name</th>\n      <th>gender</th>\n      <th>type</th>\n      <th>party</th>\n      <th>state</th>\n      <th>district</th>\n      <th>senate_class</th>\n      <th>name</th>\n    </tr>\n  </thead>\n  <tbody>\n    <tr>\n      <th>0</th>\n      <td>Tuberville</td>\n      <td>Tommy</td>\n      <td>Hawley</td>\n      <td>M</td>\n      <td>sen</td>\n      <td>Republican</td>\n      <td>AL</td>\n      <td>NaN</td>\n      <td>2.0</td>\n      <td>Thomas H Tuberville</td>\n    </tr>\n    <tr>\n      <th>1</th>\n      <td>Carper</td>\n      <td>Thomas</td>\n      <td>Richard</td>\n      <td>M</td>\n      <td>sen</td>\n      <td>Democrat</td>\n      <td>DE</td>\n      <td>NaN</td>\n      <td>1.0</td>\n      <td>Thomas R Carper</td>\n    </tr>\n    <tr>\n      <th>2</th>\n      <td>Capito</td>\n      <td>Shelley</td>\n      <td>Moore</td>\n      <td>F</td>\n      <td>sen</td>\n      <td>Republican</td>\n      <td>WV</td>\n      <td>NaN</td>\n      <td>2.0</td>\n      <td>Shelley M Capito</td>\n    </tr>\n    <tr>\n      <th>3</th>\n      <td>Hickenlooper</td>\n      <td>John</td>\n      <td>Wright</td>\n      <td>M</td>\n      <td>sen</td>\n      <td>Democrat</td>\n      <td>CO</td>\n      <td>NaN</td>\n      <td>2.0</td>\n      <td>John W Hickenlooper</td>\n    </tr>\n    <tr>\n      <th>4</th>\n      <td>Peters</td>\n      <td>Gary</td>\n      <td>C.</td>\n      <td>M</td>\n      <td>sen</td>\n      <td>Democrat</td>\n      <td>MI</td>\n      <td>NaN</td>\n      <td>2.0</td>\n      <td>Gary C Peters</td>\n    </tr>\n  </tbody>\n</table>\n</div>"
     },
     "execution_count": 23,
     "metadata": {},
     "output_type": "execute_result"
    }
   ]
  },
  {
   "cell_type": "markdown",
   "metadata": {
    "id": "1OLUGF292v8L"
   },
   "source": [
    "Having already imported the House CSV file alongside the Senate data, we can immediately begin cleaning the data. While converting the `transaction_date` column to `Datetime` object, we came across several misformatted dates that threw an error! Using regex, we were able to identify the bogus data and their indexes for manual removal and begin reformatting all the dates, upper, and lower values."
   ]
  },
  {
   "cell_type": "code",
   "metadata": {
    "id": "62AcFS6Noz10"
   },
   "source": [
    "# bad years\n",
    "#   $ cut -d',' -f3 all_transactions_house.csv | grep -nv '^2'\n",
    "#   1:transaction_date\n",
    "#   1958:0009-06-09\n",
    "#   3383:0021-08-02\n",
    "#   8977:0021-06-22\n",
    "#   8978:0201-06-22\n",
    "house = house.drop([1956,3381,8975,8976]) \n",
    "\n",
    "# bad tickers\n",
    "house = house.loc[house.ticker != \"--\"].dropna()\n",
    "\n",
    "# dropping unneeded columns\n",
    "house = house.drop(columns=[\"ptr_link\", \"disclosure_date\", \"disclosure_year\", \"asset_description\"])"
   ],
   "execution_count": 24,
   "outputs": []
  },
  {
   "cell_type": "code",
   "metadata": {
    "colab": {
     "base_uri": "https://localhost:8080/",
     "height": 204
    },
    "id": "Yzb9fjF8r7Ya",
    "outputId": "570895e3-1d16-4a45-d9b0-c5262e6b2371"
   },
   "source": [
    "house['transaction_date'] = pd.to_datetime(house['transaction_date'])\n",
    "house['transaction_year'] = pd.DatetimeIndex(house['transaction_date']).year\n",
    "house['transaction_month'] = pd.DatetimeIndex(house['transaction_date']).month\n",
    "house['transaction_day'] = pd.DatetimeIndex(house['transaction_date']).day\n",
    "house[\"amount_lower\"] = pd.to_numeric(house[\"amount\"].replace(\"Over \",\"\",regex=True).replace(\"\\$\", \"\", regex=True).replace(\" -.*$\", \"\", regex=True).replace(\",\", \"\", regex=True))\n",
    "house[\"amount_upper\"] = pd.to_numeric(house[\"amount\"].replace(\"Over \",\"\",regex=True).replace(\"-$\", \"- 0\", regex=True).replace(\".* - \", \"\", regex=True).replace(\"\\$\", \"\", regex=True).replace(\",\", \"\", regex=True))\n",
    "house.head()"
   ],
   "execution_count": 25,
   "outputs": [
    {
     "data": {
      "text/plain": "  transaction_date  owner ticker          type             amount  \\\n0       2021-09-27  joint     BP      purchase   $1,001 - $15,000   \n1       2021-09-13  joint    XOM      purchase   $1,001 - $15,000   \n2       2021-09-10  joint   ILPT      purchase  $15,001 - $50,000   \n3       2021-09-28  joint     PM      purchase  $15,001 - $50,000   \n4       2021-09-17   self    BLK  sale_partial   $1,001 - $15,000   \n\n           representative district  cap_gains_over_200_usd  transaction_year  \\\n0      Hon. Virginia Foxx     NC05                   False              2021   \n1      Hon. Virginia Foxx     NC05                   False              2021   \n2      Hon. Virginia Foxx     NC05                   False              2021   \n3      Hon. Virginia Foxx     NC05                   False              2021   \n4  Hon. Alan S. Lowenthal     CA47                   False              2021   \n\n   transaction_month  transaction_day  amount_lower  amount_upper  \n0                  9               27          1001         15000  \n1                  9               13          1001         15000  \n2                  9               10         15001         50000  \n3                  9               28         15001         50000  \n4                  9               17          1001         15000  ",
      "text/html": "<div>\n<style scoped>\n    .dataframe tbody tr th:only-of-type {\n        vertical-align: middle;\n    }\n\n    .dataframe tbody tr th {\n        vertical-align: top;\n    }\n\n    .dataframe thead th {\n        text-align: right;\n    }\n</style>\n<table border=\"1\" class=\"dataframe\">\n  <thead>\n    <tr style=\"text-align: right;\">\n      <th></th>\n      <th>transaction_date</th>\n      <th>owner</th>\n      <th>ticker</th>\n      <th>type</th>\n      <th>amount</th>\n      <th>representative</th>\n      <th>district</th>\n      <th>cap_gains_over_200_usd</th>\n      <th>transaction_year</th>\n      <th>transaction_month</th>\n      <th>transaction_day</th>\n      <th>amount_lower</th>\n      <th>amount_upper</th>\n    </tr>\n  </thead>\n  <tbody>\n    <tr>\n      <th>0</th>\n      <td>2021-09-27</td>\n      <td>joint</td>\n      <td>BP</td>\n      <td>purchase</td>\n      <td>$1,001 - $15,000</td>\n      <td>Hon. Virginia Foxx</td>\n      <td>NC05</td>\n      <td>False</td>\n      <td>2021</td>\n      <td>9</td>\n      <td>27</td>\n      <td>1001</td>\n      <td>15000</td>\n    </tr>\n    <tr>\n      <th>1</th>\n      <td>2021-09-13</td>\n      <td>joint</td>\n      <td>XOM</td>\n      <td>purchase</td>\n      <td>$1,001 - $15,000</td>\n      <td>Hon. Virginia Foxx</td>\n      <td>NC05</td>\n      <td>False</td>\n      <td>2021</td>\n      <td>9</td>\n      <td>13</td>\n      <td>1001</td>\n      <td>15000</td>\n    </tr>\n    <tr>\n      <th>2</th>\n      <td>2021-09-10</td>\n      <td>joint</td>\n      <td>ILPT</td>\n      <td>purchase</td>\n      <td>$15,001 - $50,000</td>\n      <td>Hon. Virginia Foxx</td>\n      <td>NC05</td>\n      <td>False</td>\n      <td>2021</td>\n      <td>9</td>\n      <td>10</td>\n      <td>15001</td>\n      <td>50000</td>\n    </tr>\n    <tr>\n      <th>3</th>\n      <td>2021-09-28</td>\n      <td>joint</td>\n      <td>PM</td>\n      <td>purchase</td>\n      <td>$15,001 - $50,000</td>\n      <td>Hon. Virginia Foxx</td>\n      <td>NC05</td>\n      <td>False</td>\n      <td>2021</td>\n      <td>9</td>\n      <td>28</td>\n      <td>15001</td>\n      <td>50000</td>\n    </tr>\n    <tr>\n      <th>4</th>\n      <td>2021-09-17</td>\n      <td>self</td>\n      <td>BLK</td>\n      <td>sale_partial</td>\n      <td>$1,001 - $15,000</td>\n      <td>Hon. Alan S. Lowenthal</td>\n      <td>CA47</td>\n      <td>False</td>\n      <td>2021</td>\n      <td>9</td>\n      <td>17</td>\n      <td>1001</td>\n      <td>15000</td>\n    </tr>\n  </tbody>\n</table>\n</div>"
     },
     "execution_count": 25,
     "metadata": {},
     "output_type": "execute_result"
    }
   ]
  },
  {
   "cell_type": "markdown",
   "metadata": {
    "id": "MDDLcSRbgIb6"
   },
   "source": [
    "### Data Description and Limitations"
   ]
  },
  {
   "cell_type": "markdown",
   "metadata": {
    "id": "dy9_FAjUgL_p"
   },
   "source": [
    "#### Senate Stock Watcher"
   ]
  },
  {
   "cell_type": "markdown",
   "metadata": {
    "id": "eS9eZL_OX2Ks"
   },
   "source": [
    "##### Description"
   ]
  },
  {
   "cell_type": "markdown",
   "metadata": {
    "id": "nzdgMPltgO4V"
   },
   "source": [
    "**For what purpose was this dataset created?**\n",
    "\n",
    "This dataset was created to allow the public to easily follow stock trades made by senators, especially due to recent public outcries over different members of government allegedly insider trading using government data. SEC filings are made in PDF format in a non-machine readable manner, which makes it difficult to analyze thoroughly. This dataset allows us to perform robust quantitative analyses using computational methods without needed to convert handwritten PDFs into numerical data.\n",
    "\n",
    "**Who created this dataset?** \n",
    "\n",
    "This dataset was created by Timothy Carambat, who is a Software Engineer at (what appears to be) a social media startup. He has no public grants, and runs the service at no extra cost on behalf of no other entity. This seems to be a project that is run out of self-interest and social good for publicizing Senator's stock trades.\n",
    "\n",
    "**What are the observations (rows) and the attributes (columns)?**\n",
    "\n",
    "Each row represents an SEC filing that was made on the official SEC filing webpage. The columns contain all of the relevant data from that filing, such as the associate ticker, the kind of security that was traded, and whether the filing is for a purchase or sale of stock. \n",
    "\n",
    "**What processes might have influenced what data was observed and recorded and what was not?**\n",
    "\n",
    "There are a number of errors for PDF filings, which were presumably read through some file reading software that could not decipher the data. That data is marked accordingly and will have to be discarded. Often, senators will also violate the laws that mandate their disclosures, which may lead to data that is not submitted correctly. After all, this is a human process, so there will be some error.\n",
    "\n",
    "**If people are involved, were they aware of the data collection and if so, what purpose did they expect the data to be used for?**\n",
    "\n",
    "The Senators involved are certainly aware that people are actively monitoring their stock trades, for a variety of reasons. Some people probably use it to inform their stock trades, while others try to find evidence of insider trading. \n",
    "\n",
    "**Where can your raw source data be found, if applicable?**  \n",
    "\n",
    "The data can be downloaded from [the API site](https://senatestockwatcher.com/api). The downloaded data can be found on Cornell's Google Drive [here](https://drive.google.com/file/d/129k328aoBbbOuPsRRODesXKy-7XZoepn/view?usp=sharing)."
   ]
  },
  {
   "cell_type": "markdown",
   "metadata": {
    "id": "YydlYoZZxF5T"
   },
   "source": [
    "##### Limitations"
   ]
  },
  {
   "cell_type": "markdown",
   "metadata": {
    "id": "hapvYllLxJHU"
   },
   "source": [
    "The biggest limitation for this dataset is the fact that it only contains stock data. In order to draw meaningful conclusions, we will need to pair this data with other datasets that we can cross-reference.\n",
    "\n",
    "This dataset is also not very large, and it seems like not very many Senators actually trade stocks regularly. This might cause some problems with the sample sizes of the different kinds of analyses we would be planning to do. A solution to this might be to look at data for the House of Representatives, (which is provided by the same service)."
   ]
  },
  {
   "cell_type": "markdown",
   "metadata": {
    "id": "wdRhUWp5X5-3"
   },
   "source": [
    "#### Legislator Data"
   ]
  },
  {
   "cell_type": "markdown",
   "metadata": {
    "id": "Y4sKbVl5YXWX"
   },
   "source": [
    "##### Description"
   ]
  },
  {
   "cell_type": "markdown",
   "metadata": {
    "id": "5eTWZAcmYZJA"
   },
   "source": [
    "**For what purpose was this dataset created?**\n",
    "\n",
    "This dataset was created to collect data on the United States for research projects and initiatives. It is an open collaboration of many different researchers and public bodies to collect government data and make it open and accessible to the public. More information on the project as a whole can be found [here](https://sunlightfoundation.com/2013/08/20/a-modern-approach-to-open-data/).\n",
    "\n",
    "**Who created this dataset?**\n",
    "\n",
    "This dataset was compiled by different data scientists from different organizations who collaborated together to create an open and unbiased source of government data. The project as a whole features \"work from people with the Sunlight Foundation, GovTrack.us, the New York Times, the Electronic Frontier Foundation, and the Internet.\"\n",
    "\n",
    "**What are the observations (rows) and the attributes (columns)?**\n",
    "\n",
    "Each observation is anyone who has been a former member of the U.S. Congress. The dataset has an entry for each distinct member. Each of the attributes correspond to different datapoints on that memebr of congress, such as their political party, gender, or birthday.\n",
    "\n",
    "**What processes might have influenced what was recorded and what was not?**\n",
    "\n",
    "There are many irregularities in government processes which can cause issues in tabulating data like this. For example, events like special elections, appointments, and party changes can complicate the data and how it was recorded. This can lead to some potentially incorrect assumptions from the analysis that we make, and it is important to take note of that. \n",
    "\n",
    "**Where can your raw source data be found, if applicable?**\n",
    "\n",
    "The raw source data can be found on [GitHub](https://github.com/unitedstates/congress-legislators), and can be downloaded in many different formats. We chose to use CSV, as it is easily parsed by builtin pandas commands. The exact downloaded CSVs that we used for our analysis can be on Cornell's Google Drive for the [current](https://drive.google.com/file/d/1p_hfzBjKBCqo3M9nnPEShgk7dzBYlOfS/view?usp=sharing) and [historical](https://drive.google.com/file/d/1n75Xq9JSSTvntgevkuj6gZWNi3Ul1ilO/view?usp=sharing) datasets."
   ]
  },
  {
   "cell_type": "markdown",
   "metadata": {
    "id": "-Q3HO01R34a3"
   },
   "source": [
    "#### Limitations"
   ]
  },
  {
   "cell_type": "markdown",
   "metadata": {
    "id": "4D8LfIMl37T9"
   },
   "source": [
    "The dataset is definitely limited in many ways. While it has a lot of legislators, the actual information that is provided for each legislator is very limited, and there is not a lot of in depth data. Furthermore, the data's format can be a little confusing, in the way that it deals with irregularities in Senate proceedings. "
   ]
  },
  {
   "cell_type": "markdown",
   "metadata": {
    "id": "OsWtJ6CycNmf"
   },
   "source": [
    "### Exploratory Analysis"
   ]
  },
  {
   "cell_type": "markdown",
   "metadata": {
    "id": "ET1rL6dQLyWo"
   },
   "source": [
    "#### Senate SEC Filings"
   ]
  },
  {
   "cell_type": "markdown",
   "metadata": {
    "id": "uNRXi4ElcbI9"
   },
   "source": [
    "Let's start by doing a simple groupby on the `amount` column. We can see how many trades have been made in each amount range."
   ]
  },
  {
   "cell_type": "code",
   "metadata": {
    "id": "SPyDRh6gjZDF",
    "colab": {
     "base_uri": "https://localhost:8080/"
    },
    "outputId": "1ce1cece-5d30-4114-eb1e-f0faa849ab48"
   },
   "source": [
    "amount_group = data.groupby(\"amount\")\n",
    "amount_count = amount_group.count().sort_values(\"owner\")[\"owner\"]\n",
    "amount_count"
   ],
   "execution_count": 26,
   "outputs": [
    {
     "data": {
      "text/plain": "amount\n$25,000,001 - $50,000,000       1\n$5,000,001 - $25,000,000        5\n$1,000,001 - $5,000,000         8\n$500,001 - $1,000,000           9\n$250,001 - $500,000            31\n$100,001 - $250,000           212\n$50,001 - $100,000            383\n$15,001 - $50,000            1017\n$1,001 - $15,000             4088\nName: owner, dtype: int64"
     },
     "execution_count": 26,
     "metadata": {},
     "output_type": "execute_result"
    }
   ]
  },
  {
   "cell_type": "markdown",
   "metadata": {
    "id": "cg0MK9mwdBAU"
   },
   "source": [
    "Let's graph the data to see it clearly."
   ]
  },
  {
   "cell_type": "code",
   "metadata": {
    "id": "HI0nvVn6dPtP",
    "colab": {
     "base_uri": "https://localhost:8080/",
     "height": 434
    },
    "outputId": "47e73667-08a1-448c-b196-76f275c20cf7"
   },
   "source": [
    "plt.ylabel(\"Count of Trades\")\n",
    "plt.xlabel(\"Amount Ranges ($)\")\n",
    "plt.xticks(rotation=90)\n",
    "plt.title(\"Count of Trades by Amount Range\")\n",
    "plt.bar(amount_count.index, amount_count)"
   ],
   "execution_count": 27,
   "outputs": [
    {
     "data": {
      "text/plain": "<BarContainer object of 9 artists>"
     },
     "execution_count": 27,
     "metadata": {},
     "output_type": "execute_result"
    },
    {
     "data": {
      "text/plain": "<Figure size 432x288 with 1 Axes>",
      "image/png": "[encoded data removed]"
     },
     "metadata": {
      "needs_background": "light"
     },
     "output_type": "display_data"
    }
   ]
  },
  {
   "cell_type": "markdown",
   "metadata": {
    "id": "JsCp_Ql6fRl0"
   },
   "source": [
    "The column for the smallest trade range completely dwarfs the other columns! Maybe we can use logarithmic scaling to make this easier to visualize."
   ]
  },
  {
   "cell_type": "code",
   "metadata": {
    "id": "Q6MzjrHsfeSn",
    "colab": {
     "base_uri": "https://localhost:8080/",
     "height": 434
    },
    "outputId": "9508ec85-fd40-468f-faee-7858db531884"
   },
   "source": [
    "plt.ylabel(\"Count of Trades\")\n",
    "plt.xlabel(\"Amount Ranges\")\n",
    "plt.xticks(rotation=90)\n",
    "plt.title(\"Count of Trades by Amount Range\")\n",
    "plt.bar(amount_count.index, amount_count, log=True)"
   ],
   "execution_count": 28,
   "outputs": [
    {
     "data": {
      "text/plain": "<BarContainer object of 9 artists>"
     },
     "execution_count": 28,
     "metadata": {},
     "output_type": "execute_result"
    },
    {
     "data": {
      "text/plain": "<Figure size 432x288 with 1 Axes>",
      "image/png": "[encoded data removed]"
     },
     "metadata": {
      "needs_background": "light"
     },
     "output_type": "display_data"
    }
   ]
  },
  {
   "cell_type": "markdown",
   "metadata": {
    "id": "Pr7qe-vOfwkB"
   },
   "source": [
    "This is really interesting. It seems like each step up in amount has an order of magnitude less trades. It would be interesting to see if this is a result of the distribution of wealth among the members of the senate, or a result of disclosure regulations pushing senators to trade in a lower bracket."
   ]
  },
  {
   "cell_type": "markdown",
   "metadata": {
    "id": "x9bVcr2Ml03y"
   },
   "source": [
    "Now, we can look at the kinds of transactions that senators made."
   ]
  },
  {
   "cell_type": "code",
   "metadata": {
    "id": "dkK_PBUzcgMn",
    "colab": {
     "base_uri": "https://localhost:8080/"
    },
    "outputId": "93b231c8-fb53-427d-cdfc-dba4745d3d61"
   },
   "source": [
    "type_group = data.groupby(\"type\")\n",
    "type_group.count()[\"owner\"]"
   ],
   "execution_count": 29,
   "outputs": [
    {
     "data": {
      "text/plain": "type\nExchange            66\nPurchase          2880\nSale (Full)       1411\nSale (Partial)    1397\nName: owner, dtype: int64"
     },
     "execution_count": 29,
     "metadata": {},
     "output_type": "execute_result"
    }
   ]
  },
  {
   "cell_type": "markdown",
   "metadata": {
    "id": "eqLeJts5njp4"
   },
   "source": [
    "The `Exchange` type would be in the case of mergers and other stock exchanges.\n",
    "\n",
    "It seems like senators will often not sell their stocks completely (the `Sale (Full)` Column). Instead, they seem to sell a percentage of their holdings instead of completely pulling out.\n"
   ]
  },
  {
   "cell_type": "code",
   "metadata": {
    "id": "wS56srmWeRE4",
    "colab": {
     "base_uri": "https://localhost:8080/"
    },
    "outputId": "593a86bc-f5a2-49b2-c836-3735371b3acc"
   },
   "source": [
    "owner_group = data.groupby(\"owner\")\n",
    "owner_count = owner_group.count()[\"senator\"]\n",
    "owner_count"
   ],
   "execution_count": 30,
   "outputs": [
    {
     "data": {
      "text/plain": "owner\nChild      120\nJoint     2917\nSelf       888\nSpouse    1829\nName: senator, dtype: int64"
     },
     "execution_count": 30,
     "metadata": {},
     "output_type": "execute_result"
    }
   ]
  },
  {
   "cell_type": "markdown",
   "metadata": {
    "id": "P5aD7rmPpmyd"
   },
   "source": [
    "We can also see that a lot of trades are not actually made by the senator themselves. A few of them are made by children of the officeholder, but the majority are joint purchases, presumably between the senator and their spouse. This data could be visualized clearly by a pie-chart."
   ]
  },
  {
   "cell_type": "code",
   "metadata": {
    "id": "SgQcIf8Xrw8L",
    "colab": {
     "base_uri": "https://localhost:8080/",
     "height": 264
    },
    "outputId": "b974a91a-3e7c-4fa1-fbd7-7b6a3139f2be"
   },
   "source": [
    "plt.title(\"Stock Trades by Owner of Stock\")\n",
    "plt.pie(owner_count, labels=owner_count.index);"
   ],
   "execution_count": 31,
   "outputs": [
    {
     "data": {
      "text/plain": "<Figure size 432x288 with 1 Axes>",
      "image/png": "[encoded data removed]"
     },
     "metadata": {},
     "output_type": "display_data"
    }
   ]
  },
  {
   "cell_type": "markdown",
   "metadata": {
    "id": "a6KtIH2RsWQq"
   },
   "source": [
    "Since we have lots of ticker data, we can see which companies were preferred by senators in their investments."
   ]
  },
  {
   "cell_type": "code",
   "metadata": {
    "id": "NxUtDytIeYAW",
    "colab": {
     "base_uri": "https://localhost:8080/"
    },
    "outputId": "8468f9c8-3b23-4a9a-b570-ebc77f15a99d"
   },
   "source": [
    "ticker_group = data.groupby([\"ticker\"])\n",
    "ticker_count = ticker_group.count().sort_values(\"amount\", ascending=False)[\"owner\"]\n",
    "ticker_count.head(10)"
   ],
   "execution_count": 32,
   "outputs": [
    {
     "data": {
      "text/plain": "ticker\nAAPL     149\nBAC       79\nDISCA     74\nPFE       74\nDIS       71\nNFLX      68\nMSFT      67\nFDC       66\nURBN      65\nFEYE      65\nName: owner, dtype: int64"
     },
     "execution_count": 32,
     "metadata": {},
     "output_type": "execute_result"
    }
   ]
  },
  {
   "cell_type": "markdown",
   "metadata": {
    "id": "QGUXff5Js9l3"
   },
   "source": [
    "It looks like Apple was favored heavily throughout the years. But what if we break down the data into each year. What will Apple's ranking be for each year."
   ]
  },
  {
   "cell_type": "code",
   "metadata": {
    "id": "XhLYCNx0tG6h",
    "colab": {
     "base_uri": "https://localhost:8080/"
    },
    "outputId": "f34bc38f-b73f-4ddf-aace-c80acda1bb0f"
   },
   "source": [
    "for year in range(2012, 2022):\n",
    "  temp = data[data['transaction_year'] == year].groupby([\"ticker\"]).count().sort_values(\"amount\", ascending=False)[\"owner\"].reset_index()\n",
    "  print(\"AAPL Ranking for {}: {}\".format(year, temp[temp[\"ticker\"] == \"AAPL\"].index[0] + 1 if len(temp[temp[\"ticker\"] == \"AAPL\"]) != 0 else -1))"
   ],
   "execution_count": 33,
   "outputs": [
    {
     "name": "stdout",
     "output_type": "stream",
     "text": [
      "AAPL Ranking for 2012: -1\n",
      "AAPL Ranking for 2013: -1\n",
      "AAPL Ranking for 2014: -1\n",
      "AAPL Ranking for 2015: 5\n",
      "AAPL Ranking for 2016: 3\n",
      "AAPL Ranking for 2017: 7\n",
      "AAPL Ranking for 2018: 4\n",
      "AAPL Ranking for 2019: 6\n",
      "AAPL Ranking for 2020: 1\n",
      "AAPL Ranking for 2021: 2\n"
     ]
    }
   ]
  },
  {
   "cell_type": "markdown",
   "metadata": {
    "id": "4_LlsDFC0mMk"
   },
   "source": [
    "While `AAPL` was not in the rankings in the first three years, it consistently made the top ten every year after that. While it was only the most traded stock in 2020, it seems to be an overall favorite for senators year after year."
   ]
  },
  {
   "cell_type": "markdown",
   "metadata": {
    "id": "BXdB8Hor2vUa"
   },
   "source": [
    "We can also look at data for each senator. Let's graph which senators traded the most."
   ]
  },
  {
   "cell_type": "code",
   "metadata": {
    "id": "9dILWJlChRdm",
    "colab": {
     "base_uri": "https://localhost:8080/",
     "height": 466
    },
    "outputId": "3303e051-4e58-4e3c-fcef-2678c6de9027"
   },
   "source": [
    "senators_grouped = data.groupby(\"senator\")\n",
    "senator_count = senators_grouped.count().sort_values(\"owner\", ascending=False)[\"owner\"]\n",
    "\n",
    "plt.figure(figsize=(10, 5))\n",
    "plt.ylabel(\"Trades Made\")\n",
    "plt.xlabel(\"Senator\")\n",
    "plt.title(\"Trades Made by Senator\")\n",
    "plt.xticks(rotation=90)\n",
    "plt.bar(senator_count.index, senator_count, width=0.8);"
   ],
   "execution_count": 34,
   "outputs": [
    {
     "data": {
      "text/plain": "<Figure size 720x360 with 1 Axes>",
      "image/png": "[encoded data removed]"
     },
     "metadata": {
      "needs_background": "light"
     },
     "output_type": "display_data"
    }
   ]
  },
  {
   "cell_type": "markdown",
   "metadata": {
    "id": "sSbuRK754A66"
   },
   "source": [
    "It is important to note that not every senator has held office throughout the date range that this dataset covers. Therefore, the conclusions we can draw from this are limited. Regardless, we see that Senator David A. Perdue Jr. has traded far more than every other member of the senate, far more than just the number of years he has held office."
   ]
  },
  {
   "cell_type": "markdown",
   "metadata": {
    "id": "TvGw3v4-5ffX"
   },
   "source": [
    "We can also look at the median amounts that each senator traded. We will use the median rather than the mean because we are interested in what magnitudes of trades are most common rather than the average amount in a trade. Single, large-value trades could easily sway our results if we use the mean."
   ]
  },
  {
   "cell_type": "code",
   "metadata": {
    "id": "nqoIgOYX5evD",
    "colab": {
     "base_uri": "https://localhost:8080/"
    },
    "outputId": "f1b7f0c1-9b5e-422c-f827-8c2fc3278521"
   },
   "source": [
    "data.loc[data.type == \"Purchase\"].groupby(data.senator).median().sort_values(\"amount_lower\", ascending=False)[\"amount_lower\"].head(10)"
   ],
   "execution_count": 35,
   "outputs": [
    {
     "data": {
      "text/plain": "senator\nKelly Loeffler                100001.0\nRafael E Cruz                  50001.0\nTina Smith                     50001.0\nJames M Inhofe                 50001.0\nJohn Hoeven                    50001.0\nJoseph Manchin, Iii            50001.0\nJohn Cornyn                    15001.0\nSusan M Collins                15001.0\nRon L Wyden                    15001.0\nA. Mitchell Mcconnell, Jr.      1001.0\nName: amount_lower, dtype: float64"
     },
     "execution_count": 35,
     "metadata": {},
     "output_type": "execute_result"
    }
   ]
  },
  {
   "cell_type": "markdown",
   "metadata": {
    "id": "5N4za8U78Fcc"
   },
   "source": [
    "We can see that Kelly Loeffler makes more high-value trades than other members. A number of other members also make high trades, but the vast majority of members make lower-valued trades, including Perdue, who made far more trades than any other senator. Quantity vs. Quality?"
   ]
  },
  {
   "cell_type": "markdown",
   "metadata": {
    "id": "VpgQ59mLWLw2"
   },
   "source": [
    "#### House SEC Filings\n"
   ]
  },
  {
   "cell_type": "markdown",
   "metadata": {
    "id": "de5fBW1FXjc5"
   },
   "source": [
    "In order to expand the scope of our dataset, we will begin analyzing data on the House. Perhaps there will be data that is even more clear given that representatives in the House should be more *representative* of the people. Let's show the first few rows of the dataset."
   ]
  },
  {
   "cell_type": "code",
   "metadata": {
    "colab": {
     "base_uri": "https://localhost:8080/",
     "height": 204
    },
    "id": "UWN_OZBdWbmY",
    "outputId": "8a0584f9-54fe-4552-a5fb-ee64a8d009e9"
   },
   "source": [
    "house.head()"
   ],
   "execution_count": 36,
   "outputs": [
    {
     "data": {
      "text/plain": "  transaction_date  owner ticker          type             amount  \\\n0       2021-09-27  joint     BP      purchase   $1,001 - $15,000   \n1       2021-09-13  joint    XOM      purchase   $1,001 - $15,000   \n2       2021-09-10  joint   ILPT      purchase  $15,001 - $50,000   \n3       2021-09-28  joint     PM      purchase  $15,001 - $50,000   \n4       2021-09-17   self    BLK  sale_partial   $1,001 - $15,000   \n\n           representative district  cap_gains_over_200_usd  transaction_year  \\\n0      Hon. Virginia Foxx     NC05                   False              2021   \n1      Hon. Virginia Foxx     NC05                   False              2021   \n2      Hon. Virginia Foxx     NC05                   False              2021   \n3      Hon. Virginia Foxx     NC05                   False              2021   \n4  Hon. Alan S. Lowenthal     CA47                   False              2021   \n\n   transaction_month  transaction_day  amount_lower  amount_upper  \n0                  9               27          1001         15000  \n1                  9               13          1001         15000  \n2                  9               10         15001         50000  \n3                  9               28         15001         50000  \n4                  9               17          1001         15000  ",
      "text/html": "<div>\n<style scoped>\n    .dataframe tbody tr th:only-of-type {\n        vertical-align: middle;\n    }\n\n    .dataframe tbody tr th {\n        vertical-align: top;\n    }\n\n    .dataframe thead th {\n        text-align: right;\n    }\n</style>\n<table border=\"1\" class=\"dataframe\">\n  <thead>\n    <tr style=\"text-align: right;\">\n      <th></th>\n      <th>transaction_date</th>\n      <th>owner</th>\n      <th>ticker</th>\n      <th>type</th>\n      <th>amount</th>\n      <th>representative</th>\n      <th>district</th>\n      <th>cap_gains_over_200_usd</th>\n      <th>transaction_year</th>\n      <th>transaction_month</th>\n      <th>transaction_day</th>\n      <th>amount_lower</th>\n      <th>amount_upper</th>\n    </tr>\n  </thead>\n  <tbody>\n    <tr>\n      <th>0</th>\n      <td>2021-09-27</td>\n      <td>joint</td>\n      <td>BP</td>\n      <td>purchase</td>\n      <td>$1,001 - $15,000</td>\n      <td>Hon. Virginia Foxx</td>\n      <td>NC05</td>\n      <td>False</td>\n      <td>2021</td>\n      <td>9</td>\n      <td>27</td>\n      <td>1001</td>\n      <td>15000</td>\n    </tr>\n    <tr>\n      <th>1</th>\n      <td>2021-09-13</td>\n      <td>joint</td>\n      <td>XOM</td>\n      <td>purchase</td>\n      <td>$1,001 - $15,000</td>\n      <td>Hon. Virginia Foxx</td>\n      <td>NC05</td>\n      <td>False</td>\n      <td>2021</td>\n      <td>9</td>\n      <td>13</td>\n      <td>1001</td>\n      <td>15000</td>\n    </tr>\n    <tr>\n      <th>2</th>\n      <td>2021-09-10</td>\n      <td>joint</td>\n      <td>ILPT</td>\n      <td>purchase</td>\n      <td>$15,001 - $50,000</td>\n      <td>Hon. Virginia Foxx</td>\n      <td>NC05</td>\n      <td>False</td>\n      <td>2021</td>\n      <td>9</td>\n      <td>10</td>\n      <td>15001</td>\n      <td>50000</td>\n    </tr>\n    <tr>\n      <th>3</th>\n      <td>2021-09-28</td>\n      <td>joint</td>\n      <td>PM</td>\n      <td>purchase</td>\n      <td>$15,001 - $50,000</td>\n      <td>Hon. Virginia Foxx</td>\n      <td>NC05</td>\n      <td>False</td>\n      <td>2021</td>\n      <td>9</td>\n      <td>28</td>\n      <td>15001</td>\n      <td>50000</td>\n    </tr>\n    <tr>\n      <th>4</th>\n      <td>2021-09-17</td>\n      <td>self</td>\n      <td>BLK</td>\n      <td>sale_partial</td>\n      <td>$1,001 - $15,000</td>\n      <td>Hon. Alan S. Lowenthal</td>\n      <td>CA47</td>\n      <td>False</td>\n      <td>2021</td>\n      <td>9</td>\n      <td>17</td>\n      <td>1001</td>\n      <td>15000</td>\n    </tr>\n  </tbody>\n</table>\n</div>"
     },
     "execution_count": 36,
     "metadata": {},
     "output_type": "execute_result"
    }
   ]
  },
  {
   "cell_type": "code",
   "metadata": {
    "colab": {
     "base_uri": "https://localhost:8080/"
    },
    "id": "6PA3hZ6oaDJu",
    "outputId": "c0e9f620-dc5b-44cf-ed2d-8b9ef9f76bed"
   },
   "source": [
    "house_amount_group = house.groupby(\"amount\")\n",
    "house_amount_count = house_amount_group.count().sort_values(\"owner\")[\"owner\"]\n",
    "house_amount_count"
   ],
   "execution_count": 37,
   "outputs": [
    {
     "data": {
      "text/plain": "amount\n$1,000 - $15,000               1\n$15,000 - $50,000              1\n$5,000,001 - $25,000,000       3\n$1,000,001 - $5,000,000       26\n$500,001 - $1,000,000         40\n$250,001 - $500,000           65\n$100,001 - $250,000          162\n$1,001 -                     232\n$50,001 - $100,000           234\n$15,001 - $50,000            843\n$1,001 - $15,000            5176\nName: owner, dtype: int64"
     },
     "execution_count": 37,
     "metadata": {},
     "output_type": "execute_result"
    }
   ]
  },
  {
   "cell_type": "markdown",
   "metadata": {
    "id": "gPIwelJNeO35"
   },
   "source": [
    "Hmmm...it appears as though there are some strange, overlapping data. We'll perform some basic transformations to combine these overlapping data."
   ]
  },
  {
   "cell_type": "code",
   "metadata": {
    "colab": {
     "base_uri": "https://localhost:8080/"
    },
    "id": "DqThLSTwb_vO",
    "outputId": "b123cfcd-66ee-4889-d8f5-fb749a63c96f"
   },
   "source": [
    "house[house[\"amount\"] == \"$1,000 - $15,000\"] = \"$1,001 - $15,000\"\n",
    "house[house[\"amount\"] == \"$15,000 - $50,000\"] = \"$15,001 - $50,000\"\n",
    "house[house[\"amount\"] == \"$1,001 -\"] = \"$1,001 - $15,000\"\n",
    "\n",
    "house_amount_group = house.groupby(\"amount\")\n",
    "house_amount_count = house_amount_group.count().sort_values(\"owner\")[\"owner\"]\n",
    "house_amount_count"
   ],
   "execution_count": 38,
   "outputs": [
    {
     "data": {
      "text/plain": "amount\n$5,000,001 - $25,000,000       3\n$1,000,001 - $5,000,000       26\n$500,001 - $1,000,000         40\n$250,001 - $500,000           65\n$100,001 - $250,000          162\n$50,001 - $100,000           234\n$15,001 - $50,000            844\n$1,001 - $15,000            5409\nName: owner, dtype: int64"
     },
     "execution_count": 38,
     "metadata": {},
     "output_type": "execute_result"
    }
   ]
  },
  {
   "cell_type": "markdown",
   "metadata": {
    "id": "Fg4h0RCcf-Y4"
   },
   "source": [
    "Now that the amounts seem to all be regular, it's time to perform some basic analysis on our House dataset! We can begin by graphing out the various amounts to visualize them better."
   ]
  },
  {
   "cell_type": "code",
   "metadata": {
    "colab": {
     "base_uri": "https://localhost:8080/",
     "height": 411
    },
    "id": "T1UzXBSNhDcc",
    "outputId": "65447c1c-7a46-4bde-b7d2-b5f4df2d6f5f"
   },
   "source": [
    "plt.ylabel(\"Count of Trades\")\n",
    "plt.xlabel(\"Amount Ranges ($)\")\n",
    "plt.xticks(rotation=90)\n",
    "plt.title(\"Count of Trades by Amount Range (House)\")\n",
    "plt.bar(house_amount_count.index, house_amount_count)\n",
    "plt.show()"
   ],
   "execution_count": 39,
   "outputs": [
    {
     "data": {
      "text/plain": "<Figure size 432x288 with 1 Axes>",
      "image/png": "[encoded data removed]"
     },
     "metadata": {
      "needs_background": "light"
     },
     "output_type": "display_data"
    }
   ]
  },
  {
   "cell_type": "markdown",
   "metadata": {
    "id": "HzThDWuhidfx"
   },
   "source": [
    "Similar to in the Senate data, the lowest value bracket dwarfs all the other bars. We'll have to use a logarithmic scale to better visualize our data here."
   ]
  },
  {
   "cell_type": "code",
   "metadata": {
    "colab": {
     "base_uri": "https://localhost:8080/",
     "height": 411
    },
    "id": "y0yy3O0NizRl",
    "outputId": "fde8a003-98cd-4f93-b3f5-c05c7be03827"
   },
   "source": [
    "plt.ylabel(\"Count of Trades\")\n",
    "plt.xlabel(\"Amount Ranges ($)\")\n",
    "plt.xticks(rotation=90)\n",
    "plt.title(\"Count of Trades by Amount Range (House)\")\n",
    "plt.bar(house_amount_count.index, house_amount_count, log = True)\n",
    "plt.show()"
   ],
   "execution_count": 40,
   "outputs": [
    {
     "data": {
      "text/plain": "<Figure size 432x288 with 1 Axes>",
      "image/png": "[encoded data removed]"
     },
     "metadata": {
      "needs_background": "light"
     },
     "output_type": "display_data"
    }
   ]
  },
  {
   "cell_type": "markdown",
   "metadata": {
    "id": "SRaytlXzmbb8"
   },
   "source": [
    "We're curious to see just how profitable some of these trades are for House Representatives. Let's look at how many of each of the ranges yield gains for Representatives that are over $200 USD as is described in the `cap_gains_over_200_usd` column."
   ]
  },
  {
   "cell_type": "code",
   "metadata": {
    "colab": {
     "base_uri": "https://localhost:8080/"
    },
    "id": "62N32EVQlbsc",
    "outputId": "ed20bcf1-1339-465e-ccad-414a4692e19e"
   },
   "source": [
    "over_200_house = house[house[\"cap_gains_over_200_usd\"] == True]\n",
    "grouped_over_200 = over_200_house.groupby(\"amount\")\n",
    "\n",
    "over_200_count = grouped_over_200.count().sort_values(\"owner\")[\"owner\"]\n",
    "over_200_count"
   ],
   "execution_count": 41,
   "outputs": [
    {
     "data": {
      "text/plain": "amount\n$1,000,001 - $5,000,000      2\n$250,001 - $500,000          4\n$500,001 - $1,000,000        4\n$100,001 - $250,000         11\n$50,001 - $100,000          11\n$15,001 - $50,000           51\n$1,001 - $15,000           233\nName: owner, dtype: int64"
     },
     "execution_count": 41,
     "metadata": {},
     "output_type": "execute_result"
    }
   ]
  },
  {
   "cell_type": "markdown",
   "metadata": {
    "id": "gyWkHJVunHTk"
   },
   "source": [
    "Interesting, it'll be easier to visualize once graphed out."
   ]
  },
  {
   "cell_type": "code",
   "metadata": {
    "colab": {
     "base_uri": "https://localhost:8080/",
     "height": 405
    },
    "id": "hm62OXKemCxX",
    "outputId": "5cd24f12-420c-4718-c9b5-72ee0614da2d"
   },
   "source": [
    "\n",
    "\n",
    "plt.ylabel(\"Count of Trades over $200\")\n",
    "plt.xlabel(\"Amount Ranges ($)\")\n",
    "plt.xticks(rotation=90)\n",
    "plt.title(\"Count of Trades over $200 by Amount Range (House)\")\n",
    "plt.bar(over_200_count.index, over_200_count)\n",
    "plt.show()"
   ],
   "execution_count": 42,
   "outputs": [
    {
     "data": {
      "text/plain": "<Figure size 432x288 with 1 Axes>",
      "image/png": "[encoded data removed]"
     },
     "metadata": {
      "needs_background": "light"
     },
     "output_type": "display_data"
    }
   ]
  },
  {
   "cell_type": "markdown",
   "metadata": {
    "id": "mP2VAegVnLIb"
   },
   "source": [
    "Huh, though upon initial inspection one might conclude that the lower ranges are far more profitable, perhaps this is a product of there simply being fewer trades in the higher brackets. Let's use to proportions to see this properly."
   ]
  },
  {
   "cell_type": "code",
   "metadata": {
    "colab": {
     "base_uri": "https://localhost:8080/",
     "height": 405
    },
    "id": "kKIftnhWnbi4",
    "outputId": "dce478b3-6b03-48db-ec2f-dcd903fd246d"
   },
   "source": [
    "proportions = [over_200_count[i] / house_amount_count[i+1] for i in range(len(over_200_count))]\n",
    "\n",
    "plt.ylabel(\"Proportion of Gains over $200\")\n",
    "plt.xlabel(\"Amount Ranges ($)\")\n",
    "plt.xticks(rotation=90)\n",
    "plt.title(\"Proportion of Gains over $200 by Amount Range (House)\")\n",
    "plt.bar(over_200_count.index, proportions)\n",
    "plt.show()"
   ],
   "execution_count": 43,
   "outputs": [
    {
     "data": {
      "text/plain": "<Figure size 432x288 with 1 Axes>",
      "image/png": "[encoded data removed]"
     },
     "metadata": {
      "needs_background": "light"
     },
     "output_type": "display_data"
    }
   ]
  },
  {
   "cell_type": "markdown",
   "metadata": {
    "id": "pyrWe_4jpNAe"
   },
   "source": [
    "Now this yields a very interesting output. It appears as though there is a weak, but still notable positive correlation between the value of Representatives' trades and proportion of gains over $200. This could be a product of similar proportions of gains relative to the amount of money traded, or it could be that individuals trade more money on stocks that will give greater returns."
   ]
  },
  {
   "cell_type": "markdown",
   "metadata": {
    "id": "Ru6LTdcJL3di"
   },
   "source": [
    "#### Senator Data"
   ]
  },
  {
   "cell_type": "markdown",
   "metadata": {
    "id": "Zre10GecMPlJ"
   },
   "source": [
    "Let's take a look at the senators who have filed their trades, and explore how that relates to their trading habits. We can start by grouping senators by their gender, political party, and senate class.\n",
    "\n",
    "*Senate Class comes from a provision in the U.S. Constitution which states that no more than one-third of the Senate may be up for election at a time. Therefore, the senate is divided into 3 \"classes\" which just determines when the senators will be up for re-election.*"
   ]
  },
  {
   "cell_type": "markdown",
   "metadata": {
    "id": "Mg-KucuIPbcB"
   },
   "source": [
    "First let's look at Gender."
   ]
  },
  {
   "cell_type": "code",
   "metadata": {
    "colab": {
     "base_uri": "https://localhost:8080/",
     "height": 281
    },
    "id": "Occ3CKSSNtV4",
    "outputId": "45b975db-5ad9-4d6b-802f-068f153ab84f"
   },
   "source": [
    "gender_group = trading_senators.groupby(\"gender\")\n",
    "plt.title(\"Male and Female Trading Senators\")\n",
    "plt.bar([\"Female\", \"Male\"], gender_group.count()[\"name\"]);"
   ],
   "execution_count": 44,
   "outputs": [
    {
     "data": {
      "text/plain": "<Figure size 432x288 with 1 Axes>",
      "image/png": "[encoded data removed]"
     },
     "metadata": {
      "needs_background": "light"
     },
     "output_type": "display_data"
    }
   ]
  },
  {
   "cell_type": "markdown",
   "metadata": {
    "id": "DxrWDa8NQ03n"
   },
   "source": [
    "However, this could just be a result of there being fewer female members of congress. Regardless, it is important to note that our data is very male-dominated. "
   ]
  },
  {
   "cell_type": "markdown",
   "metadata": {
    "id": "EFU0MdjjSlm6"
   },
   "source": [
    "Now let's look at political party."
   ]
  },
  {
   "cell_type": "code",
   "metadata": {
    "colab": {
     "base_uri": "https://localhost:8080/",
     "height": 281
    },
    "id": "M_R3r4zsSEV5",
    "outputId": "33776a82-08b8-4de9-ce08-559f84ebe9d3"
   },
   "source": [
    "party_group = trading_senators.groupby(\"party\")\n",
    "plt.title(\"Democrat and Republican Trading Senators\")\n",
    "plt.bar([\"Democrat\", \"Independant\", \"Republican\"], party_group.count()[\"name\"]);"
   ],
   "execution_count": 45,
   "outputs": [
    {
     "data": {
      "text/plain": "<Figure size 432x288 with 1 Axes>",
      "image/png": "[encoded data removed]"
     },
     "metadata": {
      "needs_background": "light"
     },
     "output_type": "display_data"
    }
   ]
  },
  {
   "cell_type": "markdown",
   "metadata": {
    "id": "NMYPD7stS7pk"
   },
   "source": [
    "It looks like there is an (almost) 50/50 split between Democrats and Republicans that trade, with one Independant senator who also trades. While people may assume that one party trades more frequently than the other, it seems like the activity is equally as common. It would be interesting to see how this data compares to the actual makeup of the Senate during the time periods referenced."
   ]
  },
  {
   "cell_type": "markdown",
   "metadata": {
    "id": "eXyI4OuKTxsT"
   },
   "source": [
    "Finally, we can look at Senate Class, although I don't expect there to be any trend here considering the meaning of Senate Class."
   ]
  },
  {
   "cell_type": "code",
   "metadata": {
    "colab": {
     "base_uri": "https://localhost:8080/",
     "height": 281
    },
    "id": "zryeGl0HT3XH",
    "outputId": "8162adc6-b323-4f6b-e180-193454ed5f07"
   },
   "source": [
    "class_group = trading_senators.groupby(\"senate_class\")\n",
    "plt.title(\"Trading Senators by Senate Class\")\n",
    "plt.bar([\"Class 1\", \"Class 2\", \"Class 3\"], class_group.count()[\"name\"]);"
   ],
   "execution_count": 46,
   "outputs": [
    {
     "data": {
      "text/plain": "<Figure size 432x288 with 1 Axes>",
      "image/png": "[encoded data removed]"
     },
     "metadata": {
      "needs_background": "light"
     },
     "output_type": "display_data"
    }
   ]
  },
  {
   "cell_type": "markdown",
   "metadata": {
    "id": "80OSsTcSUHez"
   },
   "source": [
    "Surprisingly, there appears to be a big difference between the senators in Class 2, and the senators in other classes. Maybe this is something to look into further. Perhaps there is a deeper implication here with the way that senators are assigned to classes."
   ]
  },
  {
   "cell_type": "markdown",
   "metadata": {
    "id": "DQ284xJJyRGI"
   },
   "source": [
    "### Questions for Reviewers"
   ]
  },
  {
   "cell_type": "markdown",
   "metadata": {
    "id": "CXZMbVtLyUMl"
   },
   "source": [
    ""
   ]
  }
 ]
}