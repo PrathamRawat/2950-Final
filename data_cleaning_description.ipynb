{
 "cells": [
  {
   "cell_type": "markdown",
   "metadata": {
    "collapsed": true,
    "pycharm": {
     "name": "#%% md\n"
    }
   },
   "source": [
    "# Appendix: Data Cleaning Description"
   ]
  },
  {
   "cell_type": "markdown",
   "source": [
    "This project required a bit of data cleaning to get the final datasets that we worked with for our analyses. Here, we outline the steps undertaken to get the workable datasets that we used."
   ],
   "metadata": {
    "collapsed": false,
    "pycharm": {
     "name": "#%% md\n"
    }
   }
  },
  {
   "cell_type": "markdown",
   "source": [
    "## Members of Congress Dataset"
   ],
   "metadata": {
    "collapsed": false,
    "pycharm": {
     "name": "#%% md\n"
    }
   }
  },
  {
   "cell_type": "markdown",
   "source": [
    "We will use [the @unitedstates project](https://github.com/unitedstates/congress-legislators) to get broad data on every single member of congress in our dataset. They provide downloadable CSVs which we can use to cross-reference names from the SEC Filing data to get different features with which we can run our hypothesis tests. We will need to prune down this dataset intensely in order to only contain the legislators that have filed with the SEC, instead of all legislators since the 1700s."
   ],
   "metadata": {
    "collapsed": false,
    "pycharm": {
     "name": "#%% md\n"
    }
   }
  },
  {
   "cell_type": "markdown",
   "source": [
    "First we will make the requisite imports."
   ],
   "metadata": {
    "collapsed": false,
    "pycharm": {
     "name": "#%% md\n"
    }
   }
  },
  {
   "cell_type": "code",
   "execution_count": null,
   "outputs": [],
   "source": [
    "import pandas as pd"
   ],
   "metadata": {
    "collapsed": false,
    "pycharm": {
     "name": "#%%\n"
    }
   }
  },
  {
   "cell_type": "markdown",
   "source": [
    "We will load in the dataset. Because the data is seperated for current and historical legislators, we will need to load both of them in separately and then concatenate them together. We will also use this moment to remove some extraneous columns."
   ],
   "metadata": {
    "collapsed": false,
    "pycharm": {
     "name": "#%% md\n"
    }
   }
  },
  {
   "cell_type": "code",
   "execution_count": 29,
   "outputs": [],
   "source": [
    "legislators_current = pd.read_csv(\"data/raw/legislators-current.csv\")\n",
    "legislators_historical = pd.read_csv(\"data/raw/legislators-historical.csv\")"
   ],
   "metadata": {
    "collapsed": false,
    "pycharm": {
     "name": "#%%\n"
    }
   }
  },
  {
   "cell_type": "code",
   "execution_count": 31,
   "outputs": [
    {
     "data": {
      "text/plain": "  last_name  first_name middle_name gender type                party state  \\\n0   Bassett     Richard         NaN      M  sen  Anti-Administration    DE   \n1     Bland  Theodorick         NaN      M  rep                  NaN    VA   \n2     Burke     Aedanus         NaN      M  rep                  NaN    SC   \n3   Carroll      Daniel         NaN      M  rep                  NaN    MD   \n4    Clymer      George         NaN      M  rep                  NaN    PA   \n\n   district  senate_class  \n0       NaN           2.0  \n1       9.0           NaN  \n2       2.0           NaN  \n3       6.0           NaN  \n4      -1.0           NaN  ",
      "text/html": "<div>\n<style scoped>\n    .dataframe tbody tr th:only-of-type {\n        vertical-align: middle;\n    }\n\n    .dataframe tbody tr th {\n        vertical-align: top;\n    }\n\n    .dataframe thead th {\n        text-align: right;\n    }\n</style>\n<table border=\"1\" class=\"dataframe\">\n  <thead>\n    <tr style=\"text-align: right;\">\n      <th></th>\n      <th>last_name</th>\n      <th>first_name</th>\n      <th>middle_name</th>\n      <th>gender</th>\n      <th>type</th>\n      <th>party</th>\n      <th>state</th>\n      <th>district</th>\n      <th>senate_class</th>\n    </tr>\n  </thead>\n  <tbody>\n    <tr>\n      <th>0</th>\n      <td>Bassett</td>\n      <td>Richard</td>\n      <td>NaN</td>\n      <td>M</td>\n      <td>sen</td>\n      <td>Anti-Administration</td>\n      <td>DE</td>\n      <td>NaN</td>\n      <td>2.0</td>\n    </tr>\n    <tr>\n      <th>1</th>\n      <td>Bland</td>\n      <td>Theodorick</td>\n      <td>NaN</td>\n      <td>M</td>\n      <td>rep</td>\n      <td>NaN</td>\n      <td>VA</td>\n      <td>9.0</td>\n      <td>NaN</td>\n    </tr>\n    <tr>\n      <th>2</th>\n      <td>Burke</td>\n      <td>Aedanus</td>\n      <td>NaN</td>\n      <td>M</td>\n      <td>rep</td>\n      <td>NaN</td>\n      <td>SC</td>\n      <td>2.0</td>\n      <td>NaN</td>\n    </tr>\n    <tr>\n      <th>3</th>\n      <td>Carroll</td>\n      <td>Daniel</td>\n      <td>NaN</td>\n      <td>M</td>\n      <td>rep</td>\n      <td>NaN</td>\n      <td>MD</td>\n      <td>6.0</td>\n      <td>NaN</td>\n    </tr>\n    <tr>\n      <th>4</th>\n      <td>Clymer</td>\n      <td>George</td>\n      <td>NaN</td>\n      <td>M</td>\n      <td>rep</td>\n      <td>NaN</td>\n      <td>PA</td>\n      <td>-1.0</td>\n      <td>NaN</td>\n    </tr>\n  </tbody>\n</table>\n</div>"
     },
     "execution_count": 31,
     "metadata": {},
     "output_type": "execute_result"
    }
   ],
   "source": [
    "legislators = legislators_historical.append(legislators_current)\n",
    "legislators = legislators[[\"last_name\", \"first_name\", \"middle_name\", \"gender\", \"type\", \"party\", \"state\", \"district\", \"senate_class\"]]\n",
    "legislators.head()"
   ],
   "metadata": {
    "collapsed": false,
    "pycharm": {
     "name": "#%%\n"
    }
   }
  },
  {
   "cell_type": "markdown",
   "source": [
    "In order to make the data easier to work with, we will separate the legislators dataset into Senators and Representatives. Note that we already need to deal with cherry-picking names, as some members have served terms in both the house and the senate, but the dataset only counts the most recent term served."
   ],
   "metadata": {
    "collapsed": false,
    "pycharm": {
     "name": "#%% md\n"
    }
   }
  },
  {
   "cell_type": "code",
   "execution_count": 32,
   "outputs": [],
   "source": [
    "senators = legislators[legislators['type'] == \"sen\"]\n",
    "representatives = legislators[(legislators['type'] == \"rep\") | ((legislators[\"first_name\"] == \"Roger\") & (legislators[\"last_name\"] == \"Marshall\"))]"
   ],
   "metadata": {
    "collapsed": false,
    "pycharm": {
     "name": "#%%\n"
    }
   }
  },
  {
   "cell_type": "markdown",
   "source": [
    "Now, in order to make searching the dataset easier, we join the first name, last name, and middle initial of the legislators to put the name in the same format as the SEC filings."
   ],
   "metadata": {
    "collapsed": false,
    "pycharm": {
     "name": "#%% md\n"
    }
   }
  },
  {
   "cell_type": "code",
   "execution_count": 36,
   "outputs": [
    {
     "name": "stderr",
     "output_type": "stream",
     "text": [
      "/Users/prathamrawat/git/2950-Final/venv/lib/python3.7/site-packages/ipykernel_launcher.py:1: SettingWithCopyWarning: \n",
      "A value is trying to be set on a copy of a slice from a DataFrame.\n",
      "Try using .loc[row_indexer,col_indexer] = value instead\n",
      "\n",
      "See the caveats in the documentation: https://pandas.pydata.org/pandas-docs/stable/user_guide/indexing.html#returning-a-view-versus-a-copy\n",
      "  \"\"\"Entry point for launching an IPython kernel.\n",
      "/Users/prathamrawat/git/2950-Final/venv/lib/python3.7/site-packages/ipykernel_launcher.py:2: SettingWithCopyWarning: \n",
      "A value is trying to be set on a copy of a slice from a DataFrame.\n",
      "Try using .loc[row_indexer,col_indexer] = value instead\n",
      "\n",
      "See the caveats in the documentation: https://pandas.pydata.org/pandas-docs/stable/user_guide/indexing.html#returning-a-view-versus-a-copy\n",
      "  \n"
     ]
    }
   ],
   "source": [
    "senators[\"name\"] = pd.DataFrame.copy(senators.apply(lambda r: \"{}{}{}\".format(r[\"first_name\"], \" \" if pd.isna(r[\"middle_name\"]) else \" {} \".format(r[\"middle_name\"][0]), r[\"last_name\"]), axis=1))\n",
    "representatives[\"name\"] = pd.DataFrame.copy(representatives.apply( lambda r: \"{}{}{}\".format(r[\"first_name\"], \" \" if pd.isna(r[\"middle_name\"]) else \" {} \".format(r[\"middle_name\"]), r[\"last_name\"]), axis=1))"
   ],
   "metadata": {
    "collapsed": false,
    "pycharm": {
     "name": "#%%\n"
    }
   }
  },
  {
   "cell_type": "code",
   "execution_count": 38,
   "outputs": [
    {
     "data": {
      "text/plain": "   last_name first_name middle_name gender type                party state  \\\n0    Bassett    Richard         NaN      M  sen  Anti-Administration    DE   \n6     Dalton   Tristram         NaN      M  sen   Pro-Administration    MA   \n7      Elmer   Jonathan         NaN      M  sen   Pro-Administration    NJ   \n8        Few    William         NaN      M  sen  Anti-Administration    GA   \n11   Grayson    William         NaN      M  sen  Anti-Administration    VA   \n\n    district  senate_class             name  \n0        NaN           2.0  Richard Bassett  \n6        NaN           1.0  Tristram Dalton  \n7        NaN           1.0   Jonathan Elmer  \n8        NaN           2.0      William Few  \n11       NaN           1.0  William Grayson  ",
      "text/html": "<div>\n<style scoped>\n    .dataframe tbody tr th:only-of-type {\n        vertical-align: middle;\n    }\n\n    .dataframe tbody tr th {\n        vertical-align: top;\n    }\n\n    .dataframe thead th {\n        text-align: right;\n    }\n</style>\n<table border=\"1\" class=\"dataframe\">\n  <thead>\n    <tr style=\"text-align: right;\">\n      <th></th>\n      <th>last_name</th>\n      <th>first_name</th>\n      <th>middle_name</th>\n      <th>gender</th>\n      <th>type</th>\n      <th>party</th>\n      <th>state</th>\n      <th>district</th>\n      <th>senate_class</th>\n      <th>name</th>\n    </tr>\n  </thead>\n  <tbody>\n    <tr>\n      <th>0</th>\n      <td>Bassett</td>\n      <td>Richard</td>\n      <td>NaN</td>\n      <td>M</td>\n      <td>sen</td>\n      <td>Anti-Administration</td>\n      <td>DE</td>\n      <td>NaN</td>\n      <td>2.0</td>\n      <td>Richard Bassett</td>\n    </tr>\n    <tr>\n      <th>6</th>\n      <td>Dalton</td>\n      <td>Tristram</td>\n      <td>NaN</td>\n      <td>M</td>\n      <td>sen</td>\n      <td>Pro-Administration</td>\n      <td>MA</td>\n      <td>NaN</td>\n      <td>1.0</td>\n      <td>Tristram Dalton</td>\n    </tr>\n    <tr>\n      <th>7</th>\n      <td>Elmer</td>\n      <td>Jonathan</td>\n      <td>NaN</td>\n      <td>M</td>\n      <td>sen</td>\n      <td>Pro-Administration</td>\n      <td>NJ</td>\n      <td>NaN</td>\n      <td>1.0</td>\n      <td>Jonathan Elmer</td>\n    </tr>\n    <tr>\n      <th>8</th>\n      <td>Few</td>\n      <td>William</td>\n      <td>NaN</td>\n      <td>M</td>\n      <td>sen</td>\n      <td>Anti-Administration</td>\n      <td>GA</td>\n      <td>NaN</td>\n      <td>2.0</td>\n      <td>William Few</td>\n    </tr>\n    <tr>\n      <th>11</th>\n      <td>Grayson</td>\n      <td>William</td>\n      <td>NaN</td>\n      <td>M</td>\n      <td>sen</td>\n      <td>Anti-Administration</td>\n      <td>VA</td>\n      <td>NaN</td>\n      <td>1.0</td>\n      <td>William Grayson</td>\n    </tr>\n  </tbody>\n</table>\n</div>"
     },
     "execution_count": 38,
     "metadata": {},
     "output_type": "execute_result"
    }
   ],
   "source": [
    "senators.head()"
   ],
   "metadata": {
    "collapsed": false,
    "pycharm": {
     "name": "#%%\n"
    }
   }
  },
  {
   "cell_type": "code",
   "execution_count": 37,
   "outputs": [
    {
     "data": {
      "text/plain": "  last_name  first_name middle_name gender type party state  district  \\\n1     Bland  Theodorick         NaN      M  rep   NaN    VA       9.0   \n2     Burke     Aedanus         NaN      M  rep   NaN    SC       2.0   \n3   Carroll      Daniel         NaN      M  rep   NaN    MD       6.0   \n4    Clymer      George         NaN      M  rep   NaN    PA      -1.0   \n5    Contee    Benjamin         NaN      M  rep   NaN    MD       3.0   \n\n   senate_class              name  \n1           NaN  Theodorick Bland  \n2           NaN     Aedanus Burke  \n3           NaN    Daniel Carroll  \n4           NaN     George Clymer  \n5           NaN   Benjamin Contee  ",
      "text/html": "<div>\n<style scoped>\n    .dataframe tbody tr th:only-of-type {\n        vertical-align: middle;\n    }\n\n    .dataframe tbody tr th {\n        vertical-align: top;\n    }\n\n    .dataframe thead th {\n        text-align: right;\n    }\n</style>\n<table border=\"1\" class=\"dataframe\">\n  <thead>\n    <tr style=\"text-align: right;\">\n      <th></th>\n      <th>last_name</th>\n      <th>first_name</th>\n      <th>middle_name</th>\n      <th>gender</th>\n      <th>type</th>\n      <th>party</th>\n      <th>state</th>\n      <th>district</th>\n      <th>senate_class</th>\n      <th>name</th>\n    </tr>\n  </thead>\n  <tbody>\n    <tr>\n      <th>1</th>\n      <td>Bland</td>\n      <td>Theodorick</td>\n      <td>NaN</td>\n      <td>M</td>\n      <td>rep</td>\n      <td>NaN</td>\n      <td>VA</td>\n      <td>9.0</td>\n      <td>NaN</td>\n      <td>Theodorick Bland</td>\n    </tr>\n    <tr>\n      <th>2</th>\n      <td>Burke</td>\n      <td>Aedanus</td>\n      <td>NaN</td>\n      <td>M</td>\n      <td>rep</td>\n      <td>NaN</td>\n      <td>SC</td>\n      <td>2.0</td>\n      <td>NaN</td>\n      <td>Aedanus Burke</td>\n    </tr>\n    <tr>\n      <th>3</th>\n      <td>Carroll</td>\n      <td>Daniel</td>\n      <td>NaN</td>\n      <td>M</td>\n      <td>rep</td>\n      <td>NaN</td>\n      <td>MD</td>\n      <td>6.0</td>\n      <td>NaN</td>\n      <td>Daniel Carroll</td>\n    </tr>\n    <tr>\n      <th>4</th>\n      <td>Clymer</td>\n      <td>George</td>\n      <td>NaN</td>\n      <td>M</td>\n      <td>rep</td>\n      <td>NaN</td>\n      <td>PA</td>\n      <td>-1.0</td>\n      <td>NaN</td>\n      <td>George Clymer</td>\n    </tr>\n    <tr>\n      <th>5</th>\n      <td>Contee</td>\n      <td>Benjamin</td>\n      <td>NaN</td>\n      <td>M</td>\n      <td>rep</td>\n      <td>NaN</td>\n      <td>MD</td>\n      <td>3.0</td>\n      <td>NaN</td>\n      <td>Benjamin Contee</td>\n    </tr>\n  </tbody>\n</table>\n</div>"
     },
     "execution_count": 37,
     "metadata": {},
     "output_type": "execute_result"
    }
   ],
   "source": [
    "representatives.head()"
   ],
   "metadata": {
    "collapsed": false,
    "pycharm": {
     "name": "#%%\n"
    }
   }
  },
  {
   "cell_type": "markdown",
   "source": [
    "However, there are still discrepancies in the data. Therefore, we also need to edit the data by hand to ensure that the names are able to be cross referenced by the SEC filings."
   ],
   "metadata": {
    "collapsed": false,
    "pycharm": {
     "name": "#%% md\n"
    }
   }
  },
  {
   "cell_type": "code",
   "execution_count": 63,
   "outputs": [],
   "source": [
    "senators.loc[senators[\"name\"] == \"Angus S King\", \"name\"] = \"Angus S King, Jr.\"\n",
    "senators.loc[senators[\"name\"] == \"Tommy H Tuberville\", \"name\"] = \"Thomas H Tuberville\"\n",
    "senators.loc[senators[\"name\"] == \"Bill F Hagerty\", \"name\"] = \"William F Hagerty, Iv\"\n",
    "senators.loc[senators[\"name\"] == \"Mitch McConnell\", \"name\"] = \"A. Mitchell Mcconnell, Jr.\"\n",
    "senators.loc[senators[\"name\"] == \"Jerry Moran\", \"name\"] = \"Jerry Moran,\"\n",
    "senators.loc[senators[\"name\"] == \"Ron Wyden\", \"name\"] = \"Ron L Wyden\"\n",
    "senators.loc[senators[\"name\"] == \"Dan Sullivan\", \"name\"] = \"Daniel S Sullivan\"\n",
    "senators.loc[senators[\"name\"] == \"Jacky Rosen\", \"name\"] = \"Jacklyn S Rosen\"\n",
    "senators.loc[senators[\"name\"] == \"Bill Cassidy\", \"name\"] = \"William Cassidy\"\n",
    "senators.loc[senators[\"name\"] == \"Timothy Kaine\", \"name\"] = \"Timothy M Kaine\"\n",
    "senators.loc[senators[\"name\"] == \"David Perdue\", \"name\"] = \"David A Perdue , Jr\"\n",
    "senators.loc[senators[\"name\"] == \"Tina F Smith\", \"name\"] = \"Tina Smith\"\n",
    "senators.loc[senators[\"name\"] == \"Ted Cruz\", \"name\"] = \"Rafael E Cruz\"\n",
    "senators.loc[senators[\"name\"] == \"Tom S Udall\", \"name\"] = \"Thomas Udall\"\n",
    "senators.loc[senators[\"name\"] == \"Thom Tillis\", \"name\"] = \"Thomas R Tillis\"\n",
    "senators.loc[senators[\"name\"] == \"Robert P Casey\", \"name\"] = \"Robert P Casey, Jr.\"\n",
    "senators.loc[senators[\"name\"] == \"Joe Manchin\", \"name\"] = \"Joseph Manchin, Iii\"\n",
    "senators.loc[senators[\"name\"] == \"Roger Marshall\", \"name\"] = \"Roger W Marshall\"\n",
    "senators.loc[senators[\"name\"] == \"John F Reed\", \"name\"] = \"Jack Reed\"\n",
    "senators.loc[senators[\"name\"] == \"Roy Blunt\", \"name\"] = \"Roy D Blunt\""
   ],
   "metadata": {
    "collapsed": false,
    "pycharm": {
     "name": "#%%\n"
    }
   }
  },
  {
   "cell_type": "code",
   "execution_count": 41,
   "outputs": [
    {
     "name": "stderr",
     "output_type": "stream",
     "text": [
      "/Users/prathamrawat/git/2950-Final/venv/lib/python3.7/site-packages/pandas/core/indexing.py:1817: SettingWithCopyWarning: \n",
      "A value is trying to be set on a copy of a slice from a DataFrame.\n",
      "Try using .loc[row_indexer,col_indexer] = value instead\n",
      "\n",
      "See the caveats in the documentation: https://pandas.pydata.org/pandas-docs/stable/user_guide/indexing.html#returning-a-view-versus-a-copy\n",
      "  self._setitem_single_column(loc, value, pi)\n"
     ]
    }
   ],
   "source": [
    "representatives.loc[representatives[\"name\"] == \"Abigail Davis Spanberger\", \"name\"] = \"Abigail Spanberger\"\n",
    "representatives.loc[representatives[\"name\"] == \"Andrew R. Garbarino\", \"name\"] = \"Andrew Garbarino\"\n",
    "representatives.loc[representatives[\"name\"] == \"Anthony Gonzalez\", \"name\"] = \"Anthony E. Gonzalez\"\n",
    "representatives.loc[representatives[\"name\"] == \"Ashley Hinson\", \"name\"] = \"Ashley Hinson Arenholz\"\n",
    "representatives.loc[representatives[\"name\"] == \"Barry Moore\", \"name\"] = \"Felix Barry Moore\"\n",
    "representatives.loc[representatives[\"name\"] == \"Bill J. Pascrell\", \"name\"] = \"Bill Pascrell\"\n",
    "representatives.loc[representatives[\"name\"] == \"Blake David Moore\", \"name\"] = \"Blake Moore\"\n",
    "representatives.loc[representatives[\"name\"] == \"Bradley Scott Schneider\", \"name\"] = \"Bradley S. Schneider\"\n",
    "representatives.loc[representatives[\"name\"] == \"Brian J. Mast\", \"name\"] = \"Brian Mast\"\n",
    "representatives.loc[representatives[\"name\"] == \"Brian M. Higgins\", \"name\"] = \"Brian Higgins\"\n",
    "representatives.loc[representatives[\"name\"] == \"C. Scott Franklin\", \"name\"] = \"Scott Franklin\"\n",
    "representatives.loc[representatives[\"name\"] == \"Carol D. Miller\", \"name\"] = \"Carol Devine Miller\"\n",
    "representatives.loc[representatives[\"name\"] == \"Charles J. Fleischmann\", \"name\"] = 'Charles J. \"Chuck\" Fleischmann'\n",
    "representatives.loc[representatives[\"name\"] == \"Chris Jacobs\", \"name\"] = \"Christopher L. Jacobs\"\n",
    "representatives.loc[representatives[\"name\"] == \"Dan Crenshaw\", \"name\"] = \"Daniel Crenshaw\"\n",
    "representatives.loc[representatives[\"name\"] == \"David J. Trone\", \"name\"] = \"David Trone\"\n",
    "representatives.loc[representatives[\"name\"] == \"David Rouzer\", \"name\"] = \"David Cheston Rouzer\"\n",
    "representatives.loc[representatives[\"name\"] == \"Deborah Koff Ross\", \"name\"] = \"Deborah K. Ross\"\n",
    "representatives.loc[representatives[\"name\"] == \"Donna E. Shalala\", \"name\"] = \"Donna Shalala\"\n",
    "representatives.loc[representatives[\"name\"] == \"Earl L. Carter\", \"name\"] = \"Earl Leroy Carter\"\n",
    "representatives.loc[representatives[\"name\"] == \"Elaine G. Luria\", \"name\"] = \"Elaine Luria\"\n",
    "representatives.loc[representatives[\"name\"] == \"Frank J. Pallone\", \"name\"] = \"Frank Pallone\"\n",
    "representatives.loc[representatives[\"name\"] == \"Fred Stephen Upton\", \"name\"] = \"Fred Upton\"\n",
    "representatives.loc[representatives[\"name\"] == \"Gilbert Ray Cisneros\", \"name\"] = \"Gilbert Cisneros\"\n",
    "representatives.loc[representatives[\"name\"] == \"Harley Rouda\", \"name\"] = \"Harley E. Rouda\"\n",
    "representatives.loc[representatives[\"name\"] == \"Harold Rogers\", \"name\"] = \"Harold Dallas Rogers\"\n",
    "representatives.loc[representatives[\"name\"] == \"J. French Hill\", \"name\"] = \"James French Hill\"\n",
    "representatives.loc[representatives[\"name\"] == \"Jim Hagedorn\", \"name\"] = \"James Hagedorn\"\n",
    "representatives.loc[representatives[\"name\"] == \"John H. Rutherford\", \"name\"] = \"John Rutherford\"\n",
    "representatives.loc[representatives[\"name\"] == \"John R. Curtis\", \"name\"] = \"John Curtis\"\n",
    "representatives.loc[representatives[\"name\"] == \"Judy M. Chu\", \"name\"] = \"Judy Chu\"\n",
    "representatives.loc[representatives[\"name\"] == \"Kathy Ellen Manning\", \"name\"] = \"Kathy Manning\"\n",
    "representatives.loc[representatives[\"name\"] == \"Kenny Ewell Marchant\", \"name\"] = \"Kenny Marchant\"\n",
    "representatives.loc[representatives[\"name\"] == \"Kevin R. Hern\", \"name\"] = \"Kevin Hern\"\n",
    "representatives.loc[representatives[\"name\"] == \"Linda T. Sánchez\", \"name\"] = \"Linda T. Sanchez\"\n",
    "representatives.loc[representatives[\"name\"] == \"Lloyd A. Doggett\", \"name\"] = \"Lloyd Doggett\"\n",
    "representatives.loc[representatives[\"name\"] == \"Lloyd Smucker\", \"name\"] = \"Lloyd K. Smucker\"\n",
    "representatives.loc[representatives[\"name\"] == \"Michael Guest\", \"name\"] = \"Michael Patrick Guest\"\n",
    "representatives.loc[representatives[\"name\"] == \"Mike Gallagher\", \"name\"] = \"Michael John Gallagher\"\n",
    "representatives.loc[representatives[\"name\"] == \"Mike Garcia\", \"name\"] = \"Michael Garcia\"\n",
    "representatives.loc[representatives[\"name\"] == \"Patrick Edward Fallon\", \"name\"] = \"Patrick Fallon\"\n",
    "representatives.loc[representatives[\"name\"] == \"Pete A. Sessions\", \"name\"] = \"Pete Sessions\"\n",
    "representatives.loc[representatives[\"name\"] == \"Peter James Meijer\", \"name\"] = \"Peter Meijer\"\n",
    "representatives.loc[representatives[\"name\"] == \"Raja Krishnamoorthi\", \"name\"] = \"S. Raja Krishnamoorthi\"\n",
    "representatives.loc[representatives[\"name\"] == \"Rick W. Allen\", \"name\"] = \"Richard W. Allen\"\n",
    "representatives.loc[representatives[\"name\"] == \"Ro Khanna\", \"name\"] = \"Rohit Khanna\"\n",
    "representatives.loc[representatives[\"name\"] == \"Robert C. Scott\", \"name\"] = 'Robert C. \"Bobby\" Scott'\n",
    "representatives.loc[representatives[\"name\"] == \"Roger Marshall\", \"name\"] = \"Roger W. Marshall\"\n",
    "representatives.loc[representatives[\"name\"] == \"Stephanie I. Bice\", \"name\"] = \"Stephanie Bice\"\n",
    "representatives.loc[representatives[\"name\"] == \"Steve J. Chabot\", \"name\"] = \"Steve Chabot\"\n",
    "representatives.loc[representatives[\"name\"] == \"TJ Cox\", \"name\"] = \"TJ John (Tj) Cox\"\n",
    "representatives.loc[representatives[\"name\"] == \"Thomas R. Suozzi\", \"name\"] = \"Thomas Suozzi\"\n",
    "representatives.loc[representatives[\"name\"] == \"Tom O’Halleran\", \"name\"] = \"Tom O'Halleran\"\n",
    "representatives.loc[representatives[\"name\"] == \"Van Taylor\", \"name\"] = \"Nicholas Van Taylor\"\n",
    "representatives.loc[representatives[\"name\"] == \"W. Gregory Steube\", \"name\"] = \"Greg Steube\"\n",
    "representatives.loc[representatives[\"name\"] == \"Mark E. Green\", \"name\"] = \"Mark Green\"\n",
    "representatives.loc[representatives[\"name\"] == \"Jim Banks\", \"name\"] = \"James E. Banks\"\n",
    "representatives.loc[representatives[\"name\"] == \"Donald S. Beyer\", \"name\"] = \"Donald Sternoff Beyer\""
   ],
   "metadata": {
    "collapsed": false,
    "pycharm": {
     "name": "#%%\n"
    }
   }
  },
  {
   "cell_type": "markdown",
   "source": [
    "However, in order to complete the process, we will also pull in the SEC Filing data to reference names further, particularly those that are inconsistently referenced.."
   ],
   "metadata": {
    "collapsed": false
   }
  },
  {
   "cell_type": "code",
   "execution_count": 74,
   "outputs": [],
   "source": [
    "senate = pd.read_csv(\"data/raw/all_transactions.csv\")\n",
    "senate = senate.loc[senate.asset_type == \"Stock\"].loc[senate.ticker != \"--\"].dropna()\n",
    "senate = senate.drop(columns=[\"ptr_link\", \"asset_type\", \"disclosure_date\", \"asset_description\"])\n",
    "\n",
    "house = pd.read_csv(\"data/raw/all_transactions_house.csv\")\n",
    "house = house.drop([1956, 3381, 8975, 8976])\n",
    "house = house.loc[house.ticker != \"--\"].dropna()\n",
    "house = house.drop(columns=[\"ptr_link\", \"disclosure_date\", \"disclosure_year\", \"asset_description\"])\n",
    "house['transaction_date'] = pd.to_datetime(house['transaction_date'])\n",
    "house['transaction_year'] = pd.DatetimeIndex(house['transaction_date']).year\n",
    "house['transaction_month'] = pd.DatetimeIndex(house['transaction_date']).month\n",
    "house['transaction_day'] = pd.DatetimeIndex(house['transaction_date']).day\n",
    "house[\"amount_lower\"] = pd.to_numeric( house[\"amount\"].replace(\"Over \", \"\", regex=True).replace(\"\\$\", \"\", regex=True).replace(\" -.*$\", \"\", regex=True).replace(\",\", \"\", regex=True))\n",
    "house[\"amount_upper\"] = pd.to_numeric( house[\"amount\"].replace(\"Over \", \"\", regex=True).replace(\"-$\", \"- 0\", regex=True).replace(\".* - \", \"\", regex=True).replace(\"\\$\", \"\", regex=True).replace( \",\", \"\", regex=True))\n",
    "house[\"representative\"] = house[\"representative\"].str.split(\" \", 1).str[1]"
   ],
   "metadata": {
    "collapsed": false,
    "pycharm": {
     "name": "#%%\n"
    }
   }
  },
  {
   "cell_type": "markdown",
   "source": [
    "Now we will reference senator and representative names to fix some remaining issues with the data."
   ],
   "metadata": {
    "collapsed": false,
    "pycharm": {
     "name": "#%% md\n"
    }
   }
  },
  {
   "cell_type": "code",
   "execution_count": 75,
   "outputs": [],
   "source": [
    "def get_senator(name):\n",
    "    if name == \"Ladda Tammy Duckworth\":\n",
    "        name = \"Tammy Duckworth\"\n",
    "    if name == \"Michael  B Enzi\":\n",
    "        name = \"Michael B Enzi\"\n",
    "    if name == \"Ron Wyden\":\n",
    "        name = \"Ron L Wyden\"\n",
    "    if name == \"John F Reed\":\n",
    "        name = \"Jack Reed\"\n",
    "    if name == \"Angus S King\":\n",
    "        name = \"Angus S King, Jr.\"\n",
    "    if name == \"Roy Blunt\":\n",
    "        name = \"Roy D Blunt\"\n",
    "    return indexed_senators.loc[name]\n",
    "\n",
    "indexed_senators = senators.set_index(\"name\")\n",
    "indexed_senators[\"name\"] = indexed_senators.index\n",
    "trading_senators = senate[\"senator\"].apply(get_senator)\n",
    "trading_senators = trading_senators.drop_duplicates()\n",
    "trading_senators = trading_senators.reset_index()\n",
    "trading_senators = trading_senators.drop(\"index\", axis=1)"
   ],
   "metadata": {
    "collapsed": false,
    "pycharm": {
     "name": "#%%\n"
    }
   }
  },
  {
   "cell_type": "code",
   "execution_count": 76,
   "outputs": [],
   "source": [
    "representatives.loc[representatives[\"name\"] == \"Abigail Davis Spanberger\", \"name\"] = \"Abigail Spanberger\"\n",
    "representatives.loc[representatives[\"name\"] == \"Andrew R. Garbarino\", \"name\"] = \"Andrew Garbarino\"\n",
    "representatives.loc[representatives[\"name\"] == \"Anthony Gonzalez\", \"name\"] = \"Anthony E. Gonzalez\"\n",
    "representatives.loc[representatives[\"name\"] == \"Ashley Hinson\", \"name\"] = \"Ashley Hinson Arenholz\"\n",
    "representatives.loc[representatives[\"name\"] == \"Barry Moore\", \"name\"] = \"Felix Barry Moore\"\n",
    "representatives.loc[representatives[\"name\"] == \"Bill J. Pascrell\", \"name\"] = \"Bill Pascrell\"\n",
    "representatives.loc[representatives[\"name\"] == \"Blake David Moore\", \"name\"] = \"Blake Moore\"\n",
    "representatives.loc[representatives[\"name\"] == \"Bradley Scott Schneider\", \"name\"] = \"Bradley S. Schneider\"\n",
    "representatives.loc[representatives[\"name\"] == \"Brian J. Mast\", \"name\"] = \"Brian Mast\"\n",
    "representatives.loc[representatives[\"name\"] == \"Brian M. Higgins\", \"name\"] = \"Brian Higgins\"\n",
    "representatives.loc[representatives[\"name\"] == \"C. Scott Franklin\", \"name\"] = \"Scott Franklin\"\n",
    "representatives.loc[representatives[\"name\"] == \"Carol D. Miller\", \"name\"] = \"Carol Devine Miller\"\n",
    "representatives.loc[representatives[\"name\"] == \"Charles J. Fleischmann\", \"name\"] = 'Charles J. \"Chuck\" Fleischmann'\n",
    "representatives.loc[representatives[\"name\"] == \"Chris Jacobs\", \"name\"] = \"Christopher L. Jacobs\"\n",
    "representatives.loc[representatives[\"name\"] == \"Dan Crenshaw\", \"name\"] = \"Daniel Crenshaw\"\n",
    "representatives.loc[representatives[\"name\"] == \"David J. Trone\", \"name\"] = \"David Trone\"\n",
    "representatives.loc[representatives[\"name\"] == \"David Rouzer\", \"name\"] = \"David Cheston Rouzer\"\n",
    "representatives.loc[representatives[\"name\"] == \"Deborah Koff Ross\", \"name\"] = \"Deborah K. Ross\"\n",
    "representatives.loc[representatives[\"name\"] == \"Donna E. Shalala\", \"name\"] = \"Donna Shalala\"\n",
    "representatives.loc[representatives[\"name\"] == \"Earl L. Carter\", \"name\"] = \"Earl Leroy Carter\"\n",
    "representatives.loc[representatives[\"name\"] == \"Elaine G. Luria\", \"name\"] = \"Elaine Luria\"\n",
    "representatives.loc[representatives[\"name\"] == \"Frank J. Pallone\", \"name\"] = \"Frank Pallone\"\n",
    "representatives.loc[representatives[\"name\"] == \"Fred Stephen Upton\", \"name\"] = \"Fred Upton\"\n",
    "representatives.loc[representatives[\"name\"] == \"Gilbert Ray Cisneros\", \"name\"] = \"Gilbert Cisneros\"\n",
    "representatives.loc[representatives[\"name\"] == \"Harley Rouda\", \"name\"] = \"Harley E. Rouda\"\n",
    "representatives.loc[representatives[\"name\"] == \"Harold Rogers\", \"name\"] = \"Harold Dallas Rogers\"\n",
    "representatives.loc[representatives[\"name\"] == \"J. French Hill\", \"name\"] = \"James French Hill\"\n",
    "representatives.loc[representatives[\"name\"] == \"Jim Hagedorn\", \"name\"] = \"James Hagedorn\"\n",
    "representatives.loc[representatives[\"name\"] == \"John H. Rutherford\", \"name\"] = \"John Rutherford\"\n",
    "representatives.loc[representatives[\"name\"] == \"John R. Curtis\", \"name\"] = \"John Curtis\"\n",
    "representatives.loc[representatives[\"name\"] == \"Judy M. Chu\", \"name\"] = \"Judy Chu\"\n",
    "representatives.loc[representatives[\"name\"] == \"Kathy Ellen Manning\", \"name\"] = \"Kathy Manning\"\n",
    "representatives.loc[representatives[\"name\"] == \"Kenny Ewell Marchant\", \"name\"] = \"Kenny Marchant\"\n",
    "representatives.loc[representatives[\"name\"] == \"Kevin R. Hern\", \"name\"] = \"Kevin Hern\"\n",
    "representatives.loc[representatives[\"name\"] == \"Linda T. Sánchez\", \"name\"] = \"Linda T. Sanchez\"\n",
    "representatives.loc[representatives[\"name\"] == \"Lloyd A. Doggett\", \"name\"] = \"Lloyd Doggett\"\n",
    "representatives.loc[representatives[\"name\"] == \"Lloyd Smucker\", \"name\"] = \"Lloyd K. Smucker\"\n",
    "representatives.loc[representatives[\"name\"] == \"Michael Guest\", \"name\"] = \"Michael Patrick Guest\"\n",
    "representatives.loc[representatives[\"name\"] == \"Mike Gallagher\", \"name\"] = \"Michael John Gallagher\"\n",
    "representatives.loc[representatives[\"name\"] == \"Mike Garcia\", \"name\"] = \"Michael Garcia\"\n",
    "representatives.loc[representatives[\"name\"] == \"Patrick Edward Fallon\", \"name\"] = \"Patrick Fallon\"\n",
    "representatives.loc[representatives[\"name\"] == \"Pete A. Sessions\", \"name\"] = \"Pete Sessions\"\n",
    "representatives.loc[representatives[\"name\"] == \"Peter James Meijer\", \"name\"] = \"Peter Meijer\"\n",
    "representatives.loc[representatives[\"name\"] == \"Raja Krishnamoorthi\", \"name\"] = \"S. Raja Krishnamoorthi\"\n",
    "representatives.loc[representatives[\"name\"] == \"Rick W. Allen\", \"name\"] = \"Richard W. Allen\"\n",
    "representatives.loc[representatives[\"name\"] == \"Ro Khanna\", \"name\"] = \"Rohit Khanna\"\n",
    "representatives.loc[representatives[\"name\"] == \"Robert C. Scott\", \"name\"] = 'Robert C. \"Bobby\" Scott'\n",
    "representatives.loc[representatives[\"name\"] == \"Roger Marshall\", \"name\"] = \"Roger W. Marshall\"\n",
    "representatives.loc[representatives[\"name\"] == \"Stephanie I. Bice\", \"name\"] = \"Stephanie Bice\"\n",
    "representatives.loc[representatives[\"name\"] == \"Steve J. Chabot\", \"name\"] = \"Steve Chabot\"\n",
    "representatives.loc[representatives[\"name\"] == \"TJ Cox\", \"name\"] = \"TJ John (Tj) Cox\"\n",
    "representatives.loc[representatives[\"name\"] == \"Thomas R. Suozzi\", \"name\"] = \"Thomas Suozzi\"\n",
    "representatives.loc[representatives[\"name\"] == \"Tom O’Halleran\", \"name\"] = \"Tom O'Halleran\"\n",
    "representatives.loc[representatives[\"name\"] == \"Van Taylor\", \"name\"] = \"Nicholas Van Taylor\"\n",
    "\n",
    "representatives.loc[representatives[\"name\"] == \"W. Gregory Steube\", \"name\"] = \"Greg Steube\"\n",
    "representatives.loc[representatives[\"name\"] == \"Mark E. Green\", \"name\"] = \"Mark Green\"\n",
    "representatives.loc[representatives[\"name\"] == \"Jim Banks\", \"name\"] = \"James E. Banks\"\n",
    "representatives.loc[representatives[\"name\"] == \"Donald S. Beyer\", \"name\"] = \"Donald Sternoff Beyer\"\n",
    "\n",
    "house.loc[house[\"representative\"] == \"W. Greg Steube\"] = \"Greg Steube\"\n",
    "house.loc[house[\"representative\"] == \"Neal Patrick Dunn MD, FACS\"] = \"Neal P. Dunn\"\n",
    "house.loc[house[\"representative\"] == \"Neal Patrick MD, FACS Dunn\"] = \"Neal P. Dunn\"\n",
    "house.loc[house[\"representative\"] == \"Neal Patrick MD, Facs Dunn\"] = \"Neal P. Dunn\"\n",
    "house.loc[house[\"representative\"] == \"Mark Dr Green\"] = \"Mark Green\"\n",
    "house.loc[house[\"representative\"] == \"James E Hon Banks\"] = \"James E. Banks\"\n",
    "house.loc[house[\"representative\"] == \"Donald Sternoff Honorable Beyer\"] = \"Donald Sternoff Beyer\""
   ],
   "metadata": {
    "collapsed": false,
    "pycharm": {
     "name": "#%%\n"
    }
   }
  },
  {
   "cell_type": "code",
   "execution_count": 78,
   "outputs": [],
   "source": [
    "def get_rep(name):\n",
    "    return indexed_representatives.loc[name]\n",
    "\n",
    "indexed_representatives = representatives.set_index(\"name\")\n",
    "indexed_representatives[\"name\"] = indexed_representatives.index\n",
    "trading_representatives = house[\"representative\"].apply(get_rep)\n",
    "trading_representatives = trading_representatives.drop_duplicates()\n",
    "trading_representatives = trading_representatives.reset_index()\n",
    "trading_representatives = trading_representatives.drop(\"index\", axis=1)"
   ],
   "metadata": {
    "collapsed": false,
    "pycharm": {
     "name": "#%%\n"
    }
   }
  },
  {
   "cell_type": "markdown",
   "source": [
    "Finally, we can save this data as a CSV file."
   ],
   "metadata": {
    "collapsed": false,
    "pycharm": {
     "name": "#%% md\n"
    }
   }
  },
  {
   "cell_type": "code",
   "execution_count": 80,
   "outputs": [],
   "source": [
    "trading_senators.to_csv(\"data/cleaned/senators.csv\")\n",
    "trading_representatives.to_csv(\"data/cleaned/representatives.csv\")"
   ],
   "metadata": {
    "collapsed": false,
    "pycharm": {
     "name": "#%%\n"
    }
   }
  },
  {
   "cell_type": "markdown",
   "source": [
    "## Stock Data"
   ],
   "metadata": {
    "collapsed": false,
    "pycharm": {
     "name": "#%% md\n"
    }
   }
  },
  {
   "cell_type": "markdown",
   "source": [
    "The `yfinance` API is a Python package that can be used to quickly download data for stock tickers into a `pandas` dataframe. Additional documentation on the API can be found [here](https://pypi.org/project/yfinance/). It provides daily stock prices, with the market opening, close, highs, lows, and volume for the day. We can prune through most of this data though and focus retrieving the datapoints of focus for this."
   ],
   "metadata": {
    "collapsed": false,
    "pycharm": {
     "name": "#%% md\n"
    }
   }
  },
  {
   "cell_type": "markdown",
   "source": [
    "First, we make necessary imports."
   ],
   "metadata": {
    "collapsed": false,
    "pycharm": {
     "name": "#%% md\n"
    }
   }
  },
  {
   "cell_type": "code",
   "execution_count": 4,
   "outputs": [],
   "source": [
    "import yfinance as yf\n",
    "import pandas as pd"
   ],
   "metadata": {
    "collapsed": false,
    "pycharm": {
     "name": "#%%\n"
    }
   }
  },
  {
   "cell_type": "markdown",
   "source": [
    "We can load in the raw Senate and House SEC filings. We will not need the cleaned versions to download the stock data."
   ],
   "metadata": {
    "collapsed": false,
    "pycharm": {
     "name": "#%% md\n"
    }
   }
  },
  {
   "cell_type": "code",
   "execution_count": 2,
   "outputs": [
    {
     "data": {
      "text/plain": "   Unnamed: 0 transaction_date   owner ticker            type  \\\n0           5       2021-08-18   Joint   SSYS        Purchase   \n1           6       2021-08-12   Joint   SSBK        Purchase   \n2          19       2021-08-23  Spouse   LMRK     Sale (Full)   \n3          22       2021-08-11  Spouse     WW        Purchase   \n4          23       2021-08-04  Spouse    ARE  Sale (Partial)   \n\n               amount comment              senator  transaction_year  \\\n0    $1,001 - $15,000      --  Thomas H Tuberville              2021   \n1  $50,001 - $100,000      --  Thomas H Tuberville              2021   \n2    $1,001 - $15,000      --      Thomas R Carper              2021   \n3    $1,001 - $15,000      --      Thomas R Carper              2021   \n4    $1,001 - $15,000      --      Thomas R Carper              2021   \n\n   transaction_month  transaction_day  amount_lower  amount_upper  \n0                  8               18          1001         15000  \n1                  8               12         50001        100000  \n2                  8               23          1001         15000  \n3                  8               11          1001         15000  \n4                  8                4          1001         15000  ",
      "text/html": "<div>\n<style scoped>\n    .dataframe tbody tr th:only-of-type {\n        vertical-align: middle;\n    }\n\n    .dataframe tbody tr th {\n        vertical-align: top;\n    }\n\n    .dataframe thead th {\n        text-align: right;\n    }\n</style>\n<table border=\"1\" class=\"dataframe\">\n  <thead>\n    <tr style=\"text-align: right;\">\n      <th></th>\n      <th>Unnamed: 0</th>\n      <th>transaction_date</th>\n      <th>owner</th>\n      <th>ticker</th>\n      <th>type</th>\n      <th>amount</th>\n      <th>comment</th>\n      <th>senator</th>\n      <th>transaction_year</th>\n      <th>transaction_month</th>\n      <th>transaction_day</th>\n      <th>amount_lower</th>\n      <th>amount_upper</th>\n    </tr>\n  </thead>\n  <tbody>\n    <tr>\n      <th>0</th>\n      <td>5</td>\n      <td>2021-08-18</td>\n      <td>Joint</td>\n      <td>SSYS</td>\n      <td>Purchase</td>\n      <td>$1,001 - $15,000</td>\n      <td>--</td>\n      <td>Thomas H Tuberville</td>\n      <td>2021</td>\n      <td>8</td>\n      <td>18</td>\n      <td>1001</td>\n      <td>15000</td>\n    </tr>\n    <tr>\n      <th>1</th>\n      <td>6</td>\n      <td>2021-08-12</td>\n      <td>Joint</td>\n      <td>SSBK</td>\n      <td>Purchase</td>\n      <td>$50,001 - $100,000</td>\n      <td>--</td>\n      <td>Thomas H Tuberville</td>\n      <td>2021</td>\n      <td>8</td>\n      <td>12</td>\n      <td>50001</td>\n      <td>100000</td>\n    </tr>\n    <tr>\n      <th>2</th>\n      <td>19</td>\n      <td>2021-08-23</td>\n      <td>Spouse</td>\n      <td>LMRK</td>\n      <td>Sale (Full)</td>\n      <td>$1,001 - $15,000</td>\n      <td>--</td>\n      <td>Thomas R Carper</td>\n      <td>2021</td>\n      <td>8</td>\n      <td>23</td>\n      <td>1001</td>\n      <td>15000</td>\n    </tr>\n    <tr>\n      <th>3</th>\n      <td>22</td>\n      <td>2021-08-11</td>\n      <td>Spouse</td>\n      <td>WW</td>\n      <td>Purchase</td>\n      <td>$1,001 - $15,000</td>\n      <td>--</td>\n      <td>Thomas R Carper</td>\n      <td>2021</td>\n      <td>8</td>\n      <td>11</td>\n      <td>1001</td>\n      <td>15000</td>\n    </tr>\n    <tr>\n      <th>4</th>\n      <td>23</td>\n      <td>2021-08-04</td>\n      <td>Spouse</td>\n      <td>ARE</td>\n      <td>Sale (Partial)</td>\n      <td>$1,001 - $15,000</td>\n      <td>--</td>\n      <td>Thomas R Carper</td>\n      <td>2021</td>\n      <td>8</td>\n      <td>4</td>\n      <td>1001</td>\n      <td>15000</td>\n    </tr>\n  </tbody>\n</table>\n</div>"
     },
     "execution_count": 2,
     "metadata": {},
     "output_type": "execute_result"
    }
   ],
   "source": [
    "senator_trades = pd.read_csv(\"data/cleaned/all_transactions_senate.csv\")\n",
    "senator_trades.head()"
   ],
   "metadata": {
    "collapsed": false,
    "pycharm": {
     "name": "#%%\n"
    }
   }
  },
  {
   "cell_type": "code",
   "execution_count": 3,
   "outputs": [
    {
     "data": {
      "text/plain": "   Unnamed: 0 transaction_date  owner ticker          type             amount  \\\n0           0       2021-09-27  joint     BP      purchase   $1,001 - $15,000   \n1           1       2021-09-13  joint    XOM      purchase   $1,001 - $15,000   \n2           2       2021-09-10  joint   ILPT      purchase  $15,001 - $50,000   \n3           3       2021-09-28  joint     PM      purchase  $15,001 - $50,000   \n4           4       2021-09-17   self    BLK  sale_partial   $1,001 - $15,000   \n\n      representative district  cap_gains_over_200_usd  transaction_year  \\\n0      Virginia Foxx     NC05                   False              2021   \n1      Virginia Foxx     NC05                   False              2021   \n2      Virginia Foxx     NC05                   False              2021   \n3      Virginia Foxx     NC05                   False              2021   \n4  Alan S. Lowenthal     CA47                   False              2021   \n\n   transaction_month  transaction_day  amount_lower  amount_upper  \n0                  9               27          1001         15000  \n1                  9               13          1001         15000  \n2                  9               10         15001         50000  \n3                  9               28         15001         50000  \n4                  9               17          1001         15000  ",
      "text/html": "<div>\n<style scoped>\n    .dataframe tbody tr th:only-of-type {\n        vertical-align: middle;\n    }\n\n    .dataframe tbody tr th {\n        vertical-align: top;\n    }\n\n    .dataframe thead th {\n        text-align: right;\n    }\n</style>\n<table border=\"1\" class=\"dataframe\">\n  <thead>\n    <tr style=\"text-align: right;\">\n      <th></th>\n      <th>Unnamed: 0</th>\n      <th>transaction_date</th>\n      <th>owner</th>\n      <th>ticker</th>\n      <th>type</th>\n      <th>amount</th>\n      <th>representative</th>\n      <th>district</th>\n      <th>cap_gains_over_200_usd</th>\n      <th>transaction_year</th>\n      <th>transaction_month</th>\n      <th>transaction_day</th>\n      <th>amount_lower</th>\n      <th>amount_upper</th>\n    </tr>\n  </thead>\n  <tbody>\n    <tr>\n      <th>0</th>\n      <td>0</td>\n      <td>2021-09-27</td>\n      <td>joint</td>\n      <td>BP</td>\n      <td>purchase</td>\n      <td>$1,001 - $15,000</td>\n      <td>Virginia Foxx</td>\n      <td>NC05</td>\n      <td>False</td>\n      <td>2021</td>\n      <td>9</td>\n      <td>27</td>\n      <td>1001</td>\n      <td>15000</td>\n    </tr>\n    <tr>\n      <th>1</th>\n      <td>1</td>\n      <td>2021-09-13</td>\n      <td>joint</td>\n      <td>XOM</td>\n      <td>purchase</td>\n      <td>$1,001 - $15,000</td>\n      <td>Virginia Foxx</td>\n      <td>NC05</td>\n      <td>False</td>\n      <td>2021</td>\n      <td>9</td>\n      <td>13</td>\n      <td>1001</td>\n      <td>15000</td>\n    </tr>\n    <tr>\n      <th>2</th>\n      <td>2</td>\n      <td>2021-09-10</td>\n      <td>joint</td>\n      <td>ILPT</td>\n      <td>purchase</td>\n      <td>$15,001 - $50,000</td>\n      <td>Virginia Foxx</td>\n      <td>NC05</td>\n      <td>False</td>\n      <td>2021</td>\n      <td>9</td>\n      <td>10</td>\n      <td>15001</td>\n      <td>50000</td>\n    </tr>\n    <tr>\n      <th>3</th>\n      <td>3</td>\n      <td>2021-09-28</td>\n      <td>joint</td>\n      <td>PM</td>\n      <td>purchase</td>\n      <td>$15,001 - $50,000</td>\n      <td>Virginia Foxx</td>\n      <td>NC05</td>\n      <td>False</td>\n      <td>2021</td>\n      <td>9</td>\n      <td>28</td>\n      <td>15001</td>\n      <td>50000</td>\n    </tr>\n    <tr>\n      <th>4</th>\n      <td>4</td>\n      <td>2021-09-17</td>\n      <td>self</td>\n      <td>BLK</td>\n      <td>sale_partial</td>\n      <td>$1,001 - $15,000</td>\n      <td>Alan S. Lowenthal</td>\n      <td>CA47</td>\n      <td>False</td>\n      <td>2021</td>\n      <td>9</td>\n      <td>17</td>\n      <td>1001</td>\n      <td>15000</td>\n    </tr>\n  </tbody>\n</table>\n</div>"
     },
     "execution_count": 3,
     "metadata": {},
     "output_type": "execute_result"
    }
   ],
   "source": [
    "house_trades = pd.read_csv(\"data/cleaned/all_transactions_house.csv\")\n",
    "house_trades.head()"
   ],
   "metadata": {
    "collapsed": false,
    "pycharm": {
     "name": "#%%\n"
    }
   }
  },
  {
   "cell_type": "markdown",
   "source": [
    "Now, we will use `yfinance` to download the daily price data for all the stock tickers mentioned in the SEC filings."
   ],
   "metadata": {
    "collapsed": false,
    "pycharm": {
     "name": "#%% md\n"
    }
   }
  },
  {
   "cell_type": "code",
   "execution_count": 6,
   "outputs": [
    {
     "name": "stdout",
     "output_type": "stream",
     "text": [
      "[*********************100%***********************]  909 of 909 completed\n",
      "\n",
      "130 Failed downloads:\n",
      "- LINE: None\n",
      "- CMCSK: None\n",
      "- AVP: No data found, symbol may be delisted\n",
      "- ICON: No data found, symbol may be delisted\n",
      "- DPM: No data found for this date range, symbol may be delisted\n",
      "- MDCA: No data found, symbol may be delisted\n",
      "- UTX: No data found, symbol may be delisted\n",
      "- ACE: None\n",
      "- XLS-WI: None\n",
      "- FNGN: No data found, symbol may be delisted\n",
      "- IPCM: None\n",
      "- AKRX: None\n",
      "- CVC: None\n",
      "- EMC: None\n",
      "- SBUX.SW: No data found, symbol may be delisted\n",
      "- TNGO: None\n",
      "- Q: None\n",
      "- CY: No data found, symbol may be delisted\n",
      "- VIAB: No data found, symbol may be delisted\n",
      "- APC: No data found, symbol may be delisted\n",
      "- TMK: No data found, symbol may be delisted\n",
      "- LLTC: None\n",
      "- CTRL: No data found, symbol may be delisted\n",
      "- KRFT: None\n",
      "- BCR: None\n",
      "- LB: No data found, symbol may be delisted\n",
      "- CRZO: No data found, symbol may be delisted\n",
      "- RDSA: No data found, symbol may be delisted\n",
      "- BPL: No data found, symbol may be delisted\n",
      "- ITC: None\n",
      "- CPGX: None\n",
      "- SQI: None\n",
      "- ANDX: No data found, symbol may be delisted\n",
      "- NGLS: None\n",
      "- GAS: None\n",
      "- PLT: No data found, symbol may be delisted\n",
      "- WFM: None\n",
      "- IRET: No data found, symbol may be delisted\n",
      "- MCC: None\n",
      "- ACT: Data doesn't exist for startDate = 1347508800, endDate = 1629691200\n",
      "- WAGE: No data found, symbol may be delisted\n",
      "- TCP: No data found, symbol may be delisted\n",
      "- STI: No data found, symbol may be delisted\n",
      "- ZAYO: No data found, symbol may be delisted\n",
      "- ESV: No data found, symbol may be delisted\n",
      "- CTAA: No data found, symbol may be delisted\n",
      "- NTRP: No data found, symbol may be delisted\n",
      "- AGU: None\n",
      "- WPX: No data found, symbol may be delisted\n",
      "- TYPE: No data found, symbol may be delisted\n",
      "- AMSG: None\n",
      "- IPHI: None\n",
      "- COH: None\n",
      "- CMN: None\n",
      "- RHT: No data found, symbol may be delisted\n",
      "- BRKB: No data found, symbol may be delisted\n",
      "- LOCK: None\n",
      "- CBS: No data found, symbol may be delisted\n",
      "- VSM: No data found, symbol may be delisted\n",
      "- NGIPX: None\n",
      "- NEE-PC: No data found, symbol may be delisted\n",
      "- XON: No data found, symbol may be delisted\n",
      "- ABCO: None\n",
      "- PLKI: None\n",
      "- BUNT-RP: No data found, symbol may be delisted\n",
      "- HRS: No data found, symbol may be delisted\n",
      "- DNKN: No data found, symbol may be delisted\n",
      "- HF: No data found, symbol may be delisted\n",
      "- ATML: None\n",
      "- ADT.F: No data found, symbol may be delisted\n",
      "- NBL: No data found, symbol may be delisted\n",
      "- EV: No data found, symbol may be delisted\n",
      "- BUNT: None\n",
      "- DWDP: No data found, symbol may be delisted\n",
      "- VSI: No data found, symbol may be delisted\n",
      "- ^MWE: None\n",
      "- DD-PA: No data found, symbol may be delisted\n",
      "- AXLL: None\n",
      "- CAB: None\n",
      "- BIN: None\n",
      "- WTW: No data found, symbol may be delisted\n",
      "- ETE: None\n",
      "- TLLP: None\n",
      "- KORS: None\n",
      "- DGNR: No data found, symbol may be delisted\n",
      "- AGN: No data found, symbol may be delisted\n",
      "- MFRM: None\n",
      "- MYL: No data found, symbol may be delisted\n",
      "- SPY160219P00180000: No data found, symbol may be delisted\n",
      "- WTR: No data found, symbol may be delisted\n",
      "- MSTY.PA: No data found, symbol may be delisted\n",
      "- DLPH: None\n",
      "- REVB: No data found, symbol may be delisted\n",
      "- CLC: None\n",
      "- FDC: No data found, symbol may be delisted\n",
      "- MIK: No data found, symbol may be delisted\n",
      "- CHL: No data found, symbol may be delisted\n",
      "- TUMI: None\n",
      "- HDS: No data found, symbol may be delisted\n",
      "- FL4.SG: No data found, symbol may be delisted\n",
      "- USG: No data found, symbol may be delisted\n",
      "- UN: No data found, symbol may be delisted\n",
      "- RAI: None\n",
      "- CTCT: None\n",
      "- TOT: No data found, symbol may be delisted\n",
      "- UA-C: No data found, symbol may be delisted\n",
      "- BMR: None\n",
      "- MXIM: No data found, symbol may be delisted\n",
      "- HYH: None\n",
      "- 3V64.TI: None\n",
      "- NPSND: None\n",
      "- IBKC: No data found, symbol may be delisted\n",
      "- OKS: None\n",
      "- POT: None\n",
      "- QLIK: None\n",
      "- PCLN: None\n",
      "- DPS: None\n",
      "- DFRG: No data found, symbol may be delisted\n",
      "- EQM: No data found, symbol may be delisted\n",
      "- CELG: No data found, symbol may be delisted\n",
      "- PX: Data doesn't exist for startDate = 1347508800, endDate = 1629691200\n",
      "- CYBX: None\n",
      "- RTN: No data found, symbol may be delisted\n",
      "- ZNGA.SW: No data found, symbol may be delisted\n",
      "- CTL: No data found, symbol may be delisted\n",
      "- LVLT: None\n",
      "- WGP: No data found, symbol may be delisted\n",
      "- PHLD: No data found, symbol may be delisted\n",
      "- ^RGP: None\n",
      "- SGY: None\n"
     ]
    }
   ],
   "source": [
    "senate_stocks = yf.download(\" \".join(senator_trades[\"ticker\"].unique()),\n",
    "                            start=senator_trades[\"transaction_date\"].min(),\n",
    "                            end=senator_trades[\"transaction_date\"].max())"
   ],
   "metadata": {
    "collapsed": false,
    "pycharm": {
     "name": "#%%\n"
    }
   }
  },
  {
   "cell_type": "code",
   "execution_count": 19,
   "outputs": [
    {
     "name": "stdout",
     "output_type": "stream",
     "text": [
      "[*********************100%***********************]  1560 of 1560 completed\n",
      "\n",
      "108 Failed downloads:\n",
      "- HS: None\n",
      "- APPL: None\n",
      "- BOA: None\n",
      "- FSKR: No data found, symbol may be delisted\n",
      "- BXS$A: No data found, symbol may be delisted\n",
      "- PFPT: No data found, symbol may be delisted\n",
      "- DCMYY: No data found, symbol may be delisted\n",
      "- FLIR: No data found, symbol may be delisted\n",
      "- EBJ: None\n",
      "- SPKE: No data found, symbol may be delisted\n",
      "- BROADCOM: No data found, symbol may be delisted\n",
      "- AMTD: No data found, symbol may be delisted\n",
      "- TFDXX: None\n",
      "- WPX: No data found, symbol may be delisted\n",
      "- BAC$K: No data found, symbol may be delisted\n",
      "- CBS: No data found, symbol may be delisted\n",
      "- DNKN: No data found, symbol may be delisted\n",
      "- LBDAV: No data found, symbol may be delisted\n",
      "- WAIR: No data found, symbol may be delisted\n",
      "- RP: No data found, symbol may be delisted\n",
      "- MTSC: No data found, symbol may be delisted\n",
      "- PRSP: No data found, symbol may be delisted\n",
      "- BRK.B: No data found, symbol may be delisted\n",
      "- SNOXX: None\n",
      "- AOBC: No data found, symbol may be delisted\n",
      "- CTL: No data found, symbol may be delisted\n",
      "- INTL: No data found, symbol may be delisted\n",
      "- RBS: No data found, symbol may be delisted\n",
      "- SVCBY: No data found, symbol may be delisted\n",
      "- MZOR: No data found for this date range, symbol may be delisted\n",
      "- JPM$G: No data found, symbol may be delisted\n",
      "- FMCMF: None\n",
      "- APC: No data found, symbol may be delisted\n",
      "- VSLR: No data found, symbol may be delisted\n",
      "- GWPH: No data found, symbol may be delisted\n",
      "- AZSEY: No data found, symbol may be delisted\n",
      "- CCXX: No data found, symbol may be delisted\n",
      "- BRK.A: No data found, symbol may be delisted\n",
      "- WFC$V: No data found, symbol may be delisted\n",
      "- BRK: None\n",
      "- CCLAY: No data found, symbol may be delisted\n",
      "- JIH: No data found, symbol may be delisted\n",
      "- CWEN.A: No data found, symbol may be delisted\n",
      "- QTS: No data found, symbol may be delisted\n",
      "- NTXFY: No data found, symbol may be delisted\n",
      "- SNE: No data found, symbol may be delisted\n",
      "- ALFY: No data found, symbol may be delisted\n",
      "- WYND: No data found, symbol may be delisted\n",
      "- CCC: No data found, symbol may be delisted\n",
      "- GLIBA: No data found, symbol may be delisted\n",
      "- WORK: No data found, symbol may be delisted\n",
      "- LCRX: No data found, symbol may be delisted\n",
      "- DEACU: No data found, symbol may be delisted\n",
      "- RTN: No data found, symbol may be delisted\n",
      "- GEAGY: No data found, symbol may be delisted\n",
      "- SERV: No data found, symbol may be delisted\n",
      "- LPT: No data found, symbol may be delisted\n",
      "- WMGI: No data found, symbol may be delisted\n",
      "- TMK: No data found, symbol may be delisted\n",
      "- TPCO: No data found, symbol may be delisted\n",
      "- PEGI: No data found, symbol may be delisted\n",
      "- ALXN: No data found, symbol may be delisted\n",
      "- UHG: None\n",
      "- LTD: None\n",
      "- PS: No data found, symbol may be delisted\n",
      "- GRA: No data found, symbol may be delisted\n",
      "- STAY: No data found, symbol may be delisted\n",
      "- APHA: None\n",
      "- TDDXX: None\n",
      "- FTTGLX: None\n",
      "- HDS: No data found, symbol may be delisted\n",
      "- TOT: No data found, symbol may be delisted\n",
      "- CLNC: No data found, symbol may be delisted\n",
      "- SKVKY: No data found, symbol may be delisted\n",
      "- GMLP: No data found, symbol may be delisted\n",
      "- FII: No data found, symbol may be delisted\n",
      "- WDR: No data found, symbol may be delisted\n",
      "- QCHR: No data found, symbol may be delisted\n",
      "- PRAH: No data found, symbol may be delisted\n",
      "- ZOOM: No data found, symbol may be delisted\n",
      "- ORLT: No data found, symbol may be delisted\n",
      "- BHI: None\n",
      "- EQUIX: No data found, symbol may be delisted\n",
      "- UTX: No data found, symbol may be delisted\n",
      "- DESY: No data found, symbol may be delisted\n",
      "- WLTL: No data found, symbol may be delisted\n",
      "- CMD: No data found, symbol may be delisted\n",
      "- HZD: No data found, symbol may be delisted\n",
      "- LB: No data found, symbol may be delisted\n",
      "- FXM: None\n",
      "- VRTU: No data found, symbol may be delisted\n",
      "- PLT: No data found, symbol may be delisted\n",
      "- NBLX: No data found, symbol may be delisted\n",
      "- BRKB: No data found, symbol may be delisted\n",
      "- VTRA: No data found, symbol may be delisted\n",
      "- RF$A: No data found, symbol may be delisted\n",
      "- DWDP: No data found, symbol may be delisted\n",
      "- SZEVY: No data found, symbol may be delisted\n",
      "- INC.: No data found, symbol may be delisted\n",
      "- AGN: No data found, symbol may be delisted\n",
      "- SPYS: No data found, symbol may be delisted\n",
      "- CATM: No data found, symbol may be delisted\n",
      "- CHL: No data found, symbol may be delisted\n",
      "- RDS.B: None\n",
      "- RDS.A: No data found, symbol may be delisted\n",
      "- TMUSR: No data found, symbol may be delisted\n",
      "- BAMXY: None\n",
      "- MSBHY: No data found, symbol may be delisted\n"
     ]
    }
   ],
   "source": [
    "house_stocks = yf.download(\" \".join(house_trades[\"ticker\"].unique()),\n",
    "                            start=house_trades[\"transaction_date\"].min(),\n",
    "                            end=house_trades[\"transaction_date\"].max())"
   ],
   "metadata": {
    "collapsed": false,
    "pycharm": {
     "name": "#%%\n"
    }
   }
  },
  {
   "cell_type": "code",
   "execution_count": 7,
   "outputs": [
    {
     "data": {
      "text/plain": "           Adj Close                                                          \\\n             0QZI.IL 3V64.TI          A         AA      AAGIY        AAL AAN   \nDate                                                                           \n2012-09-13       NaN     NaN  25.213678  21.965357  13.293386  10.605844 NaN   \n2012-09-14       NaN     NaN  26.100559  22.444349  13.489270   9.927068 NaN   \n2012-09-17       NaN     NaN  26.034864  21.851311  13.311191   9.955351 NaN   \n2012-09-18       NaN     NaN  25.982307  21.646027  13.355713   9.719666 NaN   \n2012-09-19       NaN     NaN  26.199104  21.600407  13.222154  10.341875 NaN   \n\n                                            ... Volume                  \\\n                AAON       AAPL        AAT  ...   YUMC ZAYO        ZBH   \nDate                                        ...                          \n2012-09-13  7.993820  21.064934  21.613337  ...    NaN  NaN  1377800.0   \n2012-09-14  8.430821  21.320934  21.832767  ...    NaN  NaN  1864800.0   \n2012-09-17  8.228810  21.583092  21.942476  ...    NaN  NaN   746200.0   \n2012-09-18  8.418453  21.648787  21.848440  ...    NaN  NaN  1231800.0   \n2012-09-19  8.348368  21.654642  21.550652  ...    NaN  NaN  1628200.0   \n\n                                                            \n                ZIOP  ZM        ZNGA ZNGA.SW ZTS ^MWE ^RGP  \nDate                                                        \n2012-09-13  518500.0 NaN  13112100.0     NaN NaN  NaN  NaN  \n2012-09-14  502500.0 NaN  31370600.0     NaN NaN  NaN  NaN  \n2012-09-17  568900.0 NaN  11066300.0     NaN NaN  NaN  NaN  \n2012-09-18  855600.0 NaN   9374100.0     NaN NaN  NaN  NaN  \n2012-09-19  569500.0 NaN  18435400.0     NaN NaN  NaN  NaN  \n\n[5 rows x 5454 columns]",
      "text/html": "<div>\n<style scoped>\n    .dataframe tbody tr th:only-of-type {\n        vertical-align: middle;\n    }\n\n    .dataframe tbody tr th {\n        vertical-align: top;\n    }\n\n    .dataframe thead tr th {\n        text-align: left;\n    }\n\n    .dataframe thead tr:last-of-type th {\n        text-align: right;\n    }\n</style>\n<table border=\"1\" class=\"dataframe\">\n  <thead>\n    <tr>\n      <th></th>\n      <th colspan=\"10\" halign=\"left\">Adj Close</th>\n      <th>...</th>\n      <th colspan=\"10\" halign=\"left\">Volume</th>\n    </tr>\n    <tr>\n      <th></th>\n      <th>0QZI.IL</th>\n      <th>3V64.TI</th>\n      <th>A</th>\n      <th>AA</th>\n      <th>AAGIY</th>\n      <th>AAL</th>\n      <th>AAN</th>\n      <th>AAON</th>\n      <th>AAPL</th>\n      <th>AAT</th>\n      <th>...</th>\n      <th>YUMC</th>\n      <th>ZAYO</th>\n      <th>ZBH</th>\n      <th>ZIOP</th>\n      <th>ZM</th>\n      <th>ZNGA</th>\n      <th>ZNGA.SW</th>\n      <th>ZTS</th>\n      <th>^MWE</th>\n      <th>^RGP</th>\n    </tr>\n    <tr>\n      <th>Date</th>\n      <th></th>\n      <th></th>\n      <th></th>\n      <th></th>\n      <th></th>\n      <th></th>\n      <th></th>\n      <th></th>\n      <th></th>\n      <th></th>\n      <th></th>\n      <th></th>\n      <th></th>\n      <th></th>\n      <th></th>\n      <th></th>\n      <th></th>\n      <th></th>\n      <th></th>\n      <th></th>\n      <th></th>\n    </tr>\n  </thead>\n  <tbody>\n    <tr>\n      <th>2012-09-13</th>\n      <td>NaN</td>\n      <td>NaN</td>\n      <td>25.213678</td>\n      <td>21.965357</td>\n      <td>13.293386</td>\n      <td>10.605844</td>\n      <td>NaN</td>\n      <td>7.993820</td>\n      <td>21.064934</td>\n      <td>21.613337</td>\n      <td>...</td>\n      <td>NaN</td>\n      <td>NaN</td>\n      <td>1377800.0</td>\n      <td>518500.0</td>\n      <td>NaN</td>\n      <td>13112100.0</td>\n      <td>NaN</td>\n      <td>NaN</td>\n      <td>NaN</td>\n      <td>NaN</td>\n    </tr>\n    <tr>\n      <th>2012-09-14</th>\n      <td>NaN</td>\n      <td>NaN</td>\n      <td>26.100559</td>\n      <td>22.444349</td>\n      <td>13.489270</td>\n      <td>9.927068</td>\n      <td>NaN</td>\n      <td>8.430821</td>\n      <td>21.320934</td>\n      <td>21.832767</td>\n      <td>...</td>\n      <td>NaN</td>\n      <td>NaN</td>\n      <td>1864800.0</td>\n      <td>502500.0</td>\n      <td>NaN</td>\n      <td>31370600.0</td>\n      <td>NaN</td>\n      <td>NaN</td>\n      <td>NaN</td>\n      <td>NaN</td>\n    </tr>\n    <tr>\n      <th>2012-09-17</th>\n      <td>NaN</td>\n      <td>NaN</td>\n      <td>26.034864</td>\n      <td>21.851311</td>\n      <td>13.311191</td>\n      <td>9.955351</td>\n      <td>NaN</td>\n      <td>8.228810</td>\n      <td>21.583092</td>\n      <td>21.942476</td>\n      <td>...</td>\n      <td>NaN</td>\n      <td>NaN</td>\n      <td>746200.0</td>\n      <td>568900.0</td>\n      <td>NaN</td>\n      <td>11066300.0</td>\n      <td>NaN</td>\n      <td>NaN</td>\n      <td>NaN</td>\n      <td>NaN</td>\n    </tr>\n    <tr>\n      <th>2012-09-18</th>\n      <td>NaN</td>\n      <td>NaN</td>\n      <td>25.982307</td>\n      <td>21.646027</td>\n      <td>13.355713</td>\n      <td>9.719666</td>\n      <td>NaN</td>\n      <td>8.418453</td>\n      <td>21.648787</td>\n      <td>21.848440</td>\n      <td>...</td>\n      <td>NaN</td>\n      <td>NaN</td>\n      <td>1231800.0</td>\n      <td>855600.0</td>\n      <td>NaN</td>\n      <td>9374100.0</td>\n      <td>NaN</td>\n      <td>NaN</td>\n      <td>NaN</td>\n      <td>NaN</td>\n    </tr>\n    <tr>\n      <th>2012-09-19</th>\n      <td>NaN</td>\n      <td>NaN</td>\n      <td>26.199104</td>\n      <td>21.600407</td>\n      <td>13.222154</td>\n      <td>10.341875</td>\n      <td>NaN</td>\n      <td>8.348368</td>\n      <td>21.654642</td>\n      <td>21.550652</td>\n      <td>...</td>\n      <td>NaN</td>\n      <td>NaN</td>\n      <td>1628200.0</td>\n      <td>569500.0</td>\n      <td>NaN</td>\n      <td>18435400.0</td>\n      <td>NaN</td>\n      <td>NaN</td>\n      <td>NaN</td>\n      <td>NaN</td>\n    </tr>\n  </tbody>\n</table>\n<p>5 rows × 5454 columns</p>\n</div>"
     },
     "execution_count": 7,
     "metadata": {},
     "output_type": "execute_result"
    }
   ],
   "source": [
    "senate_stocks.head()"
   ],
   "metadata": {
    "collapsed": false,
    "pycharm": {
     "name": "#%%\n"
    }
   }
  },
  {
   "cell_type": "code",
   "execution_count": 20,
   "outputs": [
    {
     "data": {
      "text/plain": "                     Adj Close                                                 \\\n                        35G.SG         AA      AAGIY     AAIGF        AAL AAN   \nDate                                                                            \n2018-12-27 00:00:00  22.208635  27.100815  31.333757  6.931739  31.530161 NaN   \n2018-12-28 00:00:00  22.305658  26.542034  31.728800  7.130778  31.323498 NaN   \n2018-12-29 00:00:00        NaN        NaN        NaN       NaN        NaN NaN   \n2018-12-30 00:00:00        NaN        NaN        NaN       NaN        NaN NaN   \n2018-12-31 00:00:00        NaN  26.522078  31.680626  7.165393  31.599045 NaN   \n\n                                                            ...     Volume  \\\n                          AAPL AAVMY         AB      ABALX  ...       YUMC   \nDate                                                        ...              \n2018-12-27 00:00:00  38.008892   NaN  20.222670  22.453785  ...   994100.0   \n2018-12-28 00:00:00  38.028370   NaN  20.812433  22.481007  ...  1199900.0   \n2018-12-29 00:00:00        NaN   NaN        NaN        NaN  ...        NaN   \n2018-12-30 00:00:00        NaN   NaN        NaN        NaN  ...        NaN   \n2018-12-31 00:00:00  38.395920   NaN  21.200434  22.589870  ...   795700.0   \n\n                                                                               \\\n                             Z        ZBH      ZBRA        ZEN       ZION  ZM   \nDate                                                                            \n2018-12-27 00:00:00  2511000.0  1578900.0  504500.0  1119800.0  2534200.0 NaN   \n2018-12-28 00:00:00  1541600.0  1860000.0  344800.0   953800.0  2558600.0 NaN   \n2018-12-29 00:00:00        NaN        NaN       NaN        NaN        NaN NaN   \n2018-12-30 00:00:00        NaN        NaN       NaN        NaN        NaN NaN   \n2018-12-31 00:00:00  1882400.0  1389700.0  409100.0   921100.0  2575600.0 NaN   \n\n                                                 \n                           ZNGA ZOOM        ZTS  \nDate                                             \n2018-12-27 00:00:00  14644000.0  NaN  2244700.0  \n2018-12-28 00:00:00   7666400.0  NaN  1797300.0  \n2018-12-29 00:00:00         NaN  NaN        NaN  \n2018-12-30 00:00:00         NaN  NaN        NaN  \n2018-12-31 00:00:00  10814800.0  NaN  1485200.0  \n\n[5 rows x 9360 columns]",
      "text/html": "<div>\n<style scoped>\n    .dataframe tbody tr th:only-of-type {\n        vertical-align: middle;\n    }\n\n    .dataframe tbody tr th {\n        vertical-align: top;\n    }\n\n    .dataframe thead tr th {\n        text-align: left;\n    }\n\n    .dataframe thead tr:last-of-type th {\n        text-align: right;\n    }\n</style>\n<table border=\"1\" class=\"dataframe\">\n  <thead>\n    <tr>\n      <th></th>\n      <th colspan=\"10\" halign=\"left\">Adj Close</th>\n      <th>...</th>\n      <th colspan=\"10\" halign=\"left\">Volume</th>\n    </tr>\n    <tr>\n      <th></th>\n      <th>35G.SG</th>\n      <th>AA</th>\n      <th>AAGIY</th>\n      <th>AAIGF</th>\n      <th>AAL</th>\n      <th>AAN</th>\n      <th>AAPL</th>\n      <th>AAVMY</th>\n      <th>AB</th>\n      <th>ABALX</th>\n      <th>...</th>\n      <th>YUMC</th>\n      <th>Z</th>\n      <th>ZBH</th>\n      <th>ZBRA</th>\n      <th>ZEN</th>\n      <th>ZION</th>\n      <th>ZM</th>\n      <th>ZNGA</th>\n      <th>ZOOM</th>\n      <th>ZTS</th>\n    </tr>\n    <tr>\n      <th>Date</th>\n      <th></th>\n      <th></th>\n      <th></th>\n      <th></th>\n      <th></th>\n      <th></th>\n      <th></th>\n      <th></th>\n      <th></th>\n      <th></th>\n      <th></th>\n      <th></th>\n      <th></th>\n      <th></th>\n      <th></th>\n      <th></th>\n      <th></th>\n      <th></th>\n      <th></th>\n      <th></th>\n      <th></th>\n    </tr>\n  </thead>\n  <tbody>\n    <tr>\n      <th>2018-12-27 00:00:00</th>\n      <td>22.208635</td>\n      <td>27.100815</td>\n      <td>31.333757</td>\n      <td>6.931739</td>\n      <td>31.530161</td>\n      <td>NaN</td>\n      <td>38.008892</td>\n      <td>NaN</td>\n      <td>20.222670</td>\n      <td>22.453785</td>\n      <td>...</td>\n      <td>994100.0</td>\n      <td>2511000.0</td>\n      <td>1578900.0</td>\n      <td>504500.0</td>\n      <td>1119800.0</td>\n      <td>2534200.0</td>\n      <td>NaN</td>\n      <td>14644000.0</td>\n      <td>NaN</td>\n      <td>2244700.0</td>\n    </tr>\n    <tr>\n      <th>2018-12-28 00:00:00</th>\n      <td>22.305658</td>\n      <td>26.542034</td>\n      <td>31.728800</td>\n      <td>7.130778</td>\n      <td>31.323498</td>\n      <td>NaN</td>\n      <td>38.028370</td>\n      <td>NaN</td>\n      <td>20.812433</td>\n      <td>22.481007</td>\n      <td>...</td>\n      <td>1199900.0</td>\n      <td>1541600.0</td>\n      <td>1860000.0</td>\n      <td>344800.0</td>\n      <td>953800.0</td>\n      <td>2558600.0</td>\n      <td>NaN</td>\n      <td>7666400.0</td>\n      <td>NaN</td>\n      <td>1797300.0</td>\n    </tr>\n    <tr>\n      <th>2018-12-29 00:00:00</th>\n      <td>NaN</td>\n      <td>NaN</td>\n      <td>NaN</td>\n      <td>NaN</td>\n      <td>NaN</td>\n      <td>NaN</td>\n      <td>NaN</td>\n      <td>NaN</td>\n      <td>NaN</td>\n      <td>NaN</td>\n      <td>...</td>\n      <td>NaN</td>\n      <td>NaN</td>\n      <td>NaN</td>\n      <td>NaN</td>\n      <td>NaN</td>\n      <td>NaN</td>\n      <td>NaN</td>\n      <td>NaN</td>\n      <td>NaN</td>\n      <td>NaN</td>\n    </tr>\n    <tr>\n      <th>2018-12-30 00:00:00</th>\n      <td>NaN</td>\n      <td>NaN</td>\n      <td>NaN</td>\n      <td>NaN</td>\n      <td>NaN</td>\n      <td>NaN</td>\n      <td>NaN</td>\n      <td>NaN</td>\n      <td>NaN</td>\n      <td>NaN</td>\n      <td>...</td>\n      <td>NaN</td>\n      <td>NaN</td>\n      <td>NaN</td>\n      <td>NaN</td>\n      <td>NaN</td>\n      <td>NaN</td>\n      <td>NaN</td>\n      <td>NaN</td>\n      <td>NaN</td>\n      <td>NaN</td>\n    </tr>\n    <tr>\n      <th>2018-12-31 00:00:00</th>\n      <td>NaN</td>\n      <td>26.522078</td>\n      <td>31.680626</td>\n      <td>7.165393</td>\n      <td>31.599045</td>\n      <td>NaN</td>\n      <td>38.395920</td>\n      <td>NaN</td>\n      <td>21.200434</td>\n      <td>22.589870</td>\n      <td>...</td>\n      <td>795700.0</td>\n      <td>1882400.0</td>\n      <td>1389700.0</td>\n      <td>409100.0</td>\n      <td>921100.0</td>\n      <td>2575600.0</td>\n      <td>NaN</td>\n      <td>10814800.0</td>\n      <td>NaN</td>\n      <td>1485200.0</td>\n    </tr>\n  </tbody>\n</table>\n<p>5 rows × 9360 columns</p>\n</div>"
     },
     "execution_count": 20,
     "metadata": {},
     "output_type": "execute_result"
    }
   ],
   "source": [
    "house_stocks.head()"
   ],
   "metadata": {
    "collapsed": false,
    "pycharm": {
     "name": "#%%\n"
    }
   }
  },
  {
   "cell_type": "markdown",
   "source": [
    "We can see that a few stock tickers were not found. This can be due to many different things such as previously public companies going private, bankruptcy, mergers and acquisitions, and other market events. We can ignore these datapoints, we still have a lot of data to work with.\n",
    "\n",
    "There are also a lot of `NaN` values in the dataset. This makese sense though, as not all companies might have been publically listed in the timeframe given. This is not a problem in our dataset though, members of congress cannot trade stocks that do not exist yet, so this should not affect our analysis at all."
   ],
   "metadata": {
    "collapsed": false,
    "pycharm": {
     "name": "#%% md\n"
    }
   }
  },
  {
   "cell_type": "markdown",
   "source": [
    "We will remove irrelevant columns in the data to only keep what we need."
   ],
   "metadata": {
    "collapsed": false,
    "pycharm": {
     "name": "#%% md\n"
    }
   }
  },
  {
   "cell_type": "code",
   "execution_count": 8,
   "outputs": [
    {
     "data": {
      "text/plain": "             Close                                                            \\\n           0QZI.IL 3V64.TI          A         AA  AAGIY    AAL AAN      AAON   \nDate                                                                           \n2012-09-13     NaN     NaN  27.453505  23.140890  14.93  11.25 NaN  8.617778   \n2012-09-14     NaN     NaN  28.419170  23.645519  15.15  10.53 NaN  9.088889   \n2012-09-17     NaN     NaN  28.347639  23.020741  14.95  10.56 NaN  8.871111   \n2012-09-18     NaN     NaN  28.290415  22.804470  15.00  10.31 NaN  9.075556   \n2012-09-19     NaN     NaN  28.526466  22.756411  14.85  10.97 NaN  9.000000   \n\n                                  ... Volume                                \\\n                 AAPL        AAT  ...   YUMC ZAYO        ZBH      ZIOP  ZM   \nDate                              ...                                        \n2012-09-13  24.392143  27.580000  ...    NaN  NaN  1377800.0  518500.0 NaN   \n2012-09-14  24.688572  27.860001  ...    NaN  NaN  1864800.0  502500.0 NaN   \n2012-09-17  24.992144  28.000000  ...    NaN  NaN   746200.0  568900.0 NaN   \n2012-09-18  25.068214  27.879999  ...    NaN  NaN  1231800.0  855600.0 NaN   \n2012-09-19  25.075001  27.500000  ...    NaN  NaN  1628200.0  569500.0 NaN   \n\n                                              \n                  ZNGA ZNGA.SW ZTS ^MWE ^RGP  \nDate                                          \n2012-09-13  13112100.0     NaN NaN  NaN  NaN  \n2012-09-14  31370600.0     NaN NaN  NaN  NaN  \n2012-09-17  11066300.0     NaN NaN  NaN  NaN  \n2012-09-18   9374100.0     NaN NaN  NaN  NaN  \n2012-09-19  18435400.0     NaN NaN  NaN  NaN  \n\n[5 rows x 1818 columns]",
      "text/html": "<div>\n<style scoped>\n    .dataframe tbody tr th:only-of-type {\n        vertical-align: middle;\n    }\n\n    .dataframe tbody tr th {\n        vertical-align: top;\n    }\n\n    .dataframe thead tr th {\n        text-align: left;\n    }\n\n    .dataframe thead tr:last-of-type th {\n        text-align: right;\n    }\n</style>\n<table border=\"1\" class=\"dataframe\">\n  <thead>\n    <tr>\n      <th></th>\n      <th colspan=\"10\" halign=\"left\">Close</th>\n      <th>...</th>\n      <th colspan=\"10\" halign=\"left\">Volume</th>\n    </tr>\n    <tr>\n      <th></th>\n      <th>0QZI.IL</th>\n      <th>3V64.TI</th>\n      <th>A</th>\n      <th>AA</th>\n      <th>AAGIY</th>\n      <th>AAL</th>\n      <th>AAN</th>\n      <th>AAON</th>\n      <th>AAPL</th>\n      <th>AAT</th>\n      <th>...</th>\n      <th>YUMC</th>\n      <th>ZAYO</th>\n      <th>ZBH</th>\n      <th>ZIOP</th>\n      <th>ZM</th>\n      <th>ZNGA</th>\n      <th>ZNGA.SW</th>\n      <th>ZTS</th>\n      <th>^MWE</th>\n      <th>^RGP</th>\n    </tr>\n    <tr>\n      <th>Date</th>\n      <th></th>\n      <th></th>\n      <th></th>\n      <th></th>\n      <th></th>\n      <th></th>\n      <th></th>\n      <th></th>\n      <th></th>\n      <th></th>\n      <th></th>\n      <th></th>\n      <th></th>\n      <th></th>\n      <th></th>\n      <th></th>\n      <th></th>\n      <th></th>\n      <th></th>\n      <th></th>\n      <th></th>\n    </tr>\n  </thead>\n  <tbody>\n    <tr>\n      <th>2012-09-13</th>\n      <td>NaN</td>\n      <td>NaN</td>\n      <td>27.453505</td>\n      <td>23.140890</td>\n      <td>14.93</td>\n      <td>11.25</td>\n      <td>NaN</td>\n      <td>8.617778</td>\n      <td>24.392143</td>\n      <td>27.580000</td>\n      <td>...</td>\n      <td>NaN</td>\n      <td>NaN</td>\n      <td>1377800.0</td>\n      <td>518500.0</td>\n      <td>NaN</td>\n      <td>13112100.0</td>\n      <td>NaN</td>\n      <td>NaN</td>\n      <td>NaN</td>\n      <td>NaN</td>\n    </tr>\n    <tr>\n      <th>2012-09-14</th>\n      <td>NaN</td>\n      <td>NaN</td>\n      <td>28.419170</td>\n      <td>23.645519</td>\n      <td>15.15</td>\n      <td>10.53</td>\n      <td>NaN</td>\n      <td>9.088889</td>\n      <td>24.688572</td>\n      <td>27.860001</td>\n      <td>...</td>\n      <td>NaN</td>\n      <td>NaN</td>\n      <td>1864800.0</td>\n      <td>502500.0</td>\n      <td>NaN</td>\n      <td>31370600.0</td>\n      <td>NaN</td>\n      <td>NaN</td>\n      <td>NaN</td>\n      <td>NaN</td>\n    </tr>\n    <tr>\n      <th>2012-09-17</th>\n      <td>NaN</td>\n      <td>NaN</td>\n      <td>28.347639</td>\n      <td>23.020741</td>\n      <td>14.95</td>\n      <td>10.56</td>\n      <td>NaN</td>\n      <td>8.871111</td>\n      <td>24.992144</td>\n      <td>28.000000</td>\n      <td>...</td>\n      <td>NaN</td>\n      <td>NaN</td>\n      <td>746200.0</td>\n      <td>568900.0</td>\n      <td>NaN</td>\n      <td>11066300.0</td>\n      <td>NaN</td>\n      <td>NaN</td>\n      <td>NaN</td>\n      <td>NaN</td>\n    </tr>\n    <tr>\n      <th>2012-09-18</th>\n      <td>NaN</td>\n      <td>NaN</td>\n      <td>28.290415</td>\n      <td>22.804470</td>\n      <td>15.00</td>\n      <td>10.31</td>\n      <td>NaN</td>\n      <td>9.075556</td>\n      <td>25.068214</td>\n      <td>27.879999</td>\n      <td>...</td>\n      <td>NaN</td>\n      <td>NaN</td>\n      <td>1231800.0</td>\n      <td>855600.0</td>\n      <td>NaN</td>\n      <td>9374100.0</td>\n      <td>NaN</td>\n      <td>NaN</td>\n      <td>NaN</td>\n      <td>NaN</td>\n    </tr>\n    <tr>\n      <th>2012-09-19</th>\n      <td>NaN</td>\n      <td>NaN</td>\n      <td>28.526466</td>\n      <td>22.756411</td>\n      <td>14.85</td>\n      <td>10.97</td>\n      <td>NaN</td>\n      <td>9.000000</td>\n      <td>25.075001</td>\n      <td>27.500000</td>\n      <td>...</td>\n      <td>NaN</td>\n      <td>NaN</td>\n      <td>1628200.0</td>\n      <td>569500.0</td>\n      <td>NaN</td>\n      <td>18435400.0</td>\n      <td>NaN</td>\n      <td>NaN</td>\n      <td>NaN</td>\n      <td>NaN</td>\n    </tr>\n  </tbody>\n</table>\n<p>5 rows × 1818 columns</p>\n</div>"
     },
     "execution_count": 8,
     "metadata": {},
     "output_type": "execute_result"
    }
   ],
   "source": [
    "senate_stocks = senate_stocks.drop([\"Open\", \"Adj Close\", \"Low\", \"High\"], axis=1)\n",
    "senate_stocks.head()"
   ],
   "metadata": {
    "collapsed": false,
    "pycharm": {
     "name": "#%%\n"
    }
   }
  },
  {
   "cell_type": "code",
   "execution_count": 21,
   "outputs": [
    {
     "data": {
      "text/plain": "                         Close                                         \\\n                        35G.SG     AA      AAGIY AAIGF        AAL AAN   \nDate                                                                    \n2018-12-27 00:00:00  22.889999  27.16  32.520000  8.01  32.040001 NaN   \n2018-12-28 00:00:00  22.990000  26.60  32.930000  8.24  31.830000 NaN   \n2018-12-29 00:00:00        NaN    NaN        NaN   NaN        NaN NaN   \n2018-12-30 00:00:00        NaN    NaN        NaN   NaN        NaN NaN   \n2018-12-31 00:00:00        NaN  26.58  32.880001  8.28  32.110001 NaN   \n\n                                                            ...     Volume  \\\n                          AAPL AAVMY         AB      ABALX  ...       YUMC   \nDate                                                        ...              \n2018-12-27 00:00:00  39.037498   NaN  26.059999  24.750000  ...   994100.0   \n2018-12-28 00:00:00  39.057499   NaN  26.820000  24.780001  ...  1199900.0   \n2018-12-29 00:00:00        NaN   NaN        NaN        NaN  ...        NaN   \n2018-12-30 00:00:00        NaN   NaN        NaN        NaN  ...        NaN   \n2018-12-31 00:00:00  39.435001   NaN  27.320000  24.900000  ...   795700.0   \n\n                                                                               \\\n                             Z        ZBH      ZBRA        ZEN       ZION  ZM   \nDate                                                                            \n2018-12-27 00:00:00  2511000.0  1578900.0  504500.0  1119800.0  2534200.0 NaN   \n2018-12-28 00:00:00  1541600.0  1860000.0  344800.0   953800.0  2558600.0 NaN   \n2018-12-29 00:00:00        NaN        NaN       NaN        NaN        NaN NaN   \n2018-12-30 00:00:00        NaN        NaN       NaN        NaN        NaN NaN   \n2018-12-31 00:00:00  1882400.0  1389700.0  409100.0   921100.0  2575600.0 NaN   \n\n                                                 \n                           ZNGA ZOOM        ZTS  \nDate                                             \n2018-12-27 00:00:00  14644000.0  NaN  2244700.0  \n2018-12-28 00:00:00   7666400.0  NaN  1797300.0  \n2018-12-29 00:00:00         NaN  NaN        NaN  \n2018-12-30 00:00:00         NaN  NaN        NaN  \n2018-12-31 00:00:00  10814800.0  NaN  1485200.0  \n\n[5 rows x 3120 columns]",
      "text/html": "<div>\n<style scoped>\n    .dataframe tbody tr th:only-of-type {\n        vertical-align: middle;\n    }\n\n    .dataframe tbody tr th {\n        vertical-align: top;\n    }\n\n    .dataframe thead tr th {\n        text-align: left;\n    }\n\n    .dataframe thead tr:last-of-type th {\n        text-align: right;\n    }\n</style>\n<table border=\"1\" class=\"dataframe\">\n  <thead>\n    <tr>\n      <th></th>\n      <th colspan=\"10\" halign=\"left\">Close</th>\n      <th>...</th>\n      <th colspan=\"10\" halign=\"left\">Volume</th>\n    </tr>\n    <tr>\n      <th></th>\n      <th>35G.SG</th>\n      <th>AA</th>\n      <th>AAGIY</th>\n      <th>AAIGF</th>\n      <th>AAL</th>\n      <th>AAN</th>\n      <th>AAPL</th>\n      <th>AAVMY</th>\n      <th>AB</th>\n      <th>ABALX</th>\n      <th>...</th>\n      <th>YUMC</th>\n      <th>Z</th>\n      <th>ZBH</th>\n      <th>ZBRA</th>\n      <th>ZEN</th>\n      <th>ZION</th>\n      <th>ZM</th>\n      <th>ZNGA</th>\n      <th>ZOOM</th>\n      <th>ZTS</th>\n    </tr>\n    <tr>\n      <th>Date</th>\n      <th></th>\n      <th></th>\n      <th></th>\n      <th></th>\n      <th></th>\n      <th></th>\n      <th></th>\n      <th></th>\n      <th></th>\n      <th></th>\n      <th></th>\n      <th></th>\n      <th></th>\n      <th></th>\n      <th></th>\n      <th></th>\n      <th></th>\n      <th></th>\n      <th></th>\n      <th></th>\n      <th></th>\n    </tr>\n  </thead>\n  <tbody>\n    <tr>\n      <th>2018-12-27 00:00:00</th>\n      <td>22.889999</td>\n      <td>27.16</td>\n      <td>32.520000</td>\n      <td>8.01</td>\n      <td>32.040001</td>\n      <td>NaN</td>\n      <td>39.037498</td>\n      <td>NaN</td>\n      <td>26.059999</td>\n      <td>24.750000</td>\n      <td>...</td>\n      <td>994100.0</td>\n      <td>2511000.0</td>\n      <td>1578900.0</td>\n      <td>504500.0</td>\n      <td>1119800.0</td>\n      <td>2534200.0</td>\n      <td>NaN</td>\n      <td>14644000.0</td>\n      <td>NaN</td>\n      <td>2244700.0</td>\n    </tr>\n    <tr>\n      <th>2018-12-28 00:00:00</th>\n      <td>22.990000</td>\n      <td>26.60</td>\n      <td>32.930000</td>\n      <td>8.24</td>\n      <td>31.830000</td>\n      <td>NaN</td>\n      <td>39.057499</td>\n      <td>NaN</td>\n      <td>26.820000</td>\n      <td>24.780001</td>\n      <td>...</td>\n      <td>1199900.0</td>\n      <td>1541600.0</td>\n      <td>1860000.0</td>\n      <td>344800.0</td>\n      <td>953800.0</td>\n      <td>2558600.0</td>\n      <td>NaN</td>\n      <td>7666400.0</td>\n      <td>NaN</td>\n      <td>1797300.0</td>\n    </tr>\n    <tr>\n      <th>2018-12-29 00:00:00</th>\n      <td>NaN</td>\n      <td>NaN</td>\n      <td>NaN</td>\n      <td>NaN</td>\n      <td>NaN</td>\n      <td>NaN</td>\n      <td>NaN</td>\n      <td>NaN</td>\n      <td>NaN</td>\n      <td>NaN</td>\n      <td>...</td>\n      <td>NaN</td>\n      <td>NaN</td>\n      <td>NaN</td>\n      <td>NaN</td>\n      <td>NaN</td>\n      <td>NaN</td>\n      <td>NaN</td>\n      <td>NaN</td>\n      <td>NaN</td>\n      <td>NaN</td>\n    </tr>\n    <tr>\n      <th>2018-12-30 00:00:00</th>\n      <td>NaN</td>\n      <td>NaN</td>\n      <td>NaN</td>\n      <td>NaN</td>\n      <td>NaN</td>\n      <td>NaN</td>\n      <td>NaN</td>\n      <td>NaN</td>\n      <td>NaN</td>\n      <td>NaN</td>\n      <td>...</td>\n      <td>NaN</td>\n      <td>NaN</td>\n      <td>NaN</td>\n      <td>NaN</td>\n      <td>NaN</td>\n      <td>NaN</td>\n      <td>NaN</td>\n      <td>NaN</td>\n      <td>NaN</td>\n      <td>NaN</td>\n    </tr>\n    <tr>\n      <th>2018-12-31 00:00:00</th>\n      <td>NaN</td>\n      <td>26.58</td>\n      <td>32.880001</td>\n      <td>8.28</td>\n      <td>32.110001</td>\n      <td>NaN</td>\n      <td>39.435001</td>\n      <td>NaN</td>\n      <td>27.320000</td>\n      <td>24.900000</td>\n      <td>...</td>\n      <td>795700.0</td>\n      <td>1882400.0</td>\n      <td>1389700.0</td>\n      <td>409100.0</td>\n      <td>921100.0</td>\n      <td>2575600.0</td>\n      <td>NaN</td>\n      <td>10814800.0</td>\n      <td>NaN</td>\n      <td>1485200.0</td>\n    </tr>\n  </tbody>\n</table>\n<p>5 rows × 3120 columns</p>\n</div>"
     },
     "execution_count": 21,
     "metadata": {},
     "output_type": "execute_result"
    }
   ],
   "source": [
    "house_stocks = house_stocks.drop([\"Open\", \"Adj Close\", \"Low\", \"High\"], axis=1)\n",
    "house_stocks.head()"
   ],
   "metadata": {
    "collapsed": false,
    "pycharm": {
     "name": "#%%\n"
    }
   }
  },
  {
   "cell_type": "markdown",
   "source": [
    "Now that we have this data, we can save it to a CSV file for use in our analyses, and in other data-cleaning proceses."
   ],
   "metadata": {
    "collapsed": false,
    "pycharm": {
     "name": "#%% md\n"
    }
   }
  },
  {
   "cell_type": "code",
   "execution_count": 23,
   "outputs": [],
   "source": [
    "senate_stocks.to_csv(\"data/cleaned/senate_stocks.csv\")\n",
    "house_stocks.to_csv(\"data/cleaned/house_stocks.csv\")"
   ],
   "metadata": {
    "collapsed": false,
    "pycharm": {
     "name": "#%%\n"
    }
   }
  },
  {
   "cell_type": "markdown",
   "source": [
    "We will also download data from the S&P 500, an index fund that tracks the prices of the largest companies in the New York Stock Exchange. It is a common benchmark for market performance. Using the ticker `SPY`, we can download the prices for the index fund over the range of our SEC filings."
   ],
   "metadata": {
    "collapsed": false,
    "pycharm": {
     "name": "#%% md\n"
    }
   }
  },
  {
   "cell_type": "code",
   "execution_count": 25,
   "outputs": [
    {
     "name": "stdout",
     "output_type": "stream",
     "text": [
      "[*********************100%***********************]  1 of 1 completed\n"
     ]
    },
    {
     "data": {
      "text/plain": "                  Open        High         Low       Close   Adj Close  \\\nDate                                                                     \n2012-09-13  144.369995  147.039993  143.990005  146.589996  123.021996   \n2012-09-14  146.880005  148.110001  146.759995  147.240005  123.567558   \n2012-09-17  146.940002  147.190002  146.369995  146.740005  123.147896   \n2012-09-18  146.490005  146.809998  146.250000  146.619995  123.047195   \n2012-09-19  146.789993  147.169998  146.410004  146.699997  123.114342   \n\n               Volume  \nDate                   \n2012-09-13  225470200  \n2012-09-14  169777000  \n2012-09-17  119427800  \n2012-09-18   98326600  \n2012-09-19  128318300  ",
      "text/html": "<div>\n<style scoped>\n    .dataframe tbody tr th:only-of-type {\n        vertical-align: middle;\n    }\n\n    .dataframe tbody tr th {\n        vertical-align: top;\n    }\n\n    .dataframe thead th {\n        text-align: right;\n    }\n</style>\n<table border=\"1\" class=\"dataframe\">\n  <thead>\n    <tr style=\"text-align: right;\">\n      <th></th>\n      <th>Open</th>\n      <th>High</th>\n      <th>Low</th>\n      <th>Close</th>\n      <th>Adj Close</th>\n      <th>Volume</th>\n    </tr>\n    <tr>\n      <th>Date</th>\n      <th></th>\n      <th></th>\n      <th></th>\n      <th></th>\n      <th></th>\n      <th></th>\n    </tr>\n  </thead>\n  <tbody>\n    <tr>\n      <th>2012-09-13</th>\n      <td>144.369995</td>\n      <td>147.039993</td>\n      <td>143.990005</td>\n      <td>146.589996</td>\n      <td>123.021996</td>\n      <td>225470200</td>\n    </tr>\n    <tr>\n      <th>2012-09-14</th>\n      <td>146.880005</td>\n      <td>148.110001</td>\n      <td>146.759995</td>\n      <td>147.240005</td>\n      <td>123.567558</td>\n      <td>169777000</td>\n    </tr>\n    <tr>\n      <th>2012-09-17</th>\n      <td>146.940002</td>\n      <td>147.190002</td>\n      <td>146.369995</td>\n      <td>146.740005</td>\n      <td>123.147896</td>\n      <td>119427800</td>\n    </tr>\n    <tr>\n      <th>2012-09-18</th>\n      <td>146.490005</td>\n      <td>146.809998</td>\n      <td>146.250000</td>\n      <td>146.619995</td>\n      <td>123.047195</td>\n      <td>98326600</td>\n    </tr>\n    <tr>\n      <th>2012-09-19</th>\n      <td>146.789993</td>\n      <td>147.169998</td>\n      <td>146.410004</td>\n      <td>146.699997</td>\n      <td>123.114342</td>\n      <td>128318300</td>\n    </tr>\n  </tbody>\n</table>\n</div>"
     },
     "execution_count": 25,
     "metadata": {},
     "output_type": "execute_result"
    }
   ],
   "source": [
    "spy = yf.download(\"spy\",\n",
    "            min(senator_trades[\"transaction_date\"].min(), house_trades[\"transaction_date\"].min()),\n",
    "            max(senator_trades[\"transaction_date\"].max(), house_trades[\"transaction_date\"].max())\n",
    "            )\n",
    "spy.head()"
   ],
   "metadata": {
    "collapsed": false,
    "pycharm": {
     "name": "#%%\n"
    }
   }
  },
  {
   "cell_type": "code",
   "execution_count": 27,
   "outputs": [
    {
     "data": {
      "text/plain": "                 Close     Volume\nDate                             \n2012-09-13  146.589996  225470200\n2012-09-14  147.240005  169777000\n2012-09-17  146.740005  119427800\n2012-09-18  146.619995   98326600\n2012-09-19  146.699997  128318300\n...                ...        ...\n2021-09-23  443.179993   76396000\n2021-09-24  443.910004   62094800\n2021-09-27  442.640015   61371100\n2021-09-28  433.720001  130436300\n2021-09-29  434.450012   82329200\n\n[2276 rows x 2 columns]",
      "text/html": "<div>\n<style scoped>\n    .dataframe tbody tr th:only-of-type {\n        vertical-align: middle;\n    }\n\n    .dataframe tbody tr th {\n        vertical-align: top;\n    }\n\n    .dataframe thead th {\n        text-align: right;\n    }\n</style>\n<table border=\"1\" class=\"dataframe\">\n  <thead>\n    <tr style=\"text-align: right;\">\n      <th></th>\n      <th>Close</th>\n      <th>Volume</th>\n    </tr>\n    <tr>\n      <th>Date</th>\n      <th></th>\n      <th></th>\n    </tr>\n  </thead>\n  <tbody>\n    <tr>\n      <th>2012-09-13</th>\n      <td>146.589996</td>\n      <td>225470200</td>\n    </tr>\n    <tr>\n      <th>2012-09-14</th>\n      <td>147.240005</td>\n      <td>169777000</td>\n    </tr>\n    <tr>\n      <th>2012-09-17</th>\n      <td>146.740005</td>\n      <td>119427800</td>\n    </tr>\n    <tr>\n      <th>2012-09-18</th>\n      <td>146.619995</td>\n      <td>98326600</td>\n    </tr>\n    <tr>\n      <th>2012-09-19</th>\n      <td>146.699997</td>\n      <td>128318300</td>\n    </tr>\n    <tr>\n      <th>...</th>\n      <td>...</td>\n      <td>...</td>\n    </tr>\n    <tr>\n      <th>2021-09-23</th>\n      <td>443.179993</td>\n      <td>76396000</td>\n    </tr>\n    <tr>\n      <th>2021-09-24</th>\n      <td>443.910004</td>\n      <td>62094800</td>\n    </tr>\n    <tr>\n      <th>2021-09-27</th>\n      <td>442.640015</td>\n      <td>61371100</td>\n    </tr>\n    <tr>\n      <th>2021-09-28</th>\n      <td>433.720001</td>\n      <td>130436300</td>\n    </tr>\n    <tr>\n      <th>2021-09-29</th>\n      <td>434.450012</td>\n      <td>82329200</td>\n    </tr>\n  </tbody>\n</table>\n<p>2276 rows × 2 columns</p>\n</div>"
     },
     "execution_count": 27,
     "metadata": {},
     "output_type": "execute_result"
    }
   ],
   "source": [
    "spy.drop([\"Open\", \"Adj Close\", \"Low\", \"High\"], axis=1)"
   ],
   "metadata": {
    "collapsed": false,
    "pycharm": {
     "name": "#%%\n"
    }
   }
  },
  {
   "cell_type": "code",
   "source": [
    "spy.to_csv(\"data/cleaned/spy.csv\")\n"
   ],
   "metadata": {
    "collapsed": false,
    "pycharm": {
     "name": "#%%\n"
    }
   },
   "execution_count": 28,
   "outputs": []
  },
  {
   "cell_type": "markdown",
   "source": [
    "## Senate SEC Filings"
   ],
   "metadata": {
    "collapsed": false
   }
  },
  {
   "cell_type": "markdown",
   "source": [
    "The main dataset of SEC filings is pulled from [Senate Stock Watcher](https://senatestockwatcher.com/api) which provides an API for following Senator's stock trades. By law, officeholding members of the government have to disclose every stock trade that they make to the Securities and Exchange Commission. By following these trades, we hope to find some interesting results. The site offers a realtime API that updates every time an SEC filing is made. However, it also offers historical data in a downloadable CSV format, which is what we are using for our analysis."
   ],
   "metadata": {
    "collapsed": false
   }
  },
  {
   "cell_type": "markdown",
   "source": [
    "We will first load the dataset into a dataframe. We will also be referencing data from the downloaded stock data."
   ],
   "metadata": {
    "collapsed": false,
    "pycharm": {
     "name": "#%% md\n"
    }
   }
  },
  {
   "cell_type": "code",
   "execution_count": 97,
   "outputs": [
    {
     "data": {
      "text/plain": "  transaction_date  owner ticker  \\\n0       01/16/2021  Joint     --   \n1       08/30/2021  Joint   CALX   \n2       08/30/2021  Joint   ECOM   \n3       08/30/2021  Joint   ECOM   \n4       08/27/2021  Joint   CALX   \n\n                                   asset_description        asset_type  \\\n0  Fitso (Exchanged) <br> Zomato (Received) <div ...  Non-Public Stock   \n1  Calix, Inc Common Stock <div class=\"text-muted...      Stock Option   \n2  ChannelAdvisor Corporation Common Stock <div c...      Stock Option   \n3  ChannelAdvisor Corporation Common Stock <div c...      Stock Option   \n4  Calix, Inc Common Stock <div class=\"text-muted...      Stock Option   \n\n          type            amount  \\\n0     Exchange  $1,001 - $15,000   \n1  Sale (Full)  $1,001 - $15,000   \n2  Sale (Full)  $1,001 - $15,000   \n3  Sale (Full)  $1,001 - $15,000   \n4     Purchase  $1,001 - $15,000   \n\n                                             comment              senator  \\\n0  Exchange of stock due to merger. Asset is unde...     Patrick J Toomey   \n1                                                 --  Thomas H Tuberville   \n2                                                 --  Thomas H Tuberville   \n3                                                 --  Thomas H Tuberville   \n4                                                 --  Thomas H Tuberville   \n\n                                            ptr_link disclosure_date  \n0  https://efdsearch.senate.gov/search/view/ptr/4...      09/09/2021  \n1  https://efdsearch.senate.gov/search/view/ptr/d...      09/08/2021  \n2  https://efdsearch.senate.gov/search/view/ptr/d...      09/08/2021  \n3  https://efdsearch.senate.gov/search/view/ptr/d...      09/08/2021  \n4  https://efdsearch.senate.gov/search/view/ptr/d...      09/08/2021  ",
      "text/html": "<div>\n<style scoped>\n    .dataframe tbody tr th:only-of-type {\n        vertical-align: middle;\n    }\n\n    .dataframe tbody tr th {\n        vertical-align: top;\n    }\n\n    .dataframe thead th {\n        text-align: right;\n    }\n</style>\n<table border=\"1\" class=\"dataframe\">\n  <thead>\n    <tr style=\"text-align: right;\">\n      <th></th>\n      <th>transaction_date</th>\n      <th>owner</th>\n      <th>ticker</th>\n      <th>asset_description</th>\n      <th>asset_type</th>\n      <th>type</th>\n      <th>amount</th>\n      <th>comment</th>\n      <th>senator</th>\n      <th>ptr_link</th>\n      <th>disclosure_date</th>\n    </tr>\n  </thead>\n  <tbody>\n    <tr>\n      <th>0</th>\n      <td>01/16/2021</td>\n      <td>Joint</td>\n      <td>--</td>\n      <td>Fitso (Exchanged) &lt;br&gt; Zomato (Received) &lt;div ...</td>\n      <td>Non-Public Stock</td>\n      <td>Exchange</td>\n      <td>$1,001 - $15,000</td>\n      <td>Exchange of stock due to merger. Asset is unde...</td>\n      <td>Patrick J Toomey</td>\n      <td>https://efdsearch.senate.gov/search/view/ptr/4...</td>\n      <td>09/09/2021</td>\n    </tr>\n    <tr>\n      <th>1</th>\n      <td>08/30/2021</td>\n      <td>Joint</td>\n      <td>CALX</td>\n      <td>Calix, Inc Common Stock &lt;div class=\"text-muted...</td>\n      <td>Stock Option</td>\n      <td>Sale (Full)</td>\n      <td>$1,001 - $15,000</td>\n      <td>--</td>\n      <td>Thomas H Tuberville</td>\n      <td>https://efdsearch.senate.gov/search/view/ptr/d...</td>\n      <td>09/08/2021</td>\n    </tr>\n    <tr>\n      <th>2</th>\n      <td>08/30/2021</td>\n      <td>Joint</td>\n      <td>ECOM</td>\n      <td>ChannelAdvisor Corporation Common Stock &lt;div c...</td>\n      <td>Stock Option</td>\n      <td>Sale (Full)</td>\n      <td>$1,001 - $15,000</td>\n      <td>--</td>\n      <td>Thomas H Tuberville</td>\n      <td>https://efdsearch.senate.gov/search/view/ptr/d...</td>\n      <td>09/08/2021</td>\n    </tr>\n    <tr>\n      <th>3</th>\n      <td>08/30/2021</td>\n      <td>Joint</td>\n      <td>ECOM</td>\n      <td>ChannelAdvisor Corporation Common Stock &lt;div c...</td>\n      <td>Stock Option</td>\n      <td>Sale (Full)</td>\n      <td>$1,001 - $15,000</td>\n      <td>--</td>\n      <td>Thomas H Tuberville</td>\n      <td>https://efdsearch.senate.gov/search/view/ptr/d...</td>\n      <td>09/08/2021</td>\n    </tr>\n    <tr>\n      <th>4</th>\n      <td>08/27/2021</td>\n      <td>Joint</td>\n      <td>CALX</td>\n      <td>Calix, Inc Common Stock &lt;div class=\"text-muted...</td>\n      <td>Stock Option</td>\n      <td>Purchase</td>\n      <td>$1,001 - $15,000</td>\n      <td>--</td>\n      <td>Thomas H Tuberville</td>\n      <td>https://efdsearch.senate.gov/search/view/ptr/d...</td>\n      <td>09/08/2021</td>\n    </tr>\n  </tbody>\n</table>\n</div>"
     },
     "execution_count": 97,
     "metadata": {},
     "output_type": "execute_result"
    }
   ],
   "source": [
    "senate = pd.read_csv(\"data/raw/all_transactions.csv\")\n",
    "senate.head()"
   ],
   "metadata": {
    "collapsed": false,
    "pycharm": {
     "name": "#%%\n"
    }
   }
  },
  {
   "cell_type": "markdown",
   "source": [
    "We can drop rows with bad data, and columns with unnecessary data."
   ],
   "metadata": {
    "collapsed": false,
    "pycharm": {
     "name": "#%% md\n"
    }
   }
  },
  {
   "cell_type": "code",
   "execution_count": 98,
   "outputs": [],
   "source": [
    "senate = senate.loc[senate.asset_type == \"Stock\"].loc[senate.ticker != \"--\"].dropna()\n",
    "senate = senate.drop(columns=[\"ptr_link\", \"asset_type\", \"disclosure_date\", \"asset_description\"])"
   ],
   "metadata": {
    "collapsed": false,
    "pycharm": {
     "name": "#%%\n"
    }
   }
  },
  {
   "cell_type": "markdown",
   "source": [
    "We now focus on making sure the data is of the correct type. We will convert the dates into proper date objects, and convert the magnitude of the trades into numerical upper and lower bounds."
   ],
   "metadata": {
    "collapsed": false,
    "pycharm": {
     "name": "#%% md\n"
    }
   }
  },
  {
   "cell_type": "code",
   "execution_count": 99,
   "outputs": [
    {
     "data": {
      "text/plain": "   transaction_date   owner ticker            type              amount  \\\n19       2021-08-23  Spouse   LMRK     Sale (Full)    $1,001 - $15,000   \n5        2021-08-18   Joint   SSYS        Purchase    $1,001 - $15,000   \n6        2021-08-12   Joint   SSBK        Purchase  $50,001 - $100,000   \n22       2021-08-11  Spouse     WW        Purchase    $1,001 - $15,000   \n23       2021-08-04  Spouse    ARE  Sale (Partial)    $1,001 - $15,000   \n\n   comment              senator  transaction_year  transaction_month  \\\n19      --      Thomas R Carper              2021                  8   \n5       --  Thomas H Tuberville              2021                  8   \n6       --  Thomas H Tuberville              2021                  8   \n22      --      Thomas R Carper              2021                  8   \n23      --      Thomas R Carper              2021                  8   \n\n    transaction_day  \n19               23  \n5                18  \n6                12  \n22               11  \n23                4  ",
      "text/html": "<div>\n<style scoped>\n    .dataframe tbody tr th:only-of-type {\n        vertical-align: middle;\n    }\n\n    .dataframe tbody tr th {\n        vertical-align: top;\n    }\n\n    .dataframe thead th {\n        text-align: right;\n    }\n</style>\n<table border=\"1\" class=\"dataframe\">\n  <thead>\n    <tr style=\"text-align: right;\">\n      <th></th>\n      <th>transaction_date</th>\n      <th>owner</th>\n      <th>ticker</th>\n      <th>type</th>\n      <th>amount</th>\n      <th>comment</th>\n      <th>senator</th>\n      <th>transaction_year</th>\n      <th>transaction_month</th>\n      <th>transaction_day</th>\n    </tr>\n  </thead>\n  <tbody>\n    <tr>\n      <th>19</th>\n      <td>2021-08-23</td>\n      <td>Spouse</td>\n      <td>LMRK</td>\n      <td>Sale (Full)</td>\n      <td>$1,001 - $15,000</td>\n      <td>--</td>\n      <td>Thomas R Carper</td>\n      <td>2021</td>\n      <td>8</td>\n      <td>23</td>\n    </tr>\n    <tr>\n      <th>5</th>\n      <td>2021-08-18</td>\n      <td>Joint</td>\n      <td>SSYS</td>\n      <td>Purchase</td>\n      <td>$1,001 - $15,000</td>\n      <td>--</td>\n      <td>Thomas H Tuberville</td>\n      <td>2021</td>\n      <td>8</td>\n      <td>18</td>\n    </tr>\n    <tr>\n      <th>6</th>\n      <td>2021-08-12</td>\n      <td>Joint</td>\n      <td>SSBK</td>\n      <td>Purchase</td>\n      <td>$50,001 - $100,000</td>\n      <td>--</td>\n      <td>Thomas H Tuberville</td>\n      <td>2021</td>\n      <td>8</td>\n      <td>12</td>\n    </tr>\n    <tr>\n      <th>22</th>\n      <td>2021-08-11</td>\n      <td>Spouse</td>\n      <td>WW</td>\n      <td>Purchase</td>\n      <td>$1,001 - $15,000</td>\n      <td>--</td>\n      <td>Thomas R Carper</td>\n      <td>2021</td>\n      <td>8</td>\n      <td>11</td>\n    </tr>\n    <tr>\n      <th>23</th>\n      <td>2021-08-04</td>\n      <td>Spouse</td>\n      <td>ARE</td>\n      <td>Sale (Partial)</td>\n      <td>$1,001 - $15,000</td>\n      <td>--</td>\n      <td>Thomas R Carper</td>\n      <td>2021</td>\n      <td>8</td>\n      <td>4</td>\n    </tr>\n  </tbody>\n</table>\n</div>"
     },
     "execution_count": 99,
     "metadata": {},
     "output_type": "execute_result"
    }
   ],
   "source": [
    "senate[\"transaction_date\"] = pd.to_datetime(senate[\"transaction_date\"])\n",
    "senate['transaction_year'] = pd.DatetimeIndex(senate['transaction_date']).year\n",
    "senate['transaction_month'] = pd.DatetimeIndex(senate['transaction_date']).month\n",
    "senate['transaction_day'] = pd.DatetimeIndex(senate['transaction_date']).day\n",
    "senate.sort_values(\"transaction_date\", ascending=False).head()"
   ],
   "metadata": {
    "collapsed": false,
    "pycharm": {
     "name": "#%%\n"
    }
   }
  },
  {
   "cell_type": "code",
   "execution_count": 100,
   "outputs": [],
   "source": [
    "senate[\"amount_lower\"] = pd.to_numeric(\n",
    "    senate[\"amount\"]\n",
    "        .replace(\"Over \", \"\", regex=True)\n",
    "        .replace(\"\\$\", \"\", regex=True)\n",
    "        .replace(\" -.*$\", \"\", regex=True)\n",
    "        .replace(\",\", \"\", regex=True)\n",
    ")\n",
    "\n",
    "senate[\"amount_upper\"] = pd.to_numeric(\n",
    "    senate[\"amount\"]\n",
    "        .replace(\"Over \", \"\", regex=True)\n",
    "        .replace(\".* - \", \"\", regex=True)\n",
    "        .replace(\"\\$\", \"\", regex=True)\n",
    "        .replace(\",\", \"\", regex=True)\n",
    ")"
   ],
   "metadata": {
    "collapsed": false,
    "pycharm": {
     "name": "#%%\n"
    }
   }
  },
  {
   "cell_type": "markdown",
   "source": [
    "Now that the data is clean, we can parse through it to isolate traded stocks, and attach a value to them.\n",
    "\n",
    "The SEC filings only give us assorted buying and selling events of stock. Here, we parse through the buys and sells and try to match the buy events to sell events to try to assign dates and values to these investments, which we can then use to make much more insightful analyses with the data."
   ],
   "metadata": {
    "collapsed": false,
    "pycharm": {
     "name": "#%% md\n"
    }
   }
  },
  {
   "cell_type": "code",
   "execution_count": 101,
   "outputs": [
    {
     "name": "stdout",
     "output_type": "stream",
     "text": [
      "Timestamp('2020-02-22 00:00:00')\n",
      "Timestamp('2020-02-22 00:00:00')\n",
      "Timestamp('2019-01-19 00:00:00')\n"
     ]
    }
   ],
   "source": [
    "trades = []\n",
    "for senator in senate[\"senator\"].unique():\n",
    "    data = senate[senate[\"senator\"] == senator]\n",
    "    data = data.sort_values(\"transaction_date\", ascending=True)\n",
    "\n",
    "    temp = {}\n",
    "\n",
    "    for row in data.itertuples():\n",
    "        weight = (row.amount_lower + row.amount_upper) / 2\n",
    "        if row.type == \"Sale (Full)\":\n",
    "            if row.ticker in temp and row.ticker in senate_stocks[\"Close\"]:\n",
    "                try:\n",
    "                    temp[row.ticker][\"sell_date\"] = row.transaction_date\n",
    "                    temp[row.ticker][\"weight\"] = weight\n",
    "                    buy = senate_stocks[\"Close\"][row.ticker].loc[temp[row.ticker][\"transaction_date\"]]\n",
    "                    sell = senate_stocks[\"Close\"][row.ticker].loc[row.transaction_date]\n",
    "                    temp[row.ticker][\"gain\"] = (sell - buy) / buy\n",
    "                    trades.append(temp[row.ticker])\n",
    "                    temp.pop(row.ticker)\n",
    "                except KeyError as e:\n",
    "                    print(e)\n",
    "        elif row.type == \"Sale (Partial)\":\n",
    "            if row.ticker in temp:\n",
    "                try:\n",
    "                    temp[row.ticker][\"sell_date\"] = row.transaction_date\n",
    "                    temp[row.ticker][\"weight\"] = weight\n",
    "                    buy = senate_stocks[\"Close\"][row.ticker].loc[temp[row.ticker][\"transaction_date\"]]\n",
    "                    sell = senate_stocks[\"Close\"][row.ticker].loc[row.transaction_date]\n",
    "                    temp[row.ticker][\"gain\"] = (sell - buy) / buy\n",
    "                    trades.append(temp[row.ticker])\n",
    "                except KeyError as e:\n",
    "                    print(e)\n",
    "        elif row.type == \"Purchase\":\n",
    "            row_dict = {}\n",
    "            for field in senate.columns:\n",
    "                row_dict[field] = getattr(row, field)\n",
    "            temp[row.ticker] = row_dict\n",
    "\n",
    "senator_trades = pd.DataFrame(trades)"
   ],
   "metadata": {
    "collapsed": false,
    "pycharm": {
     "name": "#%%\n"
    }
   }
  },
  {
   "cell_type": "markdown",
   "source": [
    "Now that we have the a percentage gain/loss attached to each trade, we can run proper analyses on the trades made. We can save this data to a CSV."
   ],
   "metadata": {
    "collapsed": false,
    "pycharm": {
     "name": "#%% md\n"
    }
   }
  },
  {
   "cell_type": "code",
   "execution_count": null,
   "outputs": [],
   "source": [
    "senator_trades.to_csv(\"data/cleaned/senator_trades.csv\")s"
   ],
   "metadata": {
    "collapsed": false,
    "pycharm": {
     "name": "#%%\n"
    }
   }
  },
  {
   "cell_type": "markdown",
   "source": [
    "## House of Representatives SEC Filings"
   ],
   "metadata": {
    "collapsed": false
   }
  },
  {
   "cell_type": "markdown",
   "source": [
    "Similar to the data for the Senate, members of the House are also required to disclose their stock market trades while holding office. This data was pulled from a similar online service to the Senate data: [House Stock Watcher](https://housestockwatcher.com). They also provide an API for following trades, along with a downloadable CSV format for historical data. This CSV is what we used for our analysis."
   ],
   "metadata": {
    "collapsed": false
   }
  },
  {
   "cell_type": "markdown",
   "source": [
    "We treat this data essentially the same as we did with the data for the Senate. First, load the raw dataset itself."
   ],
   "metadata": {
    "collapsed": false,
    "pycharm": {
     "name": "#%% md\n"
    }
   }
  },
  {
   "cell_type": "code",
   "execution_count": 102,
   "outputs": [
    {
     "data": {
      "text/plain": "   disclosure_year disclosure_date transaction_date  owner ticker  \\\n0             2021      10/04/2021       2021-09-27  joint     BP   \n1             2021      10/04/2021       2021-09-13  joint    XOM   \n2             2021      10/04/2021       2021-09-10  joint   ILPT   \n3             2021      10/04/2021       2021-09-28  joint     PM   \n4             2021      10/04/2021       2021-09-17   self    BLK   \n\n                                   asset_description          type  \\\n0                                             BP plc      purchase   \n1                            Exxon Mobil Corporation      purchase   \n2  Industrial Logistics Properties Trust - Common...      purchase   \n3                   Phillip Morris International Inc      purchase   \n4                                      BlackRock Inc  sale_partial   \n\n              amount          representative district  \\\n0   $1,001 - $15,000      Hon. Virginia Foxx     NC05   \n1   $1,001 - $15,000      Hon. Virginia Foxx     NC05   \n2  $15,001 - $50,000      Hon. Virginia Foxx     NC05   \n3  $15,001 - $50,000      Hon. Virginia Foxx     NC05   \n4   $1,001 - $15,000  Hon. Alan S. Lowenthal     CA47   \n\n                                            ptr_link  cap_gains_over_200_usd  \n0  https://disclosures-clerk.house.gov/public_dis...                   False  \n1  https://disclosures-clerk.house.gov/public_dis...                   False  \n2  https://disclosures-clerk.house.gov/public_dis...                   False  \n3  https://disclosures-clerk.house.gov/public_dis...                   False  \n4  https://disclosures-clerk.house.gov/public_dis...                   False  ",
      "text/html": "<div>\n<style scoped>\n    .dataframe tbody tr th:only-of-type {\n        vertical-align: middle;\n    }\n\n    .dataframe tbody tr th {\n        vertical-align: top;\n    }\n\n    .dataframe thead th {\n        text-align: right;\n    }\n</style>\n<table border=\"1\" class=\"dataframe\">\n  <thead>\n    <tr style=\"text-align: right;\">\n      <th></th>\n      <th>disclosure_year</th>\n      <th>disclosure_date</th>\n      <th>transaction_date</th>\n      <th>owner</th>\n      <th>ticker</th>\n      <th>asset_description</th>\n      <th>type</th>\n      <th>amount</th>\n      <th>representative</th>\n      <th>district</th>\n      <th>ptr_link</th>\n      <th>cap_gains_over_200_usd</th>\n    </tr>\n  </thead>\n  <tbody>\n    <tr>\n      <th>0</th>\n      <td>2021</td>\n      <td>10/04/2021</td>\n      <td>2021-09-27</td>\n      <td>joint</td>\n      <td>BP</td>\n      <td>BP plc</td>\n      <td>purchase</td>\n      <td>$1,001 - $15,000</td>\n      <td>Hon. Virginia Foxx</td>\n      <td>NC05</td>\n      <td>https://disclosures-clerk.house.gov/public_dis...</td>\n      <td>False</td>\n    </tr>\n    <tr>\n      <th>1</th>\n      <td>2021</td>\n      <td>10/04/2021</td>\n      <td>2021-09-13</td>\n      <td>joint</td>\n      <td>XOM</td>\n      <td>Exxon Mobil Corporation</td>\n      <td>purchase</td>\n      <td>$1,001 - $15,000</td>\n      <td>Hon. Virginia Foxx</td>\n      <td>NC05</td>\n      <td>https://disclosures-clerk.house.gov/public_dis...</td>\n      <td>False</td>\n    </tr>\n    <tr>\n      <th>2</th>\n      <td>2021</td>\n      <td>10/04/2021</td>\n      <td>2021-09-10</td>\n      <td>joint</td>\n      <td>ILPT</td>\n      <td>Industrial Logistics Properties Trust - Common...</td>\n      <td>purchase</td>\n      <td>$15,001 - $50,000</td>\n      <td>Hon. Virginia Foxx</td>\n      <td>NC05</td>\n      <td>https://disclosures-clerk.house.gov/public_dis...</td>\n      <td>False</td>\n    </tr>\n    <tr>\n      <th>3</th>\n      <td>2021</td>\n      <td>10/04/2021</td>\n      <td>2021-09-28</td>\n      <td>joint</td>\n      <td>PM</td>\n      <td>Phillip Morris International Inc</td>\n      <td>purchase</td>\n      <td>$15,001 - $50,000</td>\n      <td>Hon. Virginia Foxx</td>\n      <td>NC05</td>\n      <td>https://disclosures-clerk.house.gov/public_dis...</td>\n      <td>False</td>\n    </tr>\n    <tr>\n      <th>4</th>\n      <td>2021</td>\n      <td>10/04/2021</td>\n      <td>2021-09-17</td>\n      <td>self</td>\n      <td>BLK</td>\n      <td>BlackRock Inc</td>\n      <td>sale_partial</td>\n      <td>$1,001 - $15,000</td>\n      <td>Hon. Alan S. Lowenthal</td>\n      <td>CA47</td>\n      <td>https://disclosures-clerk.house.gov/public_dis...</td>\n      <td>False</td>\n    </tr>\n  </tbody>\n</table>\n</div>"
     },
     "execution_count": 102,
     "metadata": {},
     "output_type": "execute_result"
    }
   ],
   "source": [
    "house = pd.read_csv(\"data/raw/all_transactions_house.csv\")\n",
    "house.head()"
   ],
   "metadata": {
    "collapsed": false,
    "pycharm": {
     "name": "#%%\n"
    }
   }
  },
  {
   "cell_type": "markdown",
   "source": [
    "We remove rows with bad data and extraneous columns."
   ],
   "metadata": {
    "collapsed": false,
    "pycharm": {
     "name": "#%% md\n"
    }
   }
  },
  {
   "cell_type": "code",
   "execution_count": 103,
   "outputs": [
    {
     "data": {
      "text/plain": "  transaction_date  owner ticker          type             amount  \\\n0       2021-09-27  joint     BP      purchase   $1,001 - $15,000   \n1       2021-09-13  joint    XOM      purchase   $1,001 - $15,000   \n2       2021-09-10  joint   ILPT      purchase  $15,001 - $50,000   \n3       2021-09-28  joint     PM      purchase  $15,001 - $50,000   \n4       2021-09-17   self    BLK  sale_partial   $1,001 - $15,000   \n\n           representative district  cap_gains_over_200_usd  \n0      Hon. Virginia Foxx     NC05                   False  \n1      Hon. Virginia Foxx     NC05                   False  \n2      Hon. Virginia Foxx     NC05                   False  \n3      Hon. Virginia Foxx     NC05                   False  \n4  Hon. Alan S. Lowenthal     CA47                   False  ",
      "text/html": "<div>\n<style scoped>\n    .dataframe tbody tr th:only-of-type {\n        vertical-align: middle;\n    }\n\n    .dataframe tbody tr th {\n        vertical-align: top;\n    }\n\n    .dataframe thead th {\n        text-align: right;\n    }\n</style>\n<table border=\"1\" class=\"dataframe\">\n  <thead>\n    <tr style=\"text-align: right;\">\n      <th></th>\n      <th>transaction_date</th>\n      <th>owner</th>\n      <th>ticker</th>\n      <th>type</th>\n      <th>amount</th>\n      <th>representative</th>\n      <th>district</th>\n      <th>cap_gains_over_200_usd</th>\n    </tr>\n  </thead>\n  <tbody>\n    <tr>\n      <th>0</th>\n      <td>2021-09-27</td>\n      <td>joint</td>\n      <td>BP</td>\n      <td>purchase</td>\n      <td>$1,001 - $15,000</td>\n      <td>Hon. Virginia Foxx</td>\n      <td>NC05</td>\n      <td>False</td>\n    </tr>\n    <tr>\n      <th>1</th>\n      <td>2021-09-13</td>\n      <td>joint</td>\n      <td>XOM</td>\n      <td>purchase</td>\n      <td>$1,001 - $15,000</td>\n      <td>Hon. Virginia Foxx</td>\n      <td>NC05</td>\n      <td>False</td>\n    </tr>\n    <tr>\n      <th>2</th>\n      <td>2021-09-10</td>\n      <td>joint</td>\n      <td>ILPT</td>\n      <td>purchase</td>\n      <td>$15,001 - $50,000</td>\n      <td>Hon. Virginia Foxx</td>\n      <td>NC05</td>\n      <td>False</td>\n    </tr>\n    <tr>\n      <th>3</th>\n      <td>2021-09-28</td>\n      <td>joint</td>\n      <td>PM</td>\n      <td>purchase</td>\n      <td>$15,001 - $50,000</td>\n      <td>Hon. Virginia Foxx</td>\n      <td>NC05</td>\n      <td>False</td>\n    </tr>\n    <tr>\n      <th>4</th>\n      <td>2021-09-17</td>\n      <td>self</td>\n      <td>BLK</td>\n      <td>sale_partial</td>\n      <td>$1,001 - $15,000</td>\n      <td>Hon. Alan S. Lowenthal</td>\n      <td>CA47</td>\n      <td>False</td>\n    </tr>\n  </tbody>\n</table>\n</div>"
     },
     "execution_count": 103,
     "metadata": {},
     "output_type": "execute_result"
    }
   ],
   "source": [
    "house = house.drop([1956, 3381, 8975, 8976])\n",
    "\n",
    "house = house.loc[house.ticker != \"--\"].dropna()\n",
    "house = house.drop(columns=[\"ptr_link\", \"disclosure_date\", \"disclosure_year\", \"asset_description\"])\n",
    "house.head()"
   ],
   "metadata": {
    "collapsed": false,
    "pycharm": {
     "name": "#%%\n"
    }
   }
  },
  {
   "cell_type": "markdown",
   "source": [
    "Now we can fix the datatypes for the dates, and the upper and lower bounds for the stock amount traded."
   ],
   "metadata": {
    "collapsed": false,
    "pycharm": {
     "name": "#%% md\n"
    }
   }
  },
  {
   "cell_type": "code",
   "execution_count": 104,
   "outputs": [],
   "source": [
    "house['transaction_date'] = pd.to_datetime(house['transaction_date'])\n",
    "house['transaction_year'] = pd.DatetimeIndex(house['transaction_date']).year\n",
    "house['transaction_month'] = pd.DatetimeIndex(house['transaction_date']).month\n",
    "house['transaction_day'] = pd.DatetimeIndex(house['transaction_date']).day\n",
    "house[\"amount_lower\"] = pd.to_numeric( house[\"amount\"].replace(\"Over \", \"\", regex=True).replace(\"\\$\", \"\", regex=True).replace(\" -.*$\", \"\", regex=True).replace(\",\", \"\", regex=True))\n",
    "house[\"amount_upper\"] = pd.to_numeric( house[\"amount\"].replace(\"Over \", \"\", regex=True).replace(\"-$\", \"- 0\", regex=True).replace(\".* - \", \"\", regex=True).replace(\"\\$\", \"\", regex=True).replace( \",\", \"\", regex=True))\n",
    "house[\"representative\"] = house[\"representative\"].str.split(\" \", 1).str[1]"
   ],
   "metadata": {
    "collapsed": false,
    "pycharm": {
     "name": "#%%\n"
    }
   }
  },
  {
   "cell_type": "markdown",
   "source": [
    "Now we can parse through the data to isolate buying and selling of stock, the same way we did with the Senate filings."
   ],
   "metadata": {
    "collapsed": false,
    "pycharm": {
     "name": "#%% md\n"
    }
   }
  },
  {
   "cell_type": "code",
   "execution_count": 105,
   "outputs": [],
   "source": [
    "trades = []\n",
    "for representative in house[\"representative\"].unique():\n",
    "    data = house[house[\"representative\"] == representative]\n",
    "    data = data.sort_values(\"transaction_date\", ascending=True)\n",
    "    temp = {}\n",
    "    for row in data.itertuples():\n",
    "        weight = (row.amount_lower + row.amount_upper) / 2\n",
    "        if row.type == \"sale_full\":\n",
    "            if row.ticker in temp and row.ticker in house_stocks[\"Close\"]:\n",
    "                try:\n",
    "                    temp[row.ticker][\"sell_date\"] = row.transaction_date\n",
    "                    temp[row.ticker][\"weight\"] = weight\n",
    "                    buy = house_stocks[\"Close\"][row.ticker].loc[temp[row.ticker][\"transaction_date\"]]\n",
    "                    sell = house_stocks[\"Close\"][row.ticker].loc[row.transaction_date]\n",
    "                    temp[row.ticker][\"gain\"] = (sell - buy) / buy\n",
    "                    trades.append(temp[row.ticker])\n",
    "                    temp.pop(row.ticker)\n",
    "                except KeyError as e:\n",
    "                    print(e)\n",
    "        elif row.type == \"sale_partial\":\n",
    "            if row.ticker in temp and row.ticker in house_stocks[\"Close\"]:\n",
    "                try:\n",
    "                    temp[row.ticker][\"sell_date\"] = row.transaction_date\n",
    "                    temp[row.ticker][\"weight\"] = weight\n",
    "                    buy = house_stocks[\"Close\"][row.ticker].loc[temp[row.ticker][\"transaction_date\"]]\n",
    "                    sell = house_stocks[\"Close\"][row.ticker].loc[row.transaction_date]\n",
    "                    temp[row.ticker][\"gain\"] = (sell - buy) / buy\n",
    "                    trades.append(temp[row.ticker])\n",
    "                except KeyError as e:\n",
    "                    print(e)\n",
    "        elif row.type == \"purchase\":\n",
    "            row_dict = {}\n",
    "            for field in house.columns:\n",
    "                row_dict[field] = getattr(row, field)\n",
    "            temp[row.ticker] = row_dict\n",
    "\n",
    "house_trades = pd.DataFrame(trades)"
   ],
   "metadata": {
    "collapsed": false,
    "pycharm": {
     "name": "#%%\n"
    }
   }
  },
  {
   "cell_type": "markdown",
   "source": [
    "And finally, we can save the resulting dataframe to a CSV."
   ],
   "metadata": {
    "collapsed": false,
    "pycharm": {
     "name": "#%% md\n"
    }
   }
  },
  {
   "cell_type": "code",
   "execution_count": null,
   "outputs": [],
   "source": [
    "house_trades.to_csv(\"data/cleaned/house_trades.csv\")"
   ],
   "metadata": {
    "collapsed": false,
    "pycharm": {
     "name": "#%%\n"
    }
   }
  }
 ],
 "metadata": {
  "kernelspec": {
   "display_name": "Python 3",
   "language": "python",
   "name": "python3"
  },
  "language_info": {
   "codemirror_mode": {
    "name": "ipython",
    "version": 2
   },
   "file_extension": ".py",
   "mimetype": "text/x-python",
   "name": "python",
   "nbconvert_exporter": "python",
   "pygments_lexer": "ipython2",
   "version": "2.7.6"
  }
 },
 "nbformat": 4,
 "nbformat_minor": 0
}